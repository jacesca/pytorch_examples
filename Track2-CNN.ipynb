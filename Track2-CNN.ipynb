{
 "cells": [
  {
   "cell_type": "markdown",
   "id": "3722ed26-d73e-4d3e-83e9-500a6ca2c7f0",
   "metadata": {},
   "source": [
    "# 2. Images & Convolutional Neural Networks\n",
    "\n",
    "Train neural networks to solve image classification tasks. In this chapter, you will learn how to handle image data in PyTorch and get to grips with convolutional neural networks (CNNs). You will practice training and evaluating an image classifier while learning about how to improve the model performance with data augmentation.\n",
    "\n",
    "## Prepare environment"
   ]
  },
  {
   "cell_type": "code",
   "execution_count": 1,
   "id": "a70a9df8-0d80-4088-b055-36a74c7db747",
   "metadata": {},
   "outputs": [],
   "source": [
    "# Importing libraries\n",
    "import expectexception\n",
    "import matplotlib.pyplot as plt\n",
    "import numpy as np\n",
    "import pandas as pd\n",
    "import os\n",
    "\n",
    "import torch\n",
    "import torch.nn as nn\n",
    "import torch.optim as optim\n",
    "\n",
    "from environment import prepare_environment\n",
    "from pprint import pprint\n",
    "\n",
    "from torch.utils.data import Dataset, DataLoader\n",
    "from torchvision.datasets import ImageFolder\n",
    "from torchvision import transforms\n",
    "from torchmetrics import Precision, Recall"
   ]
  },
  {
   "cell_type": "code",
   "execution_count": 2,
   "id": "766ace64-e5d9-487f-afda-bc0ea94bfcd9",
   "metadata": {},
   "outputs": [],
   "source": [
    "# Global variables\n",
    "SEED = 42\n",
    "\n",
    "DATASET_CLOUD_TRAIN = \"data-sources/clouds/clouds_train/\"\n",
    "DATASET_CLOUD_TEST = \"data-sources/clouds/clouds_test/\""
   ]
  },
  {
   "cell_type": "code",
   "execution_count": 3,
   "id": "4f229d9e-4f34-4caa-9661-9ca7c3f62af6",
   "metadata": {},
   "outputs": [
    {
     "name": "stdout",
     "output_type": "stream",
     "text": [
      "2.4.1+cu124\n",
      "Cuda is available? True\n"
     ]
    }
   ],
   "source": [
    "# Check if your GPU driver and CUDA is enabled and accessible by PyTorch\n",
    "print(torch.__version__)\n",
    "print('Cuda is available?', torch.cuda.is_available())"
   ]
  },
  {
   "cell_type": "code",
   "execution_count": 4,
   "id": "55ca5f58-bf84-4404-9716-e3b387b6bfdc",
   "metadata": {},
   "outputs": [
    {
     "data": {
      "text/plain": [
       "<torch._C.Generator at 0x1c431121790>"
      ]
     },
     "execution_count": 4,
     "metadata": {},
     "output_type": "execute_result"
    }
   ],
   "source": [
    "# Global configuration\n",
    "prepare_environment()\n",
    "\n",
    "torch.set_printoptions(precision=10)\n",
    "\n",
    "# Reproducibility\n",
    "np.random.seed(SEED)\n",
    "torch.manual_seed(SEED)"
   ]
  },
  {
   "cell_type": "markdown",
   "id": "d3339ea4-a8bd-4196-a10f-1a5ea4472dc1",
   "metadata": {},
   "source": [
    "## 2.1 Handling images with PyTorch\n",
    "\n",
    "### Reviewing the Cloud Image Dataset"
   ]
  },
  {
   "cell_type": "code",
   "execution_count": 5,
   "id": "48b861ac-828f-4fb2-b9f7-62173ea563f2",
   "metadata": {},
   "outputs": [
    {
     "name": "stdout",
     "output_type": "stream",
     "text": [
      "TRAIN DATASET:\n",
      "- cirriform clouds: 66\n",
      "- clear sky: 60\n",
      "- cumulonimbus clouds: 14\n",
      "- cumulus clouds: 91\n",
      "- high cumuliform clouds: 133\n",
      "- stratiform clouds: 49\n",
      "- stratocumulus clouds: 61\n",
      "Total images: 474\n"
     ]
    }
   ],
   "source": [
    "print('TRAIN DATASET:')\n",
    "total = 0\n",
    "for directory in os.listdir(DATASET_CLOUD_TRAIN):\n",
    "    num_files = sum([len(f) for _, _, f in os.walk(DATASET_CLOUD_TRAIN + directory)])\n",
    "    print(f'- {directory}: {num_files}')\n",
    "    total += num_files\n",
    "print('Total images:', total)"
   ]
  },
  {
   "cell_type": "code",
   "execution_count": 6,
   "id": "a4e83e07-b7ff-4383-b48c-0711b3d696bb",
   "metadata": {},
   "outputs": [
    {
     "name": "stdout",
     "output_type": "stream",
     "text": [
      "TEST DATASET:\n",
      "- cirriform clouds: 77\n",
      "- clear sky: 64\n",
      "- cumulonimbus clouds: 11\n",
      "- cumulus clouds: 120\n",
      "- high cumuliform clouds: 103\n",
      "- stratiform clouds: 40\n",
      "- stratocumulus clouds: 71\n",
      "Total images: 486\n"
     ]
    }
   ],
   "source": [
    "print('TEST DATASET:')\n",
    "total = 0\n",
    "for directory in os.listdir(DATASET_CLOUD_TEST):\n",
    "    num_files = sum([len(f) for _, _, f in os.walk(DATASET_CLOUD_TEST + directory)])\n",
    "    print(f'- {directory}: {num_files}')\n",
    "    total += num_files\n",
    "print('Total images:', total)"
   ]
  },
  {
   "cell_type": "markdown",
   "id": "289a722c-c317-43df-aa76-9f7c480b3bb7",
   "metadata": {},
   "source": [
    "### Loading images to PyTorch"
   ]
  },
  {
   "cell_type": "code",
   "execution_count": 7,
   "id": "1a0e032e-b33e-4707-97a4-95d3174f9d31",
   "metadata": {},
   "outputs": [
    {
     "name": "stdout",
     "output_type": "stream",
     "text": [
      "Number of images in train dataset: 474\n"
     ]
    },
    {
     "data": {
      "text/plain": [
       "Dataset ImageFolder\n",
       "    Number of datapoints: 474\n",
       "    Root location: data-sources/clouds/clouds_train/\n",
       "    StandardTransform\n",
       "Transform: Compose(\n",
       "               ToTensor()\n",
       "               Resize(size=(128, 128), interpolation=bilinear, max_size=None, antialias=True)\n",
       "           )"
      ]
     },
     "execution_count": 7,
     "metadata": {},
     "output_type": "execute_result"
    }
   ],
   "source": [
    "train_transforms = transforms.Compose([transforms.ToTensor(),\n",
    "                                       transforms.Resize((128, 128)),\n",
    "                                      ])\n",
    "\n",
    "dataset_train = ImageFolder(DATASET_CLOUD_TRAIN,\n",
    "                            transform=train_transforms,)\n",
    "print(\"Number of images in train dataset:\", len(dataset_train))\n",
    "dataset_train"
   ]
  },
  {
   "cell_type": "code",
   "execution_count": 8,
   "id": "ab57d9a1-b76d-438f-a6b2-f049310def74",
   "metadata": {},
   "outputs": [
    {
     "name": "stdout",
     "output_type": "stream",
     "text": [
      "Labels included in dataset\n",
      "{'cirriform clouds': 0,\n",
      " 'clear sky': 1,\n",
      " 'cumulonimbus clouds': 2,\n",
      " 'cumulus clouds': 3,\n",
      " 'high cumuliform clouds': 4,\n",
      " 'stratiform clouds': 5,\n",
      " 'stratocumulus clouds': 6}\n"
     ]
    }
   ],
   "source": [
    "# Reviewing labels in datasets\n",
    "print(\"Labels included in dataset\")\n",
    "pprint(dataset_train.class_to_idx)"
   ]
  },
  {
   "cell_type": "markdown",
   "id": "7bcd5fff-bd2f-47b3-83d5-f7bcebd10da6",
   "metadata": {},
   "source": [
    "### Displaying images"
   ]
  },
  {
   "cell_type": "code",
   "execution_count": 9,
   "id": "795b03a8-954e-4f43-8478-dd2b41d37c80",
   "metadata": {},
   "outputs": [
    {
     "name": "stdout",
     "output_type": "stream",
     "text": [
      "Data point: torch.Size([1, 3, 128, 128])\n",
      "Image reshaped torch.Size([128, 128, 3])\n"
     ]
    }
   ],
   "source": [
    "dataloader_train = DataLoader(dataset_train, shuffle=True, batch_size=1,)\n",
    "\n",
    "image, label = next(iter(dataloader_train))\n",
    "print(\"Data point:\", image.shape)\n",
    "\n",
    "image = image.squeeze()\n",
    "image = image.permute(1, 2, 0)\n",
    "print(\"Image reshaped\", image.shape)"
   ]
  },
  {
   "cell_type": "code",
   "execution_count": 10,
   "id": "1ed47002-ba5c-4fe0-ae58-a2660abba3b9",
   "metadata": {},
   "outputs": [
    {
     "data": {
      "image/png": "[encoded data removed]",
      "text/plain": [
       "<Figure size 200x200 with 1 Axes>"
      ]
     },
     "metadata": {},
     "output_type": "display_data"
    }
   ],
   "source": [
    "fig = plt.figure(figsize=(2, 2))\n",
    "plt.imshow(image)\n",
    "plt.show()"
   ]
  },
  {
   "cell_type": "markdown",
   "id": "2e307ee1-54d5-4c11-8b17-d3315a6068be",
   "metadata": {},
   "source": [
    "### Data augmentation"
   ]
  },
  {
   "cell_type": "code",
   "execution_count": 11,
   "id": "a456faf5-e21b-4b7a-8a36-9c61f582ad6f",
   "metadata": {},
   "outputs": [
    {
     "name": "stdout",
     "output_type": "stream",
     "text": [
      "Number of images in train dataset: 474\n",
      "Data point: torch.Size([1, 3, 128, 128])\n",
      "Image reshaped torch.Size([128, 128, 3])\n"
     ]
    },
    {
     "data": {
      "image/png": "[encoded data removed]",
      "text/plain": [
       "<Figure size 200x200 with 1 Axes>"
      ]
     },
     "metadata": {},
     "output_type": "display_data"
    }
   ],
   "source": [
    "train_transforms = transforms.Compose([transforms.RandomHorizontalFlip(),\n",
    "                                       transforms.RandomRotation(45),\n",
    "                                       transforms.ToTensor(),\n",
    "                                       transforms.Resize((128, 128)),\n",
    "])\n",
    "\n",
    "dataset_train = ImageFolder(DATASET_CLOUD_TRAIN, transform=train_transforms)\n",
    "print(\"Number of images in train dataset:\", len(dataset_train))\n",
    "\n",
    "dataloader_train = DataLoader(dataset_train, shuffle=True, batch_size=1,)\n",
    "\n",
    "image, label = next(iter(dataloader_train))\n",
    "print(\"Data point:\", image.shape)\n",
    "\n",
    "image = image.squeeze()\n",
    "image = image.permute(1, 2, 0)\n",
    "print(\"Image reshaped\", image.shape)\n",
    "\n",
    "fig = plt.figure(figsize=(2, 2))\n",
    "plt.imshow(image)\n",
    "plt.show()"
   ]
  },
  {
   "cell_type": "markdown",
   "id": "085dbf9a-fcd5-4aef-b937-9bdfc3ab070f",
   "metadata": {},
   "source": [
    "### Ex.1 - Image dataset\n",
    "Let's start with building a Torch Dataset of images. You'll use it to explore the data and, later, to feed it into a model.\n",
    "\n",
    "The training data for the cloud classification task is stored in the following directory structure:\n",
    "\n",
    "```\n",
    "clouds_train\n",
    "    - cirriform clouds\n",
    "        - 539cd1c356e9c14749988a12fdf6c515.jpg\n",
    "        - ...\n",
    "    - clear sky\n",
    "    - cumulonimbus clouds\n",
    "    - cumulus clouds\n",
    "    - high cumuliform clouds\n",
    "    - stratiform clouds\n",
    "    - stratocumulus clouds\n",
    "```\n",
    "\n",
    "There are seven folders inside `clouds_train`, each representing one cloud type (or a clear sky). Inside each of these folders sit corresponding image files.\n",
    "\n",
    "The following imports have already been done for you:\n",
    "\n",
    "```\n",
    "from torchvision.datasets import ImageFolder\n",
    "from torchvision import transforms\n",
    "```\n",
    "\n",
    "**Instructions**\n",
    "\n",
    "1. Compose two transformations, the first, to parse the image to a tensor, and one to resize the image to `128` by `128`, assigning them to train_transforms.\n",
    "2. Use `ImageFolder` to define `dataset_train`, passing it the directory path to the data (`\"clouds_train\"`) and the transforms defined earlier."
   ]
  },
  {
   "cell_type": "code",
   "execution_count": 12,
   "id": "830b4d0f-6972-492c-affb-eb6d835303ca",
   "metadata": {},
   "outputs": [
    {
     "name": "stdout",
     "output_type": "stream",
     "text": [
      "Number of images in train dataset: 474\n"
     ]
    }
   ],
   "source": [
    "# Compose transformations\n",
    "train_transforms = transforms.Compose([transforms.RandomHorizontalFlip(),\n",
    "                                       transforms.ToTensor(),\n",
    "                                       transforms.Resize((128, 128))])\n",
    "\n",
    "# Create Dataset using ImageFolder\n",
    "dataset_train = ImageFolder(DATASET_CLOUD_TRAIN, transform=train_transforms)\n",
    "print(\"Number of images in train dataset:\", len(dataset_train))"
   ]
  },
  {
   "cell_type": "markdown",
   "id": "2f91bbc9-2219-4c07-b4d2-1454c6dc9fff",
   "metadata": {},
   "source": [
    "### Ex.2 - Data augmentation in PyTorch\n",
    "\n",
    "Let's include data augmentation in your Dataset and inspect some images visually to make sure the desired transformations are applied.\n",
    "\n",
    "First, you'll add the augmenting transformations to `train_transforms`. Let's use a random horizontal flip and a rotation by a random angle between `0` and `45` degrees. The code that follows to create the Dataset and the DataLoader is exactly the same as before. Finally, you'll reshape the image and display it to see if the new augmenting transformations are visible.\n",
    "\n",
    "All the imports you need have been called for you:\n",
    "```\n",
    "from torchvision.datasets import ImageFolder\n",
    "from torch.utils.data import DataLoader\n",
    "from torchvision import transforms\n",
    "import matplotlib.pyplot as plt\n",
    "```\n",
    "\n",
    "Time to augment some cloud photos!\n",
    "\n",
    "**Instructions**\n",
    "\n",
    "1. Add two more transformations to `train_transforms` to perform a random horizontal flip and then a rotation by a random angle between 0 and 45 degrees.\n",
    "2. Reshape the `image` tensor from the DataLoader to make it suitable for display.\n",
    "3. Display the image."
   ]
  },
  {
   "cell_type": "code",
   "execution_count": 13,
   "id": "1898bf66-bd3a-4b4a-a67d-a38ec5fb75c9",
   "metadata": {},
   "outputs": [
    {
     "name": "stdout",
     "output_type": "stream",
     "text": [
      "Number of images in train dataset: 474\n",
      "Data point: torch.Size([1, 3, 128, 128])\n",
      "Image reshaped torch.Size([128, 128, 3])\n"
     ]
    },
    {
     "data": {
      "image/png": "[encoded data removed]",
      "text/plain": [
       "<Figure size 200x200 with 1 Axes>"
      ]
     },
     "metadata": {},
     "output_type": "display_data"
    }
   ],
   "source": [
    "# Prepare image transformations\n",
    "train_transforms = transforms.Compose([transforms.RandomHorizontalFlip(),\n",
    "                                       transforms.RandomRotation(degrees=(0, 45)),\n",
    "                                       transforms.ToTensor(),\n",
    "                                       transforms.Resize((128, 128)),\n",
    "                                      ])\n",
    "\n",
    "# Define the dataloader\n",
    "dataset_train = ImageFolder(DATASET_CLOUD_TRAIN,\n",
    "                            transform=train_transforms,)\n",
    "print(\"Number of images in train dataset:\", len(dataset_train))\n",
    "dataloader_train = DataLoader(dataset_train, shuffle=True, batch_size=1)\n",
    "\n",
    "# Review the result\n",
    "image, label = next(iter(dataloader_train))\n",
    "print(\"Data point:\", image.shape)\n",
    "image = image.squeeze()\n",
    "image = image.permute(1, 2, 0)\n",
    "print(\"Image reshaped\", image.shape)\n",
    "fig = plt.figure(figsize=(2, 2))\n",
    "plt.imshow(image)\n",
    "plt.show()"
   ]
  },
  {
   "cell_type": "markdown",
   "id": "a953c046-0a80-48e3-a9f4-d7815445a9d3",
   "metadata": {},
   "source": [
    "## 2.2 Convolutional Neural Networks\n",
    "\n",
    "### Model ImageClassifierModel64X64"
   ]
  },
  {
   "cell_type": "code",
   "execution_count": 14,
   "id": "a5986584-e4c7-47fd-8534-f476c3599731",
   "metadata": {},
   "outputs": [
    {
     "data": {
      "text/plain": [
       "ImageClassifierModel64X64(\n",
       "  (feature_extractor): Sequential(\n",
       "    (0): Conv2d(3, 32, kernel_size=(3, 3), stride=(1, 1), padding=(1, 1))\n",
       "    (1): ELU(alpha=1.0)\n",
       "    (2): MaxPool2d(kernel_size=2, stride=2, padding=0, dilation=1, ceil_mode=False)\n",
       "    (3): Conv2d(32, 64, kernel_size=(3, 3), stride=(1, 1), padding=(1, 1))\n",
       "    (4): ELU(alpha=1.0)\n",
       "    (5): MaxPool2d(kernel_size=2, stride=2, padding=0, dilation=1, ceil_mode=False)\n",
       "    (6): Flatten(start_dim=1, end_dim=-1)\n",
       "  )\n",
       "  (classifier): Linear(in_features=16384, out_features=7, bias=True)\n",
       ")"
      ]
     },
     "execution_count": 14,
     "metadata": {},
     "output_type": "execute_result"
    }
   ],
   "source": [
    "class ImageClassifierModel64X64(nn.Module):\n",
    "    \"\"\"CNN Model implementation in the weather cloud classifier.\"\"\"\n",
    "    def __init__(self, num_classes:int) -> None:\n",
    "        super().__init__()\n",
    "        torch.manual_seed(SEED)\n",
    "        \n",
    "        self.feature_extractor = nn.Sequential(           # Imagine input images 3 X 64 X 64 (channel, width, height)\n",
    "            nn.Conv2d(3, 32, kernel_size=3, padding=1),   # Input channel=3, output channel=32 → 32 x 64 x 64\n",
    "            nn.ELU(),                                     # No Changes → 32 x 64 x 64\n",
    "            nn.MaxPool2d(kernel_size=2),                  # Divide image size by 2 → 32 x 32 x 32\n",
    "            nn.Conv2d(32, 64, kernel_size=3, padding=1),  # Input channel=32, output channel=64 → 64 x 32 x 32\n",
    "            nn.ELU(),                                     # No Changes → 64 x 32 x 32\n",
    "            nn.MaxPool2d(kernel_size=2),                  # Divide image size by 2 → 64 x 16 x 16\n",
    "            nn.Flatten(),                                 # Flatten image → 64 x 16 x 16\n",
    "        )\n",
    "        self.classifier = nn.Linear(64*16*16, num_classes)\n",
    "\n",
    "    def forward(self, x):\n",
    "        x = self.feature_extractor(x)\n",
    "        x = self.classifier(x)\n",
    "        return x\n",
    "temp = ImageClassifierModel64X64(num_classes=7)\n",
    "temp"
   ]
  },
  {
   "cell_type": "markdown",
   "id": "9af663a4-f435-48ce-a358-de7f8508457d",
   "metadata": {},
   "source": [
    "### Ex.3 - Building convolutional networks\n",
    "You are on a team building a weather forecasting system. As part of the system, cameras will be installed at various locations to take pictures of the sky. Your task is to build a model to classify different cloud types in these pictures, which will help spot approaching weather fronts.\n",
    "\n",
    "You decide to build a convolutional image classifier. The model will consist of two parts:\n",
    "\n",
    "- A feature extractor that learns a vector of features from the input image,\n",
    "- A classifier that predicts the image's class based on the learned features.\n",
    "\n",
    "Both `torch` and `torch.nn` as `nn` have already been imported for you, so let's get to it!\n",
    "\n",
    "**Instructions**\n",
    "\n",
    "1. Define the `feature_extractor` part of the model by adding another convolutional layer with `64` output feature maps, the ELU activation, and a max pooling layer with a window of size two; at the end, flatten the output.\n",
    "\n",
    "-----------------------\n",
    "```\n",
    "class Net(nn.Module):\n",
    "    def __init__(self, num_classes):\n",
    "        super().__init__()\n",
    "        # Define feature extractor\n",
    "        self.feature_extractor = nn.Sequential(\n",
    "            nn.Conv2d(3, 32, kernel_size=3, padding=1),\n",
    "            nn.ELU(),\n",
    "            nn.MaxPool2d(kernel_size=2),\n",
    "            nn.Conv2d(32, 64, kernel_size=3, padding=1),\n",
    "            nn.ELU(),\n",
    "            nn.MaxPool2d(kernel_size=2),\n",
    "            nn.Flatten(),\n",
    "        )\n",
    "        # Define classifier\n",
    "        self.classifier = nn.Linear(64*16*16, num_classes)\n",
    "    \n",
    "    def forward(self, x):  \n",
    "        # Pass input through feature extractor and classifier\n",
    "        x = self.feature_extractor(x)\n",
    "        x = self.classifier(x)\n",
    "        return x\n",
    "```"
   ]
  },
  {
   "cell_type": "markdown",
   "id": "8d93f063-ed42-4b23-9201-aefcabb993bf",
   "metadata": {},
   "source": [
    "## 2.3 Training image classifiers\n",
    "\n",
    "### Augmentations for cloud classification"
   ]
  },
  {
   "cell_type": "code",
   "execution_count": 15,
   "id": "a68951f3-bffa-4ddc-9f14-214d730475e0",
   "metadata": {},
   "outputs": [
    {
     "name": "stdout",
     "output_type": "stream",
     "text": [
      "Number of images in train dataset: 474\n",
      "Labels included in dataset\n",
      "{'cirriform clouds': 0,\n",
      " 'clear sky': 1,\n",
      " 'cumulonimbus clouds': 2,\n",
      " 'cumulus clouds': 3,\n",
      " 'high cumuliform clouds': 4,\n",
      " 'stratiform clouds': 5,\n",
      " 'stratocumulus clouds': 6}\n"
     ]
    }
   ],
   "source": [
    "train_transforms = transforms.Compose([\n",
    "    transforms.RandomHorizontalFlip(),\n",
    "    transforms.RandomRotation(45),\n",
    "    transforms.RandomAutocontrast(),\n",
    "    transforms.ToTensor(),\n",
    "    transforms.Resize((128, 128))\n",
    "])\n",
    "\n",
    "dataset_train = ImageFolder(DATASET_CLOUD_TRAIN, transform=train_transforms,)\n",
    "print(\"Number of images in train dataset:\", len(dataset_train))\n",
    "dataloader_train = DataLoader(dataset_train, shuffle=True, batch_size=10,)\n",
    "\n",
    "# Reviewing labels in datasets\n",
    "print(\"Labels included in dataset\")\n",
    "pprint(dataset_train.class_to_idx)"
   ]
  },
  {
   "cell_type": "markdown",
   "id": "3b2ff32e-ad64-40f5-9a5a-8f3557f81113",
   "metadata": {},
   "source": [
    "### Model ImageClassifierModel128*128"
   ]
  },
  {
   "cell_type": "code",
   "execution_count": 16,
   "id": "adfa8f15-5ccc-4389-999e-26e1cf493466",
   "metadata": {},
   "outputs": [],
   "source": [
    "class ImageClassifierModel128X128(nn.Module):\n",
    "    \"\"\"CNN model for image cloud classifier problems.\n",
    "    \"\"\"\n",
    "    def __init__(self, num_classes:int, seed:int=SEED) -> None:\n",
    "        super().__init__()\n",
    "        torch.manual_seed(SEED)\n",
    "        \n",
    "        self.feature_extractor = nn.Sequential(           # Input images 3 X 128 X 128 (channel, width, height)\n",
    "            nn.Conv2d(3, 32, kernel_size=3, padding=1),   # Input channel=3, output channel=32 → 32 x 128 x 128\n",
    "            nn.ELU(),                                     # No Changes → 32 x 128 x 128\n",
    "            nn.MaxPool2d(kernel_size=2),                  # Divide image size by 2 → 32 x 64 x 64\n",
    "            nn.Conv2d(32, 64, kernel_size=3, padding=1),  # Input channel=32, output channel=64 → 64 x 64 x 64\n",
    "            nn.ELU(),                                     # No Changes → 64 x 64 x 64\n",
    "            nn.MaxPool2d(kernel_size=2),                  # Divide image size by 2 → 64 x 32 x 32\n",
    "            nn.Flatten(),                                 # Flatten image → 64 x 32 x 32\n",
    "        )\n",
    "        self.classifier = nn.Linear(64*32*32, num_classes)\n",
    "        \n",
    "    def forward(self, x:torch.Tensor) -> torch.Tensor:\n",
    "        x = self.feature_extractor(x)\n",
    "        x = self.classifier(x)\n",
    "        return x"
   ]
  },
  {
   "cell_type": "markdown",
   "id": "a6d7e67b-e2e3-4b3d-8996-6d508640444e",
   "metadata": {},
   "source": [
    "### Build the model"
   ]
  },
  {
   "cell_type": "code",
   "execution_count": 17,
   "id": "a2139e09-f398-45cf-a8c9-89599888fd7e",
   "metadata": {},
   "outputs": [
    {
     "name": "stdout",
     "output_type": "stream",
     "text": [
      "ImageClassifierModel128X128(\n",
      "  (feature_extractor): Sequential(\n",
      "    (0): Conv2d(3, 32, kernel_size=(3, 3), stride=(1, 1), padding=(1, 1))\n",
      "    (1): ELU(alpha=1.0)\n",
      "    (2): MaxPool2d(kernel_size=2, stride=2, padding=0, dilation=1, ceil_mode=False)\n",
      "    (3): Conv2d(32, 64, kernel_size=(3, 3), stride=(1, 1), padding=(1, 1))\n",
      "    (4): ELU(alpha=1.0)\n",
      "    (5): MaxPool2d(kernel_size=2, stride=2, padding=0, dilation=1, ceil_mode=False)\n",
      "    (6): Flatten(start_dim=1, end_dim=-1)\n",
      "  )\n",
      "  (classifier): Linear(in_features=65536, out_features=7, bias=True)\n",
      ")\n"
     ]
    }
   ],
   "source": [
    "# Build the model\n",
    "model128X128 = ImageClassifierModel128X128(num_classes=7)\n",
    "print(model128X128)\n",
    "\n",
    "# Set the criterion and teh optimizer\n",
    "criterion = nn.CrossEntropyLoss()\n",
    "optimizer = optim.Adam(model128X128.parameters(), lr=0.001)"
   ]
  },
  {
   "cell_type": "code",
   "execution_count": 18,
   "id": "ce2bf74c-7031-48ce-a8a4-ddc96e337723",
   "metadata": {},
   "outputs": [
    {
     "name": "stdout",
     "output_type": "stream",
     "text": [
      "Epoch [1], Loss: 1.887146\n",
      "Epoch [2], Loss: 1.566640\n",
      "Epoch [3], Loss: 1.093598\n",
      "Epoch [4], Loss: 1.180845\n",
      "Epoch [5], Loss: 1.480847\n",
      "Epoch [6], Loss: 1.369050\n",
      "Epoch [7], Loss: 2.060340\n",
      "Epoch [8], Loss: 1.228644\n",
      "Epoch [9], Loss: 0.985049\n",
      "Epoch [10], Loss: 0.966866\n"
     ]
    }
   ],
   "source": [
    "# Train the model\n",
    "losses = []\n",
    "\n",
    "epochs = 10\n",
    "model128X128.train()\n",
    "for epoch in range(epochs):\n",
    "    for X, y in dataloader_train:                   # Get feature and target from the data loader\n",
    "        optimizer.zero_grad()                       # zero the parameter gradients\n",
    "        y_out = model128X128(X)                     # Run a forward pass\n",
    "        loss = criterion(y_out, y)                  # Compute loss\n",
    "        loss.backward()                             # Backward pass\n",
    "        optimizer.step()                            # Optimization\n",
    "\n",
    "    losses.append(loss.item())                      # Record the loss per epoch\n",
    "    \n",
    "    print(f'Epoch [{epoch+1}], Loss: {loss.item():.6f}')"
   ]
  },
  {
   "cell_type": "code",
   "execution_count": 19,
   "id": "56feb9ce-611a-4434-86be-f48e40dc1358",
   "metadata": {},
   "outputs": [
    {
     "data": {
      "image/png": "[encoded data removed]",
      "text/plain": [
       "<Figure size 1000x400 with 1 Axes>"
      ]
     },
     "metadata": {},
     "output_type": "display_data"
    }
   ],
   "source": [
    "# Visualizing the loss and accuracy in training set\n",
    "fig = plt.figure(figsize=(10, 4))\n",
    "plt.plot(range(epochs), losses)\n",
    "plt.title(\"Training Loss over Epochs\")\n",
    "plt.xlabel('Epochs')\n",
    "plt.ylabel('Loss')\n",
    "plt.show()"
   ]
  },
  {
   "cell_type": "markdown",
   "id": "209355ec-fa52-42d4-96b2-3f0216f67a0f",
   "metadata": {},
   "source": [
    "### Ex.4 - Dataset with augmentations\n",
    "You have already built the image dataset from cloud pictures and the convolutional model to classify different cloud types. Before you train it, let's adapt the dataset by adding the augmentations that could improve the model's cloud classification performance.\n",
    "\n",
    "The code to set up the Dataset and DataLoader is already prepared for you and should look familiar. Your task is to define the composition of transforms that will be applied to the input images as they are loaded.\n",
    "\n",
    "Note that before you were resizing images to 128 by 128 to display them nicely, but now you will use smaller ones to speed up training. As you will see later, 64 by 64 will be large enough for the model to learn.\n",
    "\n",
    "`from torchvision import transforms` has been already executed for you, so let's get to it!\n",
    "\n",
    "**Instructions**\n",
    "\n",
    "1. Define `train_transforms` by composing together five transformations: a random horizontal flip, random rotation (by angle from 0 to 45 degrees), random automatic contrast adjustment, parsing to tensor, and resizing to 64 by 64 pixels."
   ]
  },
  {
   "cell_type": "code",
   "execution_count": 20,
   "id": "4f6589aa-f6e1-4ec7-ad90-b5fc002ba9a2",
   "metadata": {},
   "outputs": [
    {
     "name": "stdout",
     "output_type": "stream",
     "text": [
      "Number of images in train dataset: 474\n",
      "Features Shape torch.Size([16, 3, 64, 64])\n",
      "Label Shape torch.Size([16])\n"
     ]
    }
   ],
   "source": [
    "# Define transforms\n",
    "train_transforms = transforms.Compose([\n",
    "    transforms.RandomHorizontalFlip(),\n",
    "    transforms.RandomRotation(45),\n",
    "    transforms.RandomAutocontrast(),\n",
    "    transforms.ToTensor(),\n",
    "    transforms.Resize((64, 64))\n",
    "])\n",
    "\n",
    "dataset_train = ImageFolder(DATASET_CLOUD_TRAIN, transform=train_transforms)\n",
    "dataloader_train = DataLoader(dataset_train, shuffle=True, batch_size=16)\n",
    "print(\"Number of images in train dataset:\", len(dataset_train))\n",
    "\n",
    "image, label = next(iter(dataloader_train))\n",
    "print(\"Features Shape\", image.shape)\n",
    "print(\"Label Shape\", label.shape)"
   ]
  },
  {
   "cell_type": "markdown",
   "id": "f14ad75d-9060-46b9-8dd0-8e25e12c063b",
   "metadata": {},
   "source": [
    "### Ex.5 - Image classifier training loop\n",
    "It's time to train the image classifier! You will use the model you defined earlier and train it to distinguish between seven cloud types.\n",
    "\n",
    "To define the loss and optimizer, you will need to use functions from `torch.nn` and `torch.optim`, imported for you as `nn` and `optim`, respectively. You don't need to change anything in the training loop itself: it's exactly like the ones you wrote before, with some additional logic to print the loss during training.\n",
    "\n",
    "**Instructions**\n",
    "\n",
    "1. Define the model using your model class with `num_classes` set to `7`.\n",
    "2. Define the loss function as cross-entropy loss and assign it to `criterion`.\n",
    "3. Define the optimizer as Adam, passing it the model's parameters and the learning rate of `0.001`, and assign it to `optimizer`.\n",
    "4. Start the training for-loop by iterating over training `images` and `labels`."
   ]
  },
  {
   "cell_type": "code",
   "execution_count": 21,
   "id": "5604e815-5b38-46dd-bfde-c7cdeccb10e9",
   "metadata": {},
   "outputs": [
    {
     "name": "stdout",
     "output_type": "stream",
     "text": [
      "Epoch 10, Loss: 1.071770\n",
      "Epoch 20, Loss: 0.847502\n",
      "Epoch 30, Loss: 0.702454\n",
      "Epoch 40, Loss: 0.606812\n",
      "Epoch 50, Loss: 0.605388\n",
      "Epoch 60, Loss: 0.473880\n",
      "Epoch 70, Loss: 0.420049\n",
      "Epoch 80, Loss: 0.424012\n",
      "Epoch 90, Loss: 0.359085\n",
      "Epoch 100, Loss: 0.368359\n"
     ]
    }
   ],
   "source": [
    "# Define the model\n",
    "model64X64 = ImageClassifierModel64X64(num_classes=7)\n",
    "\n",
    "# Define loss function and optimizer\n",
    "criterion = nn.CrossEntropyLoss()\n",
    "optimizer = optim.Adam(model64X64.parameters(), lr=0.001)\n",
    "\n",
    "# Loop training\n",
    "epochs = 100\n",
    "losses = []\n",
    "for epoch in range(epochs):\n",
    "    running_loss = 0.0\n",
    "\n",
    "    # Iterate over training batches\n",
    "    for images, labels in dataloader_train:\n",
    "        optimizer.zero_grad()\n",
    "        outputs = model64X64(images)\n",
    "        loss = criterion(outputs, labels)\n",
    "        loss.backward()\n",
    "        optimizer.step()\n",
    "        running_loss += loss.item()\n",
    "\n",
    "    epoch_loss = running_loss / len(dataloader_train)\n",
    "    losses.append(epoch_loss)\n",
    "    if (epoch + 1) % 10 == 0:\n",
    "        print(f\"Epoch {epoch+1}, Loss: {epoch_loss:.6f}\")"
   ]
  },
  {
   "cell_type": "code",
   "execution_count": 22,
   "id": "84a92eaf-9bf8-4cc1-a90c-3bfbfb0bc98d",
   "metadata": {},
   "outputs": [
    {
     "data": {
      "image/png": "[encoded data removed]",
      "text/plain": [
       "<Figure size 1000x400 with 1 Axes>"
      ]
     },
     "metadata": {},
     "output_type": "display_data"
    }
   ],
   "source": [
    "# Visualizing the loss and accuracy in training set\n",
    "fig = plt.figure(figsize=(10, 4))\n",
    "plt.plot(range(epochs), losses)\n",
    "plt.title(\"Training Loss over Epochs\")\n",
    "plt.xlabel('Epochs')\n",
    "plt.ylabel('Loss')\n",
    "plt.show()"
   ]
  },
  {
   "cell_type": "markdown",
   "id": "f90e4f37-c448-4fba-b4ee-556aa7228984",
   "metadata": {},
   "source": [
    "## 2.4 Evaluating image classifiers\n",
    "\n",
    "### Data augmentation at test time"
   ]
  },
  {
   "cell_type": "code",
   "execution_count": 23,
   "id": "53ce9451-f770-4000-bb5f-ac727b829767",
   "metadata": {},
   "outputs": [
    {
     "name": "stdout",
     "output_type": "stream",
     "text": [
      "Number of images in test dataset: 486\n",
      "Labels included in dataset\n",
      "{'cirriform clouds': 0,\n",
      " 'clear sky': 1,\n",
      " 'cumulonimbus clouds': 2,\n",
      " 'cumulus clouds': 3,\n",
      " 'high cumuliform clouds': 4,\n",
      " 'stratiform clouds': 5,\n",
      " 'stratocumulus clouds': 6}\n"
     ]
    }
   ],
   "source": [
    "test_transforms = transforms.Compose([\n",
    "    #\n",
    "    # NO DATA AUGMENTATION AT TEST TIME\n",
    "    #\n",
    "    transforms.ToTensor(),\n",
    "    transforms.Resize((64, 64)),\n",
    "])\n",
    "dataset_test = ImageFolder(DATASET_CLOUD_TEST, transform=test_transforms)\n",
    "print(\"Number of images in test dataset:\", len(dataset_test))\n",
    "\n",
    "# Reviewing labels in datasets\n",
    "print(\"Labels included in dataset\")\n",
    "pprint(dataset_test.class_to_idx)"
   ]
  },
  {
   "cell_type": "markdown",
   "id": "4c77d080-7eed-4a71-9926-40c9877a7166",
   "metadata": {},
   "source": [
    "### Averaging multi-class metrics"
   ]
  },
  {
   "cell_type": "code",
   "execution_count": 24,
   "id": "be63573e-f8f9-4cfd-b918-8132d18b3f56",
   "metadata": {},
   "outputs": [
    {
     "data": {
      "text/plain": [
       "(MulticlassRecall(),\n",
       " MulticlassRecall(),\n",
       " MulticlassRecall(),\n",
       " MulticlassRecall())"
      ]
     },
     "execution_count": 24,
     "metadata": {},
     "output_type": "execute_result"
    }
   ],
   "source": [
    "recall_per_class = Recall(task=\"multiclass\", num_classes=7, average=None)\n",
    "recall_micro = Recall(task=\"multiclass\", num_classes=7, average=\"micro\")\n",
    "recall_macro = Recall(task=\"multiclass\", num_classes=7, average=\"macro\")\n",
    "recall_weighted = Recall(task=\"multiclass\", num_classes=7, average=\"weighted\")\n",
    "\n",
    "recall_per_class, recall_micro, recall_macro, recall_weighted"
   ]
  },
  {
   "cell_type": "markdown",
   "id": "f5e6f3f0-513c-43f3-bd65-6db023325511",
   "metadata": {},
   "source": [
    "### Evaluation loop"
   ]
  },
  {
   "cell_type": "code",
   "execution_count": 25,
   "id": "b5f782df-699a-471b-b9c5-5d0e600da676",
   "metadata": {},
   "outputs": [
    {
     "name": "stdout",
     "output_type": "stream",
     "text": [
      "Precision: 0.7106484770774841\n",
      "Recall: 0.7297075986862183\n"
     ]
    }
   ],
   "source": [
    "# Define the dataloader\n",
    "dataloader_test = DataLoader(dataset_test, shuffle=True, batch_size=16)\n",
    "\n",
    "# Set the evaluation metrics\n",
    "metric_precision = Precision(task=\"multiclass\", num_classes=7, average=\"macro\")\n",
    "metric_recall = Recall(task=\"multiclass\", num_classes=7, average=\"macro\")\n",
    "\n",
    "# Evaluation loop\n",
    "model64X64.eval()\n",
    "with torch.no_grad():\n",
    "    for images, labels in dataloader_test:\n",
    "        outputs = model64X64(images)\n",
    "        _, preds = torch.max(outputs, dim=1)\n",
    "        metric_precision(preds, labels)\n",
    "        metric_recall(preds, labels)\n",
    "precision = metric_precision.compute()\n",
    "recall = metric_recall.compute()\n",
    "\n",
    "print(f\"Precision: {precision}\")\n",
    "print(f\"Recall: {recall}\")"
   ]
  },
  {
   "cell_type": "markdown",
   "id": "d0fb0120-7169-473e-883d-03cb7944376b",
   "metadata": {},
   "source": [
    "#### Understanding `torch.max`"
   ]
  },
  {
   "cell_type": "code",
   "execution_count": 26,
   "id": "2ff6d45a-18f9-4a93-9434-d4f8b3c966df",
   "metadata": {},
   "outputs": [
    {
     "name": "stdout",
     "output_type": "stream",
     "text": [
      "tensor([[ 1.1724830866, -0.2860434949, -1.2137631178,  0.9021172523],\n",
      "        [ 0.7136903405,  0.3001082242,  0.4241665900, -0.6594630480],\n",
      "        [ 2.7089838982,  1.1059490442,  0.9476607442,  0.6920924783],\n",
      "        [-0.6813704967,  2.1704947948, -0.1762695014, -0.2779524624]])\n",
      "torch.return_types.max(\n",
      "values=tensor([1.1724830866, 0.7136903405, 2.7089838982, 2.1704947948]),\n",
      "indices=tensor([0, 0, 0, 1]))\n"
     ]
    }
   ],
   "source": [
    "temp = torch.randn(4, 4)\n",
    "print(temp)\n",
    "print(torch.max(temp, 1))"
   ]
  },
  {
   "cell_type": "markdown",
   "id": "51c81454-d99a-47c1-b09a-0dcc98fd1cd0",
   "metadata": {},
   "source": [
    "### Analyzing performance per class"
   ]
  },
  {
   "cell_type": "code",
   "execution_count": 27,
   "id": "73901a42-944f-4ddc-8e9d-53d24fc2d21e",
   "metadata": {},
   "outputs": [
    {
     "name": "stdout",
     "output_type": "stream",
     "text": [
      "Precision: tensor([0.7428571582, 0.9552238584, 0.5000000000, 0.8404255509, 0.5496688485,\n",
      "        0.7954545617, 0.5909090638])\n",
      "Recall: tensor([0.6753246784, 1.0000000000, 0.7272727489, 0.6583333611, 0.8058252335,\n",
      "        0.8750000000, 0.3661971688])\n"
     ]
    }
   ],
   "source": [
    "# Evaluation loop\n",
    "metric_precision = Precision(task=\"multiclass\", num_classes=7, average=None)\n",
    "metric_recall = Recall(task=\"multiclass\", num_classes=7, average=None)\n",
    "\n",
    "model64X64.eval()\n",
    "with torch.no_grad():\n",
    "    for images, labels in dataloader_test:\n",
    "        outputs = model64X64(images)\n",
    "        _, preds = torch.max(outputs, 1)\n",
    "        metric_precision(preds, labels)\n",
    "        metric_recall(preds, labels)\n",
    "precision = metric_precision.compute()\n",
    "recall = metric_recall.compute()\n",
    "\n",
    "print(f\"Precision: {precision}\")\n",
    "print(f\"Recall: {recall}\")"
   ]
  },
  {
   "cell_type": "code",
   "execution_count": 28,
   "id": "5b1d97c1-b4c6-4689-8519-c9443bf0db9d",
   "metadata": {},
   "outputs": [
    {
     "name": "stdout",
     "output_type": "stream",
     "text": [
      "Precision:\n",
      "{'cirriform clouds': 0.7428571581840515,\n",
      " 'clear sky': 0.9552238583564758,\n",
      " 'cumulonimbus clouds': 0.5,\n",
      " 'cumulus clouds': 0.8404255509376526,\n",
      " 'high cumuliform clouds': 0.5496688485145569,\n",
      " 'stratiform clouds': 0.7954545617103577,\n",
      " 'stratocumulus clouds': 0.5909090638160706}\n",
      "\n",
      "Recall:\n",
      "{'cirriform clouds': 0.6753246784210205,\n",
      " 'clear sky': 1.0,\n",
      " 'cumulonimbus clouds': 0.7272727489471436,\n",
      " 'cumulus clouds': 0.6583333611488342,\n",
      " 'high cumuliform clouds': 0.8058252334594727,\n",
      " 'stratiform clouds': 0.875,\n",
      " 'stratocumulus clouds': 0.3661971688270569}\n"
     ]
    }
   ],
   "source": [
    "precision_per_class = {k: precision[v].item()\n",
    "                       for k, v\n",
    "                       in dataset_test.class_to_idx.items()\n",
    "                      }\n",
    "recall_per_class = {k: recall[v].item()\n",
    "                    for k, v\n",
    "                    in dataset_test.class_to_idx.items()\n",
    "                   }\n",
    "print('Precision:')\n",
    "pprint(precision_per_class)\n",
    "print('\\nRecall:')\n",
    "pprint(recall_per_class)"
   ]
  },
  {
   "cell_type": "markdown",
   "id": "f2c47254-57bb-48c2-b819-86d5c90ce0a1",
   "metadata": {},
   "source": [
    "### Ex.6 - Multi-class model evaluation\n",
    "Let's evaluate our cloud classifier with precision and recall to see how well it can classify the seven cloud types. In this multi-class classification task it is important how you average the scores over classes. Recall that there four approaches:\n",
    "\n",
    "- Not averaging, and analyzing the results per class;\n",
    "- Micro-averaging, ignoring the classes and computing the metrics globally;\n",
    "- Macro-averaging, computing metrics per class and averaging them;\n",
    "- Weighted-averaging, just like macro but with the average weighted by class size.\n",
    "- Both Precision and Recall are already imported from torchmetrics. It's time to see how well our model is doing!\n",
    "\n",
    "**Instructions**\n",
    "\n",
    "1. Define precision and recall metric\"s calculated globally on all examples.\n",
    "2. Change your code to compute separate recall and precision metrics for each class and average them with a simple average."
   ]
  },
  {
   "cell_type": "code",
   "execution_count": 29,
   "id": "c46547e0-ca5e-4d71-9498-2cacd332eb3a",
   "metadata": {},
   "outputs": [
    {
     "name": "stdout",
     "output_type": "stream",
     "text": [
      "Precision: 0.7139917612075806\n",
      "Recall: 0.7139917612075806\n"
     ]
    }
   ],
   "source": [
    "# Define precision and recall metric\"s calculated globally on all examples.\n",
    "metric_precision = Precision(task=\"multiclass\", num_classes=7, average='micro')\n",
    "metric_recall = Recall(task=\"multiclass\", num_classes=7, average='micro')\n",
    "\n",
    "model64X64.eval()\n",
    "with torch.no_grad():\n",
    "    for images, labels in dataloader_test:\n",
    "        outputs = model64X64(images)\n",
    "        _, preds = torch.max(outputs, 1)\n",
    "        metric_precision(preds, labels)\n",
    "        metric_recall(preds, labels)\n",
    "\n",
    "precision = metric_precision.compute()\n",
    "recall = metric_recall.compute()\n",
    "print(f\"Precision: {precision}\")\n",
    "print(f\"Recall: {recall}\")"
   ]
  },
  {
   "cell_type": "code",
   "execution_count": 30,
   "id": "c1c2ecdd-6cc2-47c4-8d68-f1453856f557",
   "metadata": {},
   "outputs": [
    {
     "name": "stdout",
     "output_type": "stream",
     "text": [
      "Precision: 0.7106484770774841\n",
      "Recall: 0.7297075986862183\n"
     ]
    }
   ],
   "source": [
    "# Define precision and recall metric\"s for each class and average them with a simple average.\n",
    "metric_precision = Precision(task=\"multiclass\", num_classes=7, average=\"macro\")\n",
    "metric_recall = Recall(task=\"multiclass\", num_classes=7, average=\"macro\")\n",
    "\n",
    "model64X64.eval()\n",
    "with torch.no_grad():\n",
    "    for images, labels in dataloader_test:\n",
    "        outputs = model64X64(images)\n",
    "        _, preds = torch.max(outputs, 1)\n",
    "        metric_precision(preds, labels)\n",
    "        metric_recall(preds, labels)\n",
    "\n",
    "precision = metric_precision.compute()\n",
    "recall = metric_recall.compute()\n",
    "print(f\"Precision: {precision}\")\n",
    "print(f\"Recall: {recall}\")"
   ]
  },
  {
   "cell_type": "markdown",
   "id": "0604e29d-6d9e-4dc1-bcaa-c287e1371a1c",
   "metadata": {},
   "source": [
    "### Ex.7 - Analyzing metrics per class\n",
    "While aggregated metrics are useful indicators of the model's performance, it is often informative to look at the metrics per class. This could reveal classes for which the model underperforms.\n",
    "\n",
    "In this exercise, you will run the evaluation loop again to get our cloud classifier's precision, but this time per-class. Then, you will map these score to the class names to interpret them. As usual, Precision has already been imported for you. Good luck!\n",
    "\n",
    "**Instructions**\n",
    "\n",
    "1. Define a precision metric appropriate for per-class results.\n",
    "2. Calculate the precision per class by finishing the dict comprehension, iterating over the `.items()` of the `.class_to_idx` attribute of `dataset_test`."
   ]
  },
  {
   "cell_type": "code",
   "execution_count": 31,
   "id": "cd1f52ca-c877-4b7a-ba2d-a84f5d3cce1a",
   "metadata": {},
   "outputs": [
    {
     "name": "stdout",
     "output_type": "stream",
     "text": [
      "Precision:\n",
      "{'cirriform clouds': 0.7428571581840515,\n",
      " 'clear sky': 0.9552238583564758,\n",
      " 'cumulonimbus clouds': 0.5,\n",
      " 'cumulus clouds': 0.8404255509376526,\n",
      " 'high cumuliform clouds': 0.5496688485145569,\n",
      " 'stratiform clouds': 0.7954545617103577,\n",
      " 'stratocumulus clouds': 0.5909090638160706}\n"
     ]
    }
   ],
   "source": [
    "# Define precision metric\n",
    "metric_precision = Precision(task=\"multiclass\", num_classes=7, average=None)\n",
    "\n",
    "model64X64.eval()\n",
    "with torch.no_grad():\n",
    "    for images, labels in dataloader_test:\n",
    "        outputs = model64X64(images)\n",
    "        _, preds = torch.max(outputs, 1)\n",
    "        metric_precision(preds, labels)\n",
    "precision = metric_precision.compute()\n",
    "\n",
    "# Get precision per class\n",
    "precision_per_class = {k: precision[v].item() for k, v in dataset_test.class_to_idx.items()}\n",
    "print('Precision:')\n",
    "pprint(precision_per_class)"
   ]
  },
  {
   "cell_type": "code",
   "execution_count": 32,
   "id": "2a4be519-02c5-4df5-97c2-d0dce5dc2abc",
   "metadata": {},
   "outputs": [
    {
     "name": "stdout",
     "output_type": "stream",
     "text": [
      "{'cirriform clouds': 0, 'clear sky': 1, 'cumulonimbus clouds': 2, 'cumulus clouds': 3, 'high cumuliform clouds': 4, 'stratiform clouds': 5, 'stratocumulus clouds': 6}\n"
     ]
    },
    {
     "data": {
      "text/plain": [
       "0.7428571581840515"
      ]
     },
     "execution_count": 32,
     "metadata": {},
     "output_type": "execute_result"
    }
   ],
   "source": [
    "print(dataset_test.class_to_idx)\n",
    "precision[0].item()"
   ]
  },
  {
   "cell_type": "markdown",
   "id": "9dec23e9-fc7f-48b1-b109-d4cf581a6809",
   "metadata": {},
   "source": [
    "-------------------------------"
   ]
  }
 ],
 "metadata": {
  "kernelspec": {
   "display_name": "Python 3 (ipykernel)",
   "language": "python",
   "name": "python3"
  },
  "language_info": {
   "codemirror_mode": {
    "name": "ipython",
    "version": 3
   },
   "file_extension": ".py",
   "mimetype": "text/x-python",
   "name": "python",
   "nbconvert_exporter": "python",
   "pygments_lexer": "ipython3",
   "version": "3.8.19"
  }
 },
 "nbformat": 4,
 "nbformat_minor": 5
}
