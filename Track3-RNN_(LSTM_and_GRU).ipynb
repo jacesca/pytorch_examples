{
 "cells": [
  {
   "cell_type": "markdown",
   "id": "e0621324-dd94-43c3-b2d3-7de2b5e2a615",
   "metadata": {},
   "source": [
    "# 3. Sequences & Recurrent Neural Networks\n",
    "\n",
    "Build and train recurrent neural networks (`RNNs`) for processing sequential data such as time series, text, or audio. You will learn about the two most popular recurrent architectures, `Long-Short Term Memory` (`LSTM`) and Gated Recurrent Unit (`GRU`) networks, as well as how to prepare sequential data for model training. You will practice your skills by training and evaluating a recurrent model for predicting electricity consumption.\n",
    "\n",
    "## Preparing the environment"
   ]
  },
  {
   "cell_type": "code",
   "execution_count": 1,
   "id": "7d6cde87-4b1d-4820-8eea-363c6d535c79",
   "metadata": {},
   "outputs": [],
   "source": [
    "# Importing libraries\n",
    "import expectexception\n",
    "import matplotlib.pyplot as plt\n",
    "import numpy as np\n",
    "import pandas as pd\n",
    "import time\n",
    "\n",
    "import torch\n",
    "import torch.nn as nn\n",
    "import torch.optim as optim\n",
    "\n",
    "from environment import prepare_environment\n",
    "from typing import Tuple\n",
    "\n",
    "from torch.utils.data import TensorDataset, DataLoader\n",
    "from torchmetrics import MeanSquaredError"
   ]
  },
  {
   "cell_type": "code",
   "execution_count": 2,
   "id": "099fec80-69dc-4590-97ab-9bf0f9a41edc",
   "metadata": {},
   "outputs": [],
   "source": [
    "# Global variables\n",
    "SEED = 42\n",
    "\n",
    "DATASET_ELECTRICITY_CONSUMPTION_TRAIN = 'data-sources/electricity_train.csv'\n",
    "DATASET_ELECTRICITY_CONSUMPTION_TEST = 'data-sources/electricity_test.csv'"
   ]
  },
  {
   "cell_type": "code",
   "execution_count": 3,
   "id": "1e3dc73f-35c6-45f2-ac1b-f742eba824b1",
   "metadata": {},
   "outputs": [
    {
     "name": "stdout",
     "output_type": "stream",
     "text": [
      "2.4.1+cu124\n",
      "Cuda is available? True\n"
     ]
    }
   ],
   "source": [
    "# Check if your GPU driver and CUDA is enabled and accessible by PyTorch\n",
    "print(torch.__version__)\n",
    "print('Cuda is available?', torch.cuda.is_available())"
   ]
  },
  {
   "cell_type": "code",
   "execution_count": 4,
   "id": "f0e6f0f8-9942-42d0-b72c-7d54612bcc5c",
   "metadata": {},
   "outputs": [],
   "source": [
    "# Global configuration\n",
    "prepare_environment()\n",
    "\n",
    "torch.set_printoptions(precision=10)\n",
    "\n",
    "# Reproducibility\n",
    "np.random.seed(SEED)\n",
    "_ = torch.manual_seed(SEED)"
   ]
  },
  {
   "cell_type": "markdown",
   "id": "8481cd87-1c02-4d74-a40c-2be781dc0204",
   "metadata": {},
   "source": [
    "## 3.1 Handling sequences with PyTorch\n",
    "\n",
    "### Sequential data\n",
    "\n",
    "- Ordered in time or space\n",
    "- Order of the data points contains dependencies between them\n",
    "- Examples of sequential data:\n",
    "    - Time series\n",
    "    - Text\n",
    "    - Audio waves\n",
    "\n",
    "### Electricity consumption Dataset"
   ]
  },
  {
   "cell_type": "code",
   "execution_count": 5,
   "id": "bb41d59c-cc91-4a92-8e10-75a7b98e1234",
   "metadata": {},
   "outputs": [
    {
     "name": "stdout",
     "output_type": "stream",
     "text": [
      "TRAIN DATASET:\n",
      "                           timestamp    consumption\n",
      "count                         105215  105215.000000\n",
      "mean   2012-07-01 23:59:59.999999744      -0.007469\n",
      "min              2011-01-01 00:15:00      -1.414483\n",
      "25%              2011-10-02 00:07:30      -0.957931\n",
      "50%              2012-07-02 00:00:00      -0.349363\n",
      "75%              2013-04-01 23:52:30       0.797593\n",
      "max              2013-12-31 23:45:00       3.028924\n",
      "std                              NaN       1.056835\n",
      "(105215, 2)\n"
     ]
    },
    {
     "data": {
      "text/html": [
       "<div>\n",
       "<style scoped>\n",
       "    .dataframe tbody tr th:only-of-type {\n",
       "        vertical-align: middle;\n",
       "    }\n",
       "\n",
       "    .dataframe tbody tr th {\n",
       "        vertical-align: top;\n",
       "    }\n",
       "\n",
       "    .dataframe thead th {\n",
       "        text-align: right;\n",
       "    }\n",
       "</style>\n",
       "<table border=\"1\" class=\"dataframe\">\n",
       "  <thead>\n",
       "    <tr style=\"text-align: right;\">\n",
       "      <th></th>\n",
       "      <th>timestamp</th>\n",
       "      <th>consumption</th>\n",
       "    </tr>\n",
       "  </thead>\n",
       "  <tbody>\n",
       "    <tr>\n",
       "      <th>0</th>\n",
       "      <td>2011-01-01 00:15:00</td>\n",
       "      <td>-0.704319</td>\n",
       "    </tr>\n",
       "    <tr>\n",
       "      <th>1</th>\n",
       "      <td>2011-01-01 00:30:00</td>\n",
       "      <td>-0.704319</td>\n",
       "    </tr>\n",
       "    <tr>\n",
       "      <th>2</th>\n",
       "      <td>2011-01-01 00:45:00</td>\n",
       "      <td>-0.678983</td>\n",
       "    </tr>\n",
       "    <tr>\n",
       "      <th>3</th>\n",
       "      <td>2011-01-01 01:00:00</td>\n",
       "      <td>-0.653647</td>\n",
       "    </tr>\n",
       "    <tr>\n",
       "      <th>4</th>\n",
       "      <td>2011-01-01 01:15:00</td>\n",
       "      <td>-0.704319</td>\n",
       "    </tr>\n",
       "    <tr>\n",
       "      <th>...</th>\n",
       "      <td>...</td>\n",
       "      <td>...</td>\n",
       "    </tr>\n",
       "    <tr>\n",
       "      <th>105210</th>\n",
       "      <td>2013-12-31 22:45:00</td>\n",
       "      <td>-0.932595</td>\n",
       "    </tr>\n",
       "    <tr>\n",
       "      <th>105211</th>\n",
       "      <td>2013-12-31 23:00:00</td>\n",
       "      <td>-0.907259</td>\n",
       "    </tr>\n",
       "    <tr>\n",
       "      <th>105212</th>\n",
       "      <td>2013-12-31 23:15:00</td>\n",
       "      <td>-0.932595</td>\n",
       "    </tr>\n",
       "    <tr>\n",
       "      <th>105213</th>\n",
       "      <td>2013-12-31 23:30:00</td>\n",
       "      <td>-0.932595</td>\n",
       "    </tr>\n",
       "    <tr>\n",
       "      <th>105214</th>\n",
       "      <td>2013-12-31 23:45:00</td>\n",
       "      <td>-0.932595</td>\n",
       "    </tr>\n",
       "  </tbody>\n",
       "</table>\n",
       "<p>105215 rows × 2 columns</p>\n",
       "</div>"
      ],
      "text/plain": [
       "                 timestamp  consumption\n",
       "0      2011-01-01 00:15:00    -0.704319\n",
       "1      2011-01-01 00:30:00    -0.704319\n",
       "2      2011-01-01 00:45:00    -0.678983\n",
       "3      2011-01-01 01:00:00    -0.653647\n",
       "4      2011-01-01 01:15:00    -0.704319\n",
       "...                    ...          ...\n",
       "105210 2013-12-31 22:45:00    -0.932595\n",
       "105211 2013-12-31 23:00:00    -0.907259\n",
       "105212 2013-12-31 23:15:00    -0.932595\n",
       "105213 2013-12-31 23:30:00    -0.932595\n",
       "105214 2013-12-31 23:45:00    -0.932595\n",
       "\n",
       "[105215 rows x 2 columns]"
      ]
     },
     "execution_count": 5,
     "metadata": {},
     "output_type": "execute_result"
    }
   ],
   "source": [
    "print('TRAIN DATASET:')\n",
    "df_train = pd.read_csv(DATASET_ELECTRICITY_CONSUMPTION_TRAIN, parse_dates=['timestamp'])\n",
    "print(df_train.describe(include='all'))\n",
    "print(df_train.shape)\n",
    "df_train"
   ]
  },
  {
   "cell_type": "code",
   "execution_count": 6,
   "id": "7c379c1c-21f4-4542-a774-776353a3b62b",
   "metadata": {},
   "outputs": [
    {
     "name": "stdout",
     "output_type": "stream",
     "text": [
      "TEST DATASET:\n",
      "                 timestamp   consumption\n",
      "count                35040  35040.000000\n",
      "mean   2014-07-02 11:52:30      0.022430\n",
      "min    2014-01-01 00:00:00     -1.414483\n",
      "25%    2014-04-02 05:56:15     -0.729908\n",
      "50%    2014-07-02 11:52:30     -0.095751\n",
      "75%    2014-10-01 17:48:45      0.695742\n",
      "max    2014-12-31 23:45:00      2.645845\n",
      "std                    NaN      0.805208\n",
      "(35040, 2)\n"
     ]
    },
    {
     "data": {
      "text/html": [
       "<div>\n",
       "<style scoped>\n",
       "    .dataframe tbody tr th:only-of-type {\n",
       "        vertical-align: middle;\n",
       "    }\n",
       "\n",
       "    .dataframe tbody tr th {\n",
       "        vertical-align: top;\n",
       "    }\n",
       "\n",
       "    .dataframe thead th {\n",
       "        text-align: right;\n",
       "    }\n",
       "</style>\n",
       "<table border=\"1\" class=\"dataframe\">\n",
       "  <thead>\n",
       "    <tr style=\"text-align: right;\">\n",
       "      <th></th>\n",
       "      <th>timestamp</th>\n",
       "      <th>consumption</th>\n",
       "    </tr>\n",
       "  </thead>\n",
       "  <tbody>\n",
       "    <tr>\n",
       "      <th>0</th>\n",
       "      <td>2014-01-01 00:00:00</td>\n",
       "      <td>-0.932595</td>\n",
       "    </tr>\n",
       "    <tr>\n",
       "      <th>1</th>\n",
       "      <td>2014-01-01 00:15:00</td>\n",
       "      <td>-0.957931</td>\n",
       "    </tr>\n",
       "    <tr>\n",
       "      <th>2</th>\n",
       "      <td>2014-01-01 00:30:00</td>\n",
       "      <td>-0.932595</td>\n",
       "    </tr>\n",
       "    <tr>\n",
       "      <th>3</th>\n",
       "      <td>2014-01-01 00:45:00</td>\n",
       "      <td>-0.907259</td>\n",
       "    </tr>\n",
       "    <tr>\n",
       "      <th>4</th>\n",
       "      <td>2014-01-01 01:00:00</td>\n",
       "      <td>-0.881923</td>\n",
       "    </tr>\n",
       "    <tr>\n",
       "      <th>...</th>\n",
       "      <td>...</td>\n",
       "      <td>...</td>\n",
       "    </tr>\n",
       "    <tr>\n",
       "      <th>35035</th>\n",
       "      <td>2014-12-31 22:45:00</td>\n",
       "      <td>-0.070415</td>\n",
       "    </tr>\n",
       "    <tr>\n",
       "      <th>35036</th>\n",
       "      <td>2014-12-31 23:00:00</td>\n",
       "      <td>-0.045079</td>\n",
       "    </tr>\n",
       "    <tr>\n",
       "      <th>35037</th>\n",
       "      <td>2014-12-31 23:15:00</td>\n",
       "      <td>-0.045079</td>\n",
       "    </tr>\n",
       "    <tr>\n",
       "      <th>35038</th>\n",
       "      <td>2014-12-31 23:30:00</td>\n",
       "      <td>-0.045079</td>\n",
       "    </tr>\n",
       "    <tr>\n",
       "      <th>35039</th>\n",
       "      <td>2014-12-31 23:45:00</td>\n",
       "      <td>-0.095751</td>\n",
       "    </tr>\n",
       "  </tbody>\n",
       "</table>\n",
       "<p>35040 rows × 2 columns</p>\n",
       "</div>"
      ],
      "text/plain": [
       "                timestamp  consumption\n",
       "0     2014-01-01 00:00:00    -0.932595\n",
       "1     2014-01-01 00:15:00    -0.957931\n",
       "2     2014-01-01 00:30:00    -0.932595\n",
       "3     2014-01-01 00:45:00    -0.907259\n",
       "4     2014-01-01 01:00:00    -0.881923\n",
       "...                   ...          ...\n",
       "35035 2014-12-31 22:45:00    -0.070415\n",
       "35036 2014-12-31 23:00:00    -0.045079\n",
       "35037 2014-12-31 23:15:00    -0.045079\n",
       "35038 2014-12-31 23:30:00    -0.045079\n",
       "35039 2014-12-31 23:45:00    -0.095751\n",
       "\n",
       "[35040 rows x 2 columns]"
      ]
     },
     "execution_count": 6,
     "metadata": {},
     "output_type": "execute_result"
    }
   ],
   "source": [
    "print('TEST DATASET:')\n",
    "df_test = pd.read_csv(DATASET_ELECTRICITY_CONSUMPTION_TEST, parse_dates=['timestamp'])\n",
    "print(df_test.describe(include='all'))\n",
    "print(df_test.shape)\n",
    "df_test"
   ]
  },
  {
   "cell_type": "code",
   "execution_count": 7,
   "id": "679dfcee-cd79-4846-9494-ac6185bb5715",
   "metadata": {},
   "outputs": [
    {
     "data": {
      "image/png": "[encoded data removed]",
      "text/plain": [
       "<Figure size 1000x300 with 1 Axes>"
      ]
     },
     "metadata": {},
     "output_type": "display_data"
    }
   ],
   "source": [
    "fig = plt.figure(figsize=(10, 3))\n",
    "plt.plot(df_train.timestamp, df_train.consumption, c='black', lw=.5, label='Train')\n",
    "plt.plot(df_test.timestamp, df_test.consumption, c='red', lw=.5, label='Test')\n",
    "plt.legend()\n",
    "fig.suptitle('Electricity Consumption')\n",
    "plt.show()"
   ]
  },
  {
   "cell_type": "markdown",
   "id": "7edb2bd8-6987-48b4-895a-e808509e01a4",
   "metadata": {},
   "source": [
    "### Creating sequences in Python\n",
    "\n",
    "Applicability also to other sequential data:\n",
    "\n",
    "- Same techniques are applicable to other sequences:\n",
    "- Large Language Models\n",
    "- Speech recognition"
   ]
  },
  {
   "cell_type": "code",
   "execution_count": 8,
   "id": "db68ea7c-a663-4df1-8e47-7a9f0a761ec3",
   "metadata": {},
   "outputs": [],
   "source": [
    "def create_sequences1(df: pd.DataFrame, seq_length: int) -> Tuple[np.ndarray, np.ndarray]:\n",
    "    xs, ys = [], []\n",
    "    for i in range(len(df) - seq_length):\n",
    "        x = df.iloc[i:(i+seq_length), 1]\n",
    "        y = df.iloc[i+seq_length, 1]\n",
    "        xs.append(x)\n",
    "        ys.append(y)\n",
    "    return np.array(xs), np.array(ys)"
   ]
  },
  {
   "cell_type": "code",
   "execution_count": 9,
   "id": "7fb2eb02-cc41-4d5b-8af1-9680939c6b0d",
   "metadata": {},
   "outputs": [
    {
     "name": "stdout",
     "output_type": "stream",
     "text": [
      "[[-0.8312513  -0.8312513  -0.32402689 ... -0.93259484 -0.90725895\n",
      "  -0.93259484]\n",
      " [-0.8312513  -0.32402689  0.74666758 ... -0.90725895 -0.93259484\n",
      "  -0.93259484]]\n",
      "(5215, 100000)\n",
      "(5215,)\n",
      "\n",
      "Execution time: 1.733351707458496 s.\n"
     ]
    }
   ],
   "source": [
    "start = time.time()\n",
    "xs, ys = create_sequences1(df_train, 100000)\n",
    "print(xs[-2:])\n",
    "print(xs.shape)\n",
    "print(ys.shape)\n",
    "print(f'\\nExecution time: {time.time()-start} s.')"
   ]
  },
  {
   "cell_type": "code",
   "execution_count": 10,
   "id": "3c1fdafd-41f2-42bb-b32e-7d53e83acf65",
   "metadata": {},
   "outputs": [],
   "source": [
    "def create_sequences2(df: pd.DataFrame, seq_length: int) -> Tuple[np.ndarray, np.ndarray]:\n",
    "    num_features = len(df) - seq_length\n",
    "    xs = np.array([df.iloc[i:(i+seq_length), 1] for i in range(num_features)])\n",
    "    ys = np.array([df.iloc[i+seq_length, 1] for i in range(num_features)])\n",
    "    return xs, ys"
   ]
  },
  {
   "cell_type": "code",
   "execution_count": 11,
   "id": "509e7a82-f96a-490b-85c8-99aed83f405a",
   "metadata": {},
   "outputs": [
    {
     "name": "stdout",
     "output_type": "stream",
     "text": [
      "[[-0.8312513  -0.8312513  -0.32402689 ... -0.93259484 -0.90725895\n",
      "  -0.93259484]\n",
      " [-0.8312513  -0.32402689  0.74666758 ... -0.90725895 -0.93259484\n",
      "  -0.93259484]]\n",
      "(5215, 100000)\n",
      "(5215,)\n",
      "\n",
      "Execution time: 5.385654449462891 s.\n"
     ]
    }
   ],
   "source": [
    "start = time.time()\n",
    "xs, ys = create_sequences2(df_train, 100000)\n",
    "print(xs[-2:])\n",
    "print(xs.shape)\n",
    "print(ys.shape)\n",
    "print(f'\\nExecution time: {time.time()-start} s.')"
   ]
  },
  {
   "cell_type": "code",
   "execution_count": 12,
   "id": "1d590ca2-7ce5-456b-b004-c4e29827c9b9",
   "metadata": {},
   "outputs": [],
   "source": [
    "def create_sequences3(df: pd.DataFrame, seq_length: int) -> Tuple[np.ndarray, np.ndarray]:\n",
    "    data = df.iloc[:, 1].values                                           # Extract the column as NumPy array\n",
    "    xs = np.lib.stride_tricks.sliding_window_view(data[:-1], seq_length)  # Sliding windows of size `seq_length`\n",
    "    ys = data[seq_length:]                                                # Target values (next val after sequence)\n",
    "    return xs, ys"
   ]
  },
  {
   "cell_type": "code",
   "execution_count": 13,
   "id": "69c53e58-f891-4ae4-a18d-adcac6ab00a1",
   "metadata": {},
   "outputs": [
    {
     "name": "stdout",
     "output_type": "stream",
     "text": [
      "[[-0.8312513  -0.8312513  -0.32402689 ... -0.93259484 -0.90725895\n",
      "  -0.93259484]\n",
      " [-0.8312513  -0.32402689  0.74666758 ... -0.90725895 -0.93259484\n",
      "  -0.93259484]]\n",
      "(5215, 100000)\n",
      "(5215,)\n",
      "\n",
      "Execution time: 0.4359865188598633 s.\n"
     ]
    }
   ],
   "source": [
    "start = time.time()\n",
    "xs, ys = create_sequences3(df_train, 100000)\n",
    "print(xs[-2:])\n",
    "print(xs.shape)\n",
    "print(ys.shape)\n",
    "print(f'\\nExecution time: {time.time()-start} s.')"
   ]
  },
  {
   "cell_type": "code",
   "execution_count": 14,
   "id": "8eb389da-73f4-41b5-9cb2-1223e576d928",
   "metadata": {},
   "outputs": [],
   "source": [
    "def create_sequences4(df: pd.DataFrame, seq_length: int) -> Tuple[np.ndarray, np.ndarray]:\n",
    "    data = df.iloc[:, 1].values\n",
    "    num_features = len(df) - seq_length\n",
    "    xs = np.array([data[i:(i+seq_length)] for i in range(num_features)])\n",
    "    ys = np.array([data[i+seq_length] for i in range(num_features)])\n",
    "    return xs, ys"
   ]
  },
  {
   "cell_type": "code",
   "execution_count": 15,
   "id": "5fc0e3c4-c3b4-4f76-b5ee-a407bf544ee4",
   "metadata": {},
   "outputs": [
    {
     "name": "stdout",
     "output_type": "stream",
     "text": [
      "(5215, 100000)\n",
      "(5215,)\n",
      "\n",
      "Execution time: 0.8241095542907715 s.\n"
     ]
    }
   ],
   "source": [
    "start = time.time()\n",
    "xs, ys = create_sequences4(df_train, 100000)\n",
    "print(xs.shape)\n",
    "print(ys.shape)\n",
    "print(f'\\nExecution time: {time.time()-start} s.')"
   ]
  },
  {
   "cell_type": "markdown",
   "id": "42c1edfe-c411-4d31-a790-df0783304d6d",
   "metadata": {},
   "source": [
    "### TensorDataset"
   ]
  },
  {
   "cell_type": "code",
   "execution_count": 16,
   "id": "cd4bd7ed-944f-4511-a78c-e7bfc38721ce",
   "metadata": {},
   "outputs": [
    {
     "name": "stdout",
     "output_type": "stream",
     "text": [
      "(5215, 100000) (5215,)\n",
      "5215\n"
     ]
    }
   ],
   "source": [
    "# Create training examples\n",
    "seq_length = 100000\n",
    "X_train, y_train = create_sequences3(df_train, seq_length)  # Most rapid method\n",
    "print(X_train.shape, y_train.shape)\n",
    "\n",
    "# Convert them to a Torch Dataset\n",
    "dataset_train = TensorDataset(torch.tensor(X_train).float(), torch.tensor(y_train).float())\n",
    "print(len(dataset_train))"
   ]
  },
  {
   "cell_type": "markdown",
   "id": "9dc6e33c-4c2e-4aea-b112-f05d58b49612",
   "metadata": {},
   "source": [
    "### Ex.1 - Generating sequences\n",
    "To be able to train neural networks on sequential data, you need to pre-process it first. You'll chunk the data into inputs-target pairs, where the inputs are some number of consecutive data points and the target is the next data point.\n",
    "\n",
    "Your task is to define a function to do this called `create_sequences()`. As inputs, it will receive data stored in a DataFrame, `df` and `seq_length`, the length of the inputs. As outputs, it should return two NumPy arrays, one with input sequences and the other one with the corresponding targets.\n",
    "\n",
    "As a reminder, here is how the DataFrame `df` looks like:\n",
    "```\n",
    "                 timestamp  consumption\n",
    "0      2011-01-01 00:15:00    -0.704319\n",
    "...                    ...          ...\n",
    "140255 2015-01-01 00:00:00    -0.095751\n",
    "```\n",
    "\n",
    "**Instructions**\n",
    "\n",
    "1. Iterate over the range of the number of data points minus the length of an input sequence.\n",
    "2. Define the inputs `x` as the slice of `df` from the `i`th row to the `i + seq_lengthth` row and the column at index `1`.\n",
    "3. Define the target `y` as the slice of `df` at row index `i + seq_length` and the column at index `1`.\n",
    "\n",
    "----------------------------------\n",
    "```\n",
    "import numpy as np\n",
    "\n",
    "def create_sequences(df, seq_length):\n",
    "    xs, ys = [], []\n",
    "    # Iterate over data indices\n",
    "    for i in range(len(df) - seq_length):\n",
    "      \t# Define inputs\n",
    "        x = df.iloc[i:(i+seq_length), 1]\n",
    "        # Define target\n",
    "        y = df.iloc[i+seq_length, 1]\n",
    "        xs.append(x)\n",
    "        ys.append(y)\n",
    "    return np.array(xs), np.array(ys)\n",
    "```"
   ]
  },
  {
   "cell_type": "markdown",
   "id": "dae348af-1099-4326-9280-b0a4896e847a",
   "metadata": {},
   "source": [
    "### Ex.2 - Sequential Dataset\n",
    "\n",
    "Good job building the `create_sequences()` function! It's time to use it to create a training dataset for your model.\n",
    "\n",
    "Just like tabular and image data, sequential data is easiest passed to a model through a torch Dataset and DataLoader. To build a sequential Dataset, you will call `create_sequences()` to get the NumPy arrays with inputs and targets, and inspect their shape. Next, you will pass them to a `TensorDataset` to create a proper torch Dataset, and inspect its length.\n",
    "\n",
    "Your implementation of `create_sequences()` and a DataFrame with the training data called `train_data` are available.\n",
    "\n",
    "**Instructions**\n",
    "\n",
    "1. Call `create_sequences()`, passing it the training DataFrame and a sequence length of `24*4`, assigning the result to `X_train`, `y_train`.\n",
    "2. Define `dataset_train` by calling `TensorDataset` and passing it two arguments, the inputs and the targets created by `create_sequences()`, both converted from NumPy arrays to tensors of floats.\n",
    "\n",
    "----------------------------------\n",
    "```\n",
    "import torch\n",
    "from torch.utils.data import TensorDataset\n",
    "\n",
    "# Use create_sequences to create inputs and targets\n",
    "X_train, y_train = create_sequences(train_data, 24*4)\n",
    "print(X_train.shape, y_train.shape)\n",
    "\n",
    "# Create TensorDataset\n",
    "dataset_train = TensorDataset(\n",
    "    torch.tensor(X_train).float(),\n",
    "    torch.tensor(y_train).float(),\n",
    ")\n",
    "print(len(dataset_train))\n",
    "```"
   ]
  },
  {
   "cell_type": "code",
   "execution_count": 17,
   "id": "a0f0e47b-4074-4f21-ab5a-47e5294d3aaa",
   "metadata": {},
   "outputs": [
    {
     "name": "stdout",
     "output_type": "stream",
     "text": [
      "(105119, 96) (105119,)\n",
      "105119\n"
     ]
    }
   ],
   "source": [
    "# Use create_sequences to create inputs and targets\n",
    "xs, ys = create_sequences3(df=df_train, seq_length=24*4)\n",
    "print(xs.shape, ys.shape)\n",
    "\n",
    "# Create TensorDataset\n",
    "dataset_train = TensorDataset(torch.tensor(xs).float(), torch.tensor(ys).float())\n",
    "print(len(dataset_train))"
   ]
  },
  {
   "cell_type": "markdown",
   "id": "4578d622-d81a-4da8-b466-8996dc8adc47",
   "metadata": {},
   "source": [
    "## 3.2 Recurrent Neural Networks\n",
    "\n",
    "**4 architectures:**\n",
    "\n",
    "### Sequence-to-sequence architecture\n",
    "- Pass sequence as input and make use of the output produced at every time step.\n",
    "- Use the entire output sequence.\n",
    "- **Example**: Real-time speech recognition could receive audio at each time step and output the corresponding text.\n",
    "\n",
    "### Sequence-to-vector architecture $ \\star\\star\\star $\n",
    "- Pass sequence as input, but ignore all the outputs but the last one.\n",
    "- Use only the last output.\n",
    "- In other words, we let the model process the entire input sequence before it produces the output.\n",
    "- **Example**: Text topic classification.\n",
    "- We will use the `sequence-to-vector` architecture for electricity consumption prediction.\n",
    "\n",
    "### Vector-to-sequence architecture\n",
    "- Pass single input and replace all the other inputs with zeros but make use of all the outputs from each time step.\n",
    "- Use the entire output sequence.\n",
    "- **Example**: Text generation.\n",
    "\n",
    "### Encoder-decoder architecture\n",
    "- Pass entire input sequence and only then start using output sequence.\n",
    "- This is different from sequence to sequence in which outputs are generated while the inputs are still being received.\n",
    "- **Example**: Machine translation. One cannot translate word by word, rather the entire input must be processed before output generation can start."
   ]
  },
  {
   "cell_type": "markdown",
   "id": "02c04794-6ac0-45fc-8ef3-2543a42b50da",
   "metadata": {},
   "source": [
    "### RNN Model - RnnSeqToVectorModel"
   ]
  },
  {
   "cell_type": "code",
   "execution_count": 18,
   "id": "ca366288-b2c3-418b-a4c9-b2602aabde08",
   "metadata": {},
   "outputs": [
    {
     "data": {
      "text/plain": [
       "RnnSeqToVectorModel(\n",
       "  (rnn): RNN(1, 32, num_layers=2, batch_first=True)\n",
       "  (fc): Linear(in_features=32, out_features=1, bias=True)\n",
       ")"
      ]
     },
     "execution_count": 18,
     "metadata": {},
     "output_type": "execute_result"
    }
   ],
   "source": [
    "class RnnSeqToVectorModel(nn.Module):\n",
    "    \"\"\"RNN Sequence to vector model to predict electricity consumption..\"\"\"\n",
    "    def __init__(self):\n",
    "        super().__init__()\n",
    "        torch.manual_seed(SEED)  # Reproducibility\n",
    "        self.rnn = nn.RNN(       # Define the RNN model\n",
    "            input_size=1,        # Only one feature, electricity consumption\n",
    "            hidden_size=32,      # Choosen arbitrary\n",
    "            num_layers=2,        # Choosen arbitrary\n",
    "            batch_first=True,    # Batch Size will be it first dimension\n",
    "        )\n",
    "        self.fc = nn.Linear(32, 1)  # Linear layer for the hidden size (32) to the output (1)\n",
    "        \n",
    "    def forward(self, x):\n",
    "        # 1st hidden state shape: num_layers (2) X input size (X.size-0) X hidden_size (32)\n",
    "        h0 = torch.zeros(2, x.size(0), 32)  # Init the first hidden state to 0,             \n",
    "        out, _ = self.rnn(x, h0)            # Pass input x and hidden state (h0) by RNN model\n",
    "        out = self.fc(out[:, -1, :])        # select last output (middel dimension) to return\n",
    "        return out\n",
    "\n",
    "temp = RnnSeqToVectorModel()\n",
    "temp"
   ]
  },
  {
   "cell_type": "markdown",
   "id": "fc839aee-963f-486c-9b3f-fb1b9d8c2d13",
   "metadata": {},
   "source": [
    "### Ex.3 - Building a forecasting RNN\n",
    "It's time to build your first recurrent network! It will be a sequence-to-vector model consisting of an RNN layer with two layers and a `hidden_size` of `32`. After the RNN layer, a simple linear layer will map the outputs to a single value to be predicted.\n",
    "\n",
    "The following imports have already be done for you:\n",
    "```\n",
    "import torch\n",
    "import torch.nn as nn\n",
    "```\n",
    "\n",
    "**Instructions**\n",
    "\n",
    "1. Define the RNN layer passing it the correct values for `input_size`, `hidden_size`, `num_layers`, and `batch_first`, and assign it to `self.rnn`.\n",
    "\n",
    "-------------------------------------------\n",
    "```\n",
    "class Net(nn.Module):\n",
    "    def __init__(self):\n",
    "        super().__init__()\n",
    "        # Define RNN layer\n",
    "        self.rnn = nn.RNN(\n",
    "            input_size=1,\n",
    "            hidden_size=32,\n",
    "            num_layers=2,\n",
    "            batch_first=True,\n",
    "        )\n",
    "        self.fc = nn.Linear(32, 1)\n",
    "\n",
    "    def forward(self, x):\n",
    "        # Initialize first hidden state with zeros\n",
    "        h0 = torch.zeros(2, x.size(0), 32)\n",
    "        # Pass x and h0 through recurrent layer\n",
    "        out, _ = self.rnn(x, h0)  \n",
    "        # Pass recurrent layer's last output through linear layer\n",
    "        out = self.fc(out[:, -1, :])\n",
    "        return out\n",
    "```"
   ]
  },
  {
   "cell_type": "markdown",
   "id": "2d4deb8e-cb81-45d0-a893-c57c43d123d6",
   "metadata": {},
   "source": [
    "## 3.3 LSTM and GRU cells\n",
    "\n",
    "### RNN - Short-term memory problem\n",
    "- RNN cells maintain memory via hidden state\n",
    "- This memory is very short-term\n",
    "- Two more powerful cells solve the problem:\n",
    "    - LSTM (Long Short-Term Memory) cell\n",
    "    - GRU (Gated Recurrent Unit) cell\n",
    "\n",
    "### Should I use RNN, LSTM, or GRU?\n",
    "- RNN is not used much anymore\n",
    "- GRU is simpler than LSTM = less computation\n",
    "- Relative performance varies per use-case\n",
    "- Try both and compare"
   ]
  },
  {
   "cell_type": "markdown",
   "id": "60d5c47b-b445-4f0d-8f17-f5835ee254a1",
   "metadata": {},
   "source": [
    "### LSTM Model - LstmSeqToVectorModel\n",
    "- LSTM (Long Short-Term Memory)"
   ]
  },
  {
   "cell_type": "code",
   "execution_count": 19,
   "id": "0eb88141-84f9-4e22-aa12-d02474514b0b",
   "metadata": {},
   "outputs": [
    {
     "data": {
      "text/plain": [
       "LstmSeqToVectorModel(\n",
       "  (lstm): LSTM(1, 32, num_layers=2, batch_first=True)\n",
       "  (fc): Linear(in_features=32, out_features=1, bias=True)\n",
       ")"
      ]
     },
     "execution_count": 19,
     "metadata": {},
     "output_type": "execute_result"
    }
   ],
   "source": [
    "class LstmSeqToVectorModel(nn.Module):\n",
    "    \"\"\"LSTM Sequence to vector model to predict electricity consumption.\"\"\"\n",
    "    def __init__(self):\n",
    "        super().__init__()\n",
    "        torch.manual_seed(SEED)  # Reproducibility\n",
    "        self.lstm = nn.LSTM(     # Define the LSTM model\n",
    "            input_size=1,        # Only one feature, electricity consumption\n",
    "            hidden_size=32,      # Choosen arbitrary\n",
    "            num_layers=2,        # Choosen arbitrary\n",
    "            batch_first=True,    # Batch Size will be it first dimension\n",
    "        )\n",
    "        self.fc = nn.Linear(32, 1)  # Linear layer for hidden size (32) to output (1)\n",
    "        \n",
    "    def forward(self, x):\n",
    "        # Shape of hidden h0 and c0:\n",
    "        # >> num_layers (2) X input size (X.size-0) X hidden_size (32)\n",
    "        h0 = torch.zeros(2, x.size(0), 32)  # Init 1st short-term state to 0                 \n",
    "        c0 = torch.zeros(2, x.size(0), 32)  # Init 1st long-term state to 0\n",
    "        out, _ = self.lstm(x, (h0, c0))     # Pass input x, h0 and h1 by RNN\n",
    "        out = self.fc(out[:, -1, :])        # Return last output (middel dim)\n",
    "        return out\n",
    "\n",
    "temp = LstmSeqToVectorModel()\n",
    "temp"
   ]
  },
  {
   "cell_type": "markdown",
   "id": "90a83592-c888-4a25-ad09-2fa7223ceb57",
   "metadata": {},
   "source": [
    "### GRU Model - GruSeqToVectorModel\n",
    "- GRU (Gated Recurrent Unit)"
   ]
  },
  {
   "cell_type": "code",
   "execution_count": 20,
   "id": "b76be1b5-bbaf-4f0b-8ebf-f2fe24644f44",
   "metadata": {},
   "outputs": [
    {
     "data": {
      "text/plain": [
       "GruSeqToVectorModel(\n",
       "  (gru): GRU(1, 32, num_layers=2, batch_first=True)\n",
       "  (fc): Linear(in_features=32, out_features=1, bias=True)\n",
       ")"
      ]
     },
     "execution_count": 20,
     "metadata": {},
     "output_type": "execute_result"
    }
   ],
   "source": [
    "class GruSeqToVectorModel(nn.Module):\n",
    "    \"\"\"GRU Sequence to vector model to predict electricity consumption.\"\"\"\n",
    "    def __init__(self):\n",
    "        super().__init__()\n",
    "        torch.manual_seed(SEED)  # Reproducibility\n",
    "        self.gru = nn.GRU(       # Define the GRU model\n",
    "            input_size=1,        # Only one feature, electricity consumption\n",
    "            hidden_size=32,      # Choosen arbitrary\n",
    "            num_layers=2,        # Choosen arbitrary\n",
    "            batch_first=True,    # Batch Size will be it first dimension\n",
    "        )\n",
    "        self.fc = nn.Linear(32, 1)  # Linear layer for hidden size (32) to output (1)\n",
    "        \n",
    "    def forward(self, x):\n",
    "        # Shape of h0: num_layers (2) X input size (X.size-0) X hidden_size (32)\n",
    "        h0 = torch.zeros(2, x.size(0), 32)  # Init 1st short-term state to 0                 \n",
    "        out, _ = self.gru(x, h0)            # Pass input x, h0 by RNN\n",
    "        out = self.fc(out[:, -1, :])        # Return last output (middel dim)\n",
    "        return out\n",
    "\n",
    "temp = GruSeqToVectorModel()\n",
    "temp"
   ]
  },
  {
   "cell_type": "markdown",
   "id": "4ec783cf-7ead-40cd-8587-8afe15789a03",
   "metadata": {},
   "source": [
    "### Ex.4 - LSTM network\n",
    "\n",
    "As you already know, plain `RNN` cells are not used that much in practice. A more frequently used alternative that ensures a much better handling of long sequences are Long Short-Term Memory cells, or `LSTM`s. In this exercise, you will be build an `LSTM` network yourself!\n",
    "\n",
    "The most important implementation difference from the `RNN` network you have built previously comes from the fact that `LSTM`s have two rather than one hidden states. This means you will need to initialize this additional hidden state and pass it to the `LSTM` cell.\n",
    "\n",
    "`torch` and `torch.nn` have already been imported for you, so start coding!\n",
    "\n",
    "**Instructions**\n",
    "\n",
    "1. In the `.__init__()` method, define an `LSTM` layer and assign it to `self.lstm`.\n",
    "2. In the `forward()` method, initialize the first long-term memory hidden state `c0` with zeros.\n",
    "3. In the `forward()` method, pass all three inputs to the `LSTM` layer: the current time step's inputs, and a tuple containing the two hidden states.\n",
    "\n",
    "-----------------------------------------------\n",
    "```\n",
    "class Net(nn.Module):\n",
    "    def __init__(self, input_size):\n",
    "        super().__init__()\n",
    "        # Define lstm layer\n",
    "        self.lstm = nn.LSTM(\n",
    "            input_size=1,\n",
    "            hidden_size=32,\n",
    "            num_layers=2,\n",
    "            batch_first=True,\n",
    "        )\n",
    "        self.fc = nn.Linear(32, 1)\n",
    "\n",
    "    def forward(self, x):\n",
    "        h0 = torch.zeros(2, x.size(0), 32)\n",
    "        # Initialize long-term memory\n",
    "        c0 = torch.zeros(2, x.size(0), 32)\n",
    "        # Pass all inputs to lstm layer\n",
    "        out, _ = self.lstm(x, (h0, c0))\n",
    "        out = self.fc(out[:, -1, :])\n",
    "        return out\n",
    "```"
   ]
  },
  {
   "cell_type": "markdown",
   "id": "d3b93624-e623-4f4b-9873-22c4bac3bec2",
   "metadata": {},
   "source": [
    "### Ex.5 - GRU network\n",
    "\n",
    "Next to `LSTM`s, another popular recurrent neural network variant is the Gated Recurrent Unit, or `GRU`. It's appeal is in its simplicity: `GRU` cells require less computation than LSTM cells while often matching them in performance.\n",
    "\n",
    "The code you are provided with is the `RNN` model definition that you coded previously. Your task is to adapt it such that it produces a `GRU` network instead. \n",
    "\n",
    "`torch` and `torch.nn as nn` have already been imported for you.\n",
    "\n",
    "**Instructions**\n",
    "\n",
    "1. Update the `RNN` model definition in order to obtain a `GRU` network.\n",
    "\n",
    "------------------------------------------\n",
    "```\n",
    "class Net(nn.Module):\n",
    "    def __init__(self):\n",
    "        super().__init__()\n",
    "        # Define RNN layer\n",
    "        self.gru = nn.GRU(\n",
    "            input_size=1,\n",
    "            hidden_size=32,\n",
    "            num_layers=2,\n",
    "            batch_first=True,\n",
    "        )\n",
    "        self.fc = nn.Linear(32, 1)\n",
    "\n",
    "    def forward(self, x):\n",
    "        h0 = torch.zeros(2, x.size(0), 32)\n",
    "        out, _ = self.gru(x, h0)  \n",
    "        out = self.fc(out[:, -1, :])\n",
    "        return out\n",
    "```"
   ]
  },
  {
   "cell_type": "markdown",
   "id": "35e5e198-30c0-477c-89da-78c21d8ed556",
   "metadata": {},
   "source": [
    "## 3.4 Training and evaluating RNNs\n",
    "\n",
    "### Mean Squared Error Loss\n",
    "\n",
    "- Commonly used in regression problems.\n",
    "- Squaring the error:\n",
    "    - Ensures positive and negative errors don't cancel out\n",
    "    - Penalizes large errors more"
   ]
  },
  {
   "cell_type": "code",
   "execution_count": 21,
   "id": "eab4f9f7-0dee-4d87-bdc0-383ed4246f03",
   "metadata": {},
   "outputs": [
    {
     "data": {
      "text/plain": [
       "MSELoss()"
      ]
     },
     "execution_count": 21,
     "metadata": {},
     "output_type": "execute_result"
    }
   ],
   "source": [
    "nn.MSELoss()"
   ]
  },
  {
   "cell_type": "markdown",
   "id": "aa777836-3be4-4df9-abd2-ae607b57e755",
   "metadata": {},
   "source": [
    "### Tensors Operations Overview\n",
    "\n",
    "#### Expanding tensors"
   ]
  },
  {
   "cell_type": "code",
   "execution_count": 22,
   "id": "b5e50434-20c1-4a5b-b364-7121a2d216df",
   "metadata": {},
   "outputs": [
    {
     "name": "stdout",
     "output_type": "stream",
     "text": [
      "\n",
      "Original: \n",
      "tensor([[ 0.3940836787,  0.1002244875,  0.6349968910,  0.2338399291],\n",
      "        [-0.3849041760, -0.8730549216, -0.2335455120,  1.0561904907]])\n",
      "\n",
      "1st change (expansion 1): \n",
      "tensor([[[ 0.3940836787],\n",
      "         [ 0.1002244875],\n",
      "         [ 0.6349968910],\n",
      "         [ 0.2338399291]],\n",
      "\n",
      "        [[-0.3849041760],\n",
      "         [-0.8730549216],\n",
      "         [-0.2335455120],\n",
      "         [ 1.0561904907]]])\n",
      "\n",
      "2nd change (expansion 2): \n",
      "tensor([[[ 0.3940836787,  0.1002244875,  0.6349968910,  0.2338399291],\n",
      "         [-0.3849041760, -0.8730549216, -0.2335455120,  1.0561904907]]])\n",
      "\n"
     ]
    }
   ],
   "source": [
    "### First escenario\n",
    "temp = torch.randn(2, 4)\n",
    "\n",
    "print(f\"\"\"\n",
    "Original: \n",
    "{temp}\n",
    "\n",
    "1st change (expansion 1): \n",
    "{temp.view(2, 4, 1)}\n",
    "\n",
    "2nd change (expansion 2): \n",
    "{temp.view(1, 2, 4)}\n",
    "\"\"\")"
   ]
  },
  {
   "cell_type": "code",
   "execution_count": 23,
   "id": "3664cc32-0315-4247-95d1-9a3fe05b420e",
   "metadata": {},
   "outputs": [
    {
     "name": "stdout",
     "output_type": "stream",
     "text": [
      "\n",
      "Original (2, 4): \n",
      "tensor([[ 0.4316742420],\n",
      "        [-0.1794083267],\n",
      "        [ 1.1351015568],\n",
      "        [-1.0428406000]])\n",
      "\n",
      "1st change (expansion 1): \n",
      "tensor([[ 0.4316742420, -0.1794083267,  1.1351015568, -1.0428406000]])\n",
      "\n",
      "2nd change (expansion 2): \n",
      "tensor([[[ 0.4316742420, -0.1794083267,  1.1351015568, -1.0428406000]]])\n",
      "\n",
      "3rd change (expansion 3): \n",
      "tensor([ 0.4316742420, -0.1794083267,  1.1351015568, -1.0428406000])\n",
      "\n"
     ]
    }
   ],
   "source": [
    "### Second escenario\n",
    "temp = torch.randn(4, 1)\n",
    "\n",
    "print(f\"\"\"\n",
    "Original (2, 4): \n",
    "{temp}\n",
    "\n",
    "1st change (expansion 1): \n",
    "{temp.view(1, -1)}\n",
    "\n",
    "2nd change (expansion 2): \n",
    "{temp.view(1, 1,-1)}\n",
    "\n",
    "3rd change (expansion 3): \n",
    "{temp.view(-1)}\n",
    "\"\"\")"
   ]
  },
  {
   "cell_type": "markdown",
   "id": "d2be8de0-3af8-4384-8b1a-aef192565033",
   "metadata": {},
   "source": [
    "#### Squeezing tensors"
   ]
  },
  {
   "cell_type": "code",
   "execution_count": 24,
   "id": "05952264-3ade-46d8-bbbf-57b15337c2b5",
   "metadata": {},
   "outputs": [
    {
     "name": "stdout",
     "output_type": "stream",
     "text": [
      "\n",
      "Original: \n",
      "tensor([[0.4650663137],\n",
      "        [0.9289101362],\n",
      "        [1.1308556795],\n",
      "        [0.5203239322]])\n",
      "\n",
      "Squeeze change: \n",
      "tensor([0.4650663137, 0.9289101362, 1.1308556795, 0.5203239322])\n",
      "\n"
     ]
    }
   ],
   "source": [
    "### First escenario\n",
    "temp = torch.randn(4, 1)\n",
    "\n",
    "print(f\"\"\"\n",
    "Original: \n",
    "{temp}\n",
    "\n",
    "Squeeze change: \n",
    "{temp.squeeze()}\n",
    "\"\"\")"
   ]
  },
  {
   "cell_type": "code",
   "execution_count": 25,
   "id": "93c61242-0230-41fa-95f9-2f2fe0cfaebc",
   "metadata": {},
   "outputs": [
    {
     "name": "stdout",
     "output_type": "stream",
     "text": [
      "\n",
      "Expanding tensors:\n",
      "\n",
      "Original: \n",
      "torch.Size([1, 4, 2, 1])\n",
      "\n",
      "Squeeze change 1: (remove all 1 element contained in dimension)\n",
      "torch.Size([4, 2])\n",
      "\n",
      "Squeeze change 2: (remove dim=0, if there is only one element)\n",
      "torch.Size([4, 2, 1])\n",
      "\n",
      "Squeeze change 3: (remove dim=1, no removed as there is no just one element)\n",
      "torch.Size([1, 4, 2, 1])\n",
      "\n"
     ]
    }
   ],
   "source": [
    "### Second escenario\n",
    "temp = torch.randn(1, 4, 2, 1)\n",
    "\n",
    "print(f\"\"\"\n",
    "Expanding tensors:\n",
    "\n",
    "Original: \n",
    "{temp.shape}\n",
    "\n",
    "Squeeze change 1: (remove all 1 element contained in dimension)\n",
    "{temp.squeeze().shape}\n",
    "\n",
    "Squeeze change 2: (remove dim=0, if there is only one element)\n",
    "{temp.squeeze(dim=0).shape}\n",
    "\n",
    "Squeeze change 3: (remove dim=1, no removed as there is no just one element)\n",
    "{temp.squeeze(dim=1).shape}\n",
    "\"\"\")"
   ]
  },
  {
   "cell_type": "markdown",
   "id": "a3f9c1df-9dc7-456e-970d-0e482c0a2d1e",
   "metadata": {},
   "source": [
    "### Data Loaders preparation"
   ]
  },
  {
   "cell_type": "code",
   "execution_count": 26,
   "id": "bcc3ae7d-39f1-42c1-abc5-8a2b361918aa",
   "metadata": {},
   "outputs": [
    {
     "name": "stdout",
     "output_type": "stream",
     "text": [
      "\n",
      "Train set:\n",
      "Sequence shape: (105119, 96), Target shape: (105119,)\n",
      "Dataset len: 105088\n",
      "\n",
      "\n",
      "Test set:\n",
      "Sequence shape: (34944, 96), Target shape: (34944,)\n",
      "Dataset len: 34944\n",
      "\n"
     ]
    }
   ],
   "source": [
    "# Create Train TensorDataset\n",
    "xs, ys = create_sequences3(df=df_train, seq_length=24*4)\n",
    "dataset_train = TensorDataset(torch.tensor(xs[31:]).float(),\n",
    "                              torch.tensor(ys[31:]).float())\n",
    "print(f\"\"\"\n",
    "Train set:\n",
    "Sequence shape: {xs.shape}, Target shape: {ys.shape}\n",
    "Dataset len: {len(dataset_train)}\n",
    "\"\"\")\n",
    "\n",
    "# Create Test TensorDataset\n",
    "xs, ys = create_sequences3(df=df_test, seq_length=24*4)\n",
    "dataset_test = TensorDataset(torch.tensor(xs).float(),\n",
    "                             torch.tensor(ys).float())\n",
    "print(f\"\"\"\n",
    "Test set:\n",
    "Sequence shape: {xs.shape}, Target shape: {ys.shape}\n",
    "Dataset len: {len(dataset_test)}\n",
    "\"\"\")"
   ]
  },
  {
   "cell_type": "markdown",
   "id": "93fe983b-edd4-4912-9a11-902b200133f2",
   "metadata": {},
   "source": [
    "### Training loop - RNN"
   ]
  },
  {
   "cell_type": "code",
   "execution_count": 27,
   "id": "6a08709a-e520-4b4c-8804-af9521caeb7d",
   "metadata": {},
   "outputs": [],
   "source": [
    "# Create the data loader\n",
    "dataloader_train = DataLoader(dataset_train, shuffle=True, batch_size=16)\n",
    "dataloader_test = DataLoader(dataset_test, shuffle=True, batch_size=32)\n",
    "\n",
    "# Build the model\n",
    "rnn_model = RnnSeqToVectorModel()\n",
    "\n",
    "# Set the criterion and the optimizer\n",
    "criterion = nn.MSELoss()\n",
    "optimizer = optim.Adam(rnn_model.parameters(), lr=0.001)"
   ]
  },
  {
   "cell_type": "code",
   "execution_count": 28,
   "id": "9b768a6e-0c72-40bd-8e15-828fbb3ba75b",
   "metadata": {},
   "outputs": [
    {
     "name": "stdout",
     "output_type": "stream",
     "text": [
      "Epoch [1], Loss: 0.122134\n",
      "Epoch [2], Loss: 0.028624\n",
      "Epoch [3], Loss: 0.002763\n",
      "Epoch [4], Loss: 0.057949\n",
      "Epoch [5], Loss: 0.036531\n",
      "Epoch [6], Loss: 0.002225\n",
      "Epoch [7], Loss: 0.004918\n",
      "Epoch [8], Loss: 0.016405\n",
      "Epoch [9], Loss: 0.073045\n",
      "Epoch [10], Loss: 0.003221\n"
     ]
    }
   ],
   "source": [
    "# training loop\n",
    "losses_rnn = []\n",
    "epochs = 10\n",
    "rnn_model.train()\n",
    "for epoch in range(epochs):\n",
    "    for X, y in dataloader_train:        # Get feature and target from the data loader\n",
    "        optimizer.zero_grad()            # zero the parameter gradients\n",
    "        X = X.view(16, 96, 1)            # prev=(32, 96), post=(32, 96, 1)\n",
    "        y_pred = rnn_model(X)            # Run a forward pass\n",
    "        y_pred = y_pred.squeeze()        # prev=(32,1), post=(32)\n",
    "        loss = criterion(y_pred, y)      # Compute loss\n",
    "        loss.backward()                  # Backward pass\n",
    "        optimizer.step()                 # Optimization\n",
    "\n",
    "    losses_rnn.append(loss.item())           # Record the loss per epoch\n",
    "    print(f'Epoch [{epoch+1}], Loss: {loss.item():.6f}')"
   ]
  },
  {
   "cell_type": "markdown",
   "id": "bd92d665-c741-4471-b280-412b460f717d",
   "metadata": {},
   "source": [
    "#### Evaluation loop - RNN"
   ]
  },
  {
   "cell_type": "code",
   "execution_count": 29,
   "id": "3b77205a-1a77-467c-9b7e-3dd598e84de1",
   "metadata": {},
   "outputs": [
    {
     "name": "stdout",
     "output_type": "stream",
     "text": [
      "Test MSE: 0.051596201956272125\n"
     ]
    }
   ],
   "source": [
    "mse = MeanSquaredError()\n",
    "\n",
    "rnn_model.eval()\n",
    "with torch.no_grad():\n",
    "    for X, y in dataloader_test:\n",
    "        X = X.view(32, 96, 1)\n",
    "        y_pred = rnn_model(X).squeeze()\n",
    "        mse(y_pred, y)\n",
    "rnn_mse = mse.compute()\n",
    "print(f\"Test MSE: {rnn_mse}\")\n",
    "mse.reset()"
   ]
  },
  {
   "cell_type": "code",
   "execution_count": 30,
   "id": "002c5f96-5603-45ad-b9f8-a0dc91de59f6",
   "metadata": {},
   "outputs": [],
   "source": [
    "predicted_df = pd.DataFrame({\n",
    "    'y_true': y.numpy(),\n",
    "    'y_pred RNN': y_pred.numpy(),\n",
    "    'RNN Dif': y.numpy() - y_pred.numpy()\n",
    "})"
   ]
  },
  {
   "cell_type": "markdown",
   "id": "2aa0b67d-483b-4db4-a5e1-ac063749bf8c",
   "metadata": {},
   "source": [
    "### Training loop - LSTM"
   ]
  },
  {
   "cell_type": "code",
   "execution_count": 31,
   "id": "569c16ac-bf05-4dc2-94d3-ee06a104e983",
   "metadata": {},
   "outputs": [],
   "source": [
    "# Create the data loader\n",
    "dataloader_train = DataLoader(dataset_train, shuffle=True, batch_size=16)\n",
    "dataloader_test = DataLoader(dataset_test, shuffle=True, batch_size=32)\n",
    "\n",
    "# Build the model\n",
    "lstm_model = LstmSeqToVectorModel()\n",
    "\n",
    "# Set the criterion and the optimizer\n",
    "criterion = nn.MSELoss()\n",
    "optimizer = optim.Adam(lstm_model.parameters(), lr=0.001)"
   ]
  },
  {
   "cell_type": "code",
   "execution_count": 32,
   "id": "48a59606-0d0c-428a-b380-b363ccf901ae",
   "metadata": {},
   "outputs": [
    {
     "name": "stdout",
     "output_type": "stream",
     "text": [
      "Epoch [1], Loss: 0.007406\n",
      "Epoch [2], Loss: 0.010824\n",
      "Epoch [3], Loss: 0.010782\n",
      "Epoch [4], Loss: 0.003647\n",
      "Epoch [5], Loss: 0.007436\n",
      "Epoch [6], Loss: 0.003303\n",
      "Epoch [7], Loss: 0.005534\n",
      "Epoch [8], Loss: 0.004433\n",
      "Epoch [9], Loss: 0.075897\n",
      "Epoch [10], Loss: 0.021503\n"
     ]
    }
   ],
   "source": [
    "# training loop\n",
    "losses_lstm = []\n",
    "epochs = 10\n",
    "lstm_model.train()\n",
    "for epoch in range(epochs):\n",
    "    for X, y in dataloader_train:        # Get feature and target from the data loader\n",
    "        optimizer.zero_grad()            # zero the parameter gradients\n",
    "        X = X.view(16, 96, 1)            # prev=(32, 96), post=(32, 96, 1)\n",
    "        y_pred = lstm_model(X).squeeze() # Run a forward pass\n",
    "        loss = criterion(y_pred, y)      # Compute loss\n",
    "        loss.backward()                  # Backward pass\n",
    "        optimizer.step()                 # Optimization\n",
    "\n",
    "    losses_lstm.append(loss.item())      # Record the loss per epoch\n",
    "    print(f'Epoch [{epoch+1}], Loss: {loss.item():.6f}')"
   ]
  },
  {
   "cell_type": "markdown",
   "id": "05a59cb1-99b9-48c2-ac41-c20d707e3740",
   "metadata": {},
   "source": [
    "#### Evaluation loop - LSTM"
   ]
  },
  {
   "cell_type": "code",
   "execution_count": 33,
   "id": "f55c1dcd-d2b0-473e-8dc1-37d143bf9c20",
   "metadata": {},
   "outputs": [
    {
     "name": "stdout",
     "output_type": "stream",
     "text": [
      "Test MSE: 0.051294200122356415\n"
     ]
    }
   ],
   "source": [
    "mse = MeanSquaredError()\n",
    "\n",
    "lstm_model.eval()\n",
    "with torch.no_grad():\n",
    "    for X, y in dataloader_test:\n",
    "        X = X.view(32, 96, 1)\n",
    "        y_pred = lstm_model(X).squeeze()\n",
    "        mse(y_pred, y)\n",
    "lstm_mse = mse.compute()\n",
    "print(f\"Test MSE: {lstm_mse}\")"
   ]
  },
  {
   "cell_type": "code",
   "execution_count": 34,
   "id": "b81ab1cb-bde4-4a1c-a198-dd5bc2ded791",
   "metadata": {},
   "outputs": [],
   "source": [
    "predicted_df['y_pred LSTM'] = y_pred.numpy()\n",
    "predicted_df['LSTM Dif'] = y.numpy() - y_pred.numpy()"
   ]
  },
  {
   "cell_type": "markdown",
   "id": "43dc27db-f8cf-4d59-8df7-157f8ff2f1a0",
   "metadata": {},
   "source": [
    "### Training loop - GRU"
   ]
  },
  {
   "cell_type": "code",
   "execution_count": 35,
   "id": "521c510b-1355-477b-8874-15cc540eaa57",
   "metadata": {},
   "outputs": [],
   "source": [
    "# Create the data loader\n",
    "dataloader_train = DataLoader(dataset_train, shuffle=True, batch_size=16)\n",
    "dataloader_test = DataLoader(dataset_test, shuffle=True, batch_size=32)\n",
    "\n",
    "# Build the model\n",
    "gru_model = GruSeqToVectorModel()\n",
    "\n",
    "# Set the criterion and the optimizer\n",
    "criterion = nn.MSELoss()\n",
    "optimizer = optim.Adam(gru_model.parameters(), lr=0.001)"
   ]
  },
  {
   "cell_type": "code",
   "execution_count": 36,
   "id": "461e4051-bb29-474f-824e-fdd24cc9223a",
   "metadata": {},
   "outputs": [
    {
     "name": "stdout",
     "output_type": "stream",
     "text": [
      "Epoch [1], Loss: 0.004984\n",
      "Epoch [2], Loss: 0.018639\n",
      "Epoch [3], Loss: 0.007358\n",
      "Epoch [4], Loss: 0.020901\n",
      "Epoch [5], Loss: 0.004643\n",
      "Epoch [6], Loss: 0.003729\n",
      "Epoch [7], Loss: 0.146876\n",
      "Epoch [8], Loss: 0.009133\n",
      "Epoch [9], Loss: 0.107220\n",
      "Epoch [10], Loss: 0.049834\n"
     ]
    }
   ],
   "source": [
    "# training loop\n",
    "losses_gru = []\n",
    "epochs = 10\n",
    "gru_model.train()\n",
    "for epoch in range(epochs):\n",
    "    for X, y in dataloader_train:        # Get feature and target from the data loader\n",
    "        optimizer.zero_grad()            # zero the parameter gradients\n",
    "        X = X.view(16, 96, 1)            # prev=(32, 96), post=(32, 96, 1)\n",
    "        y_pred = gru_model(X).squeeze() # Run a forward pass\n",
    "        loss = criterion(y_pred, y)      # Compute loss\n",
    "        loss.backward()                  # Backward pass\n",
    "        optimizer.step()                 # Optimization\n",
    "\n",
    "    losses_gru.append(loss.item())           # Record the loss per epoch\n",
    "    print(f'Epoch [{epoch+1}], Loss: {loss.item():.6f}')"
   ]
  },
  {
   "cell_type": "markdown",
   "id": "1c4f0c44-2f8d-4c83-aecf-84d553af2cac",
   "metadata": {},
   "source": [
    "#### Evaluation loop - GRU"
   ]
  },
  {
   "cell_type": "code",
   "execution_count": 37,
   "id": "37eb2bce-f392-484d-9990-0a046d09ecef",
   "metadata": {},
   "outputs": [
    {
     "name": "stdout",
     "output_type": "stream",
     "text": [
      "Test MSE: 0.06376148760318756\n"
     ]
    }
   ],
   "source": [
    "mse = MeanSquaredError()\n",
    "\n",
    "gru_model.eval()\n",
    "with torch.no_grad():\n",
    "    for X, y in dataloader_test:\n",
    "        X = X.view(32, 96, 1)\n",
    "        y_pred = gru_model(X).squeeze()\n",
    "        mse(y_pred, y)\n",
    "gru_mse = mse.compute()\n",
    "print(f\"Test MSE: {gru_mse}\")"
   ]
  },
  {
   "cell_type": "code",
   "execution_count": 38,
   "id": "e1529596-1546-49bc-a6fc-50340fc5b661",
   "metadata": {},
   "outputs": [],
   "source": [
    "predicted_df['y_pred GRU'] = y_pred.numpy()\n",
    "predicted_df['GRU Dif'] = y.numpy() - y_pred.numpy()"
   ]
  },
  {
   "cell_type": "markdown",
   "id": "61b2b63e-d455-49ee-bf2e-d245fab13878",
   "metadata": {},
   "source": [
    "### Comparisson RNN vs LSTM vs GRU"
   ]
  },
  {
   "cell_type": "code",
   "execution_count": 39,
   "id": "a3dabfe2-b00b-4aab-9b1a-c4af069cce68",
   "metadata": {},
   "outputs": [
    {
     "data": {
      "image/png": "[encoded data removed]",
      "text/plain": [
       "<Figure size 1000x400 with 1 Axes>"
      ]
     },
     "metadata": {},
     "output_type": "display_data"
    }
   ],
   "source": [
    "# Visualizing the loss in training set\n",
    "fig = plt.figure(figsize=(10, 4))\n",
    "plt.plot(range(epochs), losses_rnn, label='RNN', color='Red')\n",
    "plt.plot(range(epochs), losses_lstm, label='LSTM', color='Blue')\n",
    "plt.plot(range(epochs), losses_gru, label='GRU', color='Green')\n",
    "plt.title(\"Training Loss over Epochs\")\n",
    "plt.xlabel('Epochs')\n",
    "plt.ylabel('Loss')\n",
    "plt.legend()\n",
    "plt.show()"
   ]
  },
  {
   "cell_type": "code",
   "execution_count": 40,
   "id": "29848d16-d992-49ec-a726-1782cd4535ed",
   "metadata": {},
   "outputs": [
    {
     "name": "stdout",
     "output_type": "stream",
     "text": [
      "RNN  Test MSE: 0.051596201956272125\n",
      "LSTM Test MSE: 0.051294200122356415\n",
      "GRU  Test MSE: 0.06376148760318756\n"
     ]
    }
   ],
   "source": [
    "print(f\"RNN  Test MSE: {rnn_mse}\")\n",
    "print(f\"LSTM Test MSE: {lstm_mse}\")\n",
    "print(f\"GRU  Test MSE: {gru_mse}\")"
   ]
  },
  {
   "cell_type": "code",
   "execution_count": 41,
   "id": "881d30a5-019b-4e8f-ab84-b16f5759a39e",
   "metadata": {},
   "outputs": [
    {
     "data": {
      "text/html": [
       "<div>\n",
       "<style scoped>\n",
       "    .dataframe tbody tr th:only-of-type {\n",
       "        vertical-align: middle;\n",
       "    }\n",
       "\n",
       "    .dataframe tbody tr th {\n",
       "        vertical-align: top;\n",
       "    }\n",
       "\n",
       "    .dataframe thead th {\n",
       "        text-align: right;\n",
       "    }\n",
       "</style>\n",
       "<table border=\"1\" class=\"dataframe\">\n",
       "  <thead>\n",
       "    <tr style=\"text-align: right;\">\n",
       "      <th></th>\n",
       "      <th>y_true</th>\n",
       "      <th>y_pred RNN</th>\n",
       "      <th>RNN Dif</th>\n",
       "      <th>y_pred LSTM</th>\n",
       "      <th>LSTM Dif</th>\n",
       "      <th>y_pred GRU</th>\n",
       "      <th>GRU Dif</th>\n",
       "    </tr>\n",
       "  </thead>\n",
       "  <tbody>\n",
       "    <tr>\n",
       "      <th>0</th>\n",
       "      <td>-1.084864</td>\n",
       "      <td>-1.095278</td>\n",
       "      <td>0.010415</td>\n",
       "      <td>-0.135892</td>\n",
       "      <td>0.090813</td>\n",
       "      <td>0.254713</td>\n",
       "      <td>0.110650</td>\n",
       "    </tr>\n",
       "    <tr>\n",
       "      <th>1</th>\n",
       "      <td>-0.501631</td>\n",
       "      <td>-0.300247</td>\n",
       "      <td>-0.201385</td>\n",
       "      <td>1.300826</td>\n",
       "      <td>-0.071003</td>\n",
       "      <td>0.450364</td>\n",
       "      <td>-0.085002</td>\n",
       "    </tr>\n",
       "    <tr>\n",
       "      <th>2</th>\n",
       "      <td>-0.755244</td>\n",
       "      <td>-0.698438</td>\n",
       "      <td>-0.056806</td>\n",
       "      <td>0.032168</td>\n",
       "      <td>-0.001239</td>\n",
       "      <td>-1.079154</td>\n",
       "      <td>0.019626</td>\n",
       "    </tr>\n",
       "    <tr>\n",
       "      <th>3</th>\n",
       "      <td>0.466959</td>\n",
       "      <td>0.643068</td>\n",
       "      <td>-0.176108</td>\n",
       "      <td>-0.135830</td>\n",
       "      <td>0.090752</td>\n",
       "      <td>1.545654</td>\n",
       "      <td>0.040138</td>\n",
       "    </tr>\n",
       "    <tr>\n",
       "      <th>4</th>\n",
       "      <td>0.030929</td>\n",
       "      <td>0.099334</td>\n",
       "      <td>-0.068405</td>\n",
       "      <td>0.047495</td>\n",
       "      <td>0.394129</td>\n",
       "      <td>-0.736480</td>\n",
       "      <td>0.057498</td>\n",
       "    </tr>\n",
       "    <tr>\n",
       "      <th>5</th>\n",
       "      <td>-0.450960</td>\n",
       "      <td>-0.238825</td>\n",
       "      <td>-0.212135</td>\n",
       "      <td>-0.480552</td>\n",
       "      <td>1.074698</td>\n",
       "      <td>-0.420404</td>\n",
       "      <td>-0.030556</td>\n",
       "    </tr>\n",
       "    <tr>\n",
       "      <th>6</th>\n",
       "      <td>-0.831251</td>\n",
       "      <td>-0.874505</td>\n",
       "      <td>0.043254</td>\n",
       "      <td>0.825377</td>\n",
       "      <td>0.099149</td>\n",
       "      <td>0.144406</td>\n",
       "      <td>-0.164149</td>\n",
       "    </tr>\n",
       "    <tr>\n",
       "      <th>7</th>\n",
       "      <td>-1.059528</td>\n",
       "      <td>-1.069390</td>\n",
       "      <td>0.009862</td>\n",
       "      <td>0.251682</td>\n",
       "      <td>-0.347432</td>\n",
       "      <td>0.906658</td>\n",
       "      <td>-0.083730</td>\n",
       "    </tr>\n",
       "    <tr>\n",
       "      <th>8</th>\n",
       "      <td>-0.805915</td>\n",
       "      <td>-0.825920</td>\n",
       "      <td>0.020004</td>\n",
       "      <td>-0.574107</td>\n",
       "      <td>0.529028</td>\n",
       "      <td>0.407310</td>\n",
       "      <td>-0.118208</td>\n",
       "    </tr>\n",
       "    <tr>\n",
       "      <th>9</th>\n",
       "      <td>1.509278</td>\n",
       "      <td>1.657978</td>\n",
       "      <td>-0.148701</td>\n",
       "      <td>-1.108754</td>\n",
       "      <td>0.023891</td>\n",
       "      <td>0.212717</td>\n",
       "      <td>0.635548</td>\n",
       "    </tr>\n",
       "    <tr>\n",
       "      <th>10</th>\n",
       "      <td>0.594146</td>\n",
       "      <td>0.794061</td>\n",
       "      <td>-0.199916</td>\n",
       "      <td>-0.034792</td>\n",
       "      <td>0.628938</td>\n",
       "      <td>1.071922</td>\n",
       "      <td>-0.045546</td>\n",
       "    </tr>\n",
       "    <tr>\n",
       "      <th>11</th>\n",
       "      <td>-0.907259</td>\n",
       "      <td>-0.929684</td>\n",
       "      <td>0.022425</td>\n",
       "      <td>0.208081</td>\n",
       "      <td>0.081021</td>\n",
       "      <td>1.350093</td>\n",
       "      <td>0.159185</td>\n",
       "    </tr>\n",
       "    <tr>\n",
       "      <th>12</th>\n",
       "      <td>-0.400035</td>\n",
       "      <td>-0.045518</td>\n",
       "      <td>-0.354516</td>\n",
       "      <td>0.301394</td>\n",
       "      <td>-0.063218</td>\n",
       "      <td>0.637004</td>\n",
       "      <td>0.008067</td>\n",
       "    </tr>\n",
       "    <tr>\n",
       "      <th>13</th>\n",
       "      <td>0.212840</td>\n",
       "      <td>0.249225</td>\n",
       "      <td>-0.036385</td>\n",
       "      <td>-0.805621</td>\n",
       "      <td>0.025042</td>\n",
       "      <td>0.542629</td>\n",
       "      <td>0.076852</td>\n",
       "    </tr>\n",
       "    <tr>\n",
       "      <th>14</th>\n",
       "      <td>-1.110199</td>\n",
       "      <td>-1.138306</td>\n",
       "      <td>0.028107</td>\n",
       "      <td>-0.894280</td>\n",
       "      <td>-0.012979</td>\n",
       "      <td>-0.504405</td>\n",
       "      <td>-0.022562</td>\n",
       "    </tr>\n",
       "    <tr>\n",
       "      <th>15</th>\n",
       "      <td>-0.957931</td>\n",
       "      <td>-0.974070</td>\n",
       "      <td>0.016139</td>\n",
       "      <td>-0.278522</td>\n",
       "      <td>0.385458</td>\n",
       "      <td>-0.712874</td>\n",
       "      <td>0.033891</td>\n",
       "    </tr>\n",
       "    <tr>\n",
       "      <th>16</th>\n",
       "      <td>-1.059528</td>\n",
       "      <td>-1.068492</td>\n",
       "      <td>0.008964</td>\n",
       "      <td>-0.411716</td>\n",
       "      <td>-0.089915</td>\n",
       "      <td>1.270300</td>\n",
       "      <td>-0.040477</td>\n",
       "    </tr>\n",
       "    <tr>\n",
       "      <th>17</th>\n",
       "      <td>0.056265</td>\n",
       "      <td>0.007700</td>\n",
       "      <td>0.048564</td>\n",
       "      <td>-1.042107</td>\n",
       "      <td>0.058841</td>\n",
       "      <td>0.767622</td>\n",
       "      <td>0.131567</td>\n",
       "    </tr>\n",
       "    <tr>\n",
       "      <th>18</th>\n",
       "      <td>1.382345</td>\n",
       "      <td>1.590922</td>\n",
       "      <td>-0.208577</td>\n",
       "      <td>0.669375</td>\n",
       "      <td>-0.024304</td>\n",
       "      <td>-0.706368</td>\n",
       "      <td>-0.023540</td>\n",
       "    </tr>\n",
       "    <tr>\n",
       "      <th>19</th>\n",
       "      <td>-0.400035</td>\n",
       "      <td>-0.284126</td>\n",
       "      <td>-0.115909</td>\n",
       "      <td>-0.862827</td>\n",
       "      <td>0.031576</td>\n",
       "      <td>-0.976678</td>\n",
       "      <td>0.018747</td>\n",
       "    </tr>\n",
       "    <tr>\n",
       "      <th>20</th>\n",
       "      <td>-0.932595</td>\n",
       "      <td>-0.976505</td>\n",
       "      <td>0.043911</td>\n",
       "      <td>-0.483886</td>\n",
       "      <td>0.007591</td>\n",
       "      <td>-0.886163</td>\n",
       "      <td>0.004240</td>\n",
       "    </tr>\n",
       "    <tr>\n",
       "      <th>21</th>\n",
       "      <td>-0.526967</td>\n",
       "      <td>-0.611950</td>\n",
       "      <td>0.084982</td>\n",
       "      <td>0.114172</td>\n",
       "      <td>-0.108579</td>\n",
       "      <td>0.150783</td>\n",
       "      <td>0.036468</td>\n",
       "    </tr>\n",
       "    <tr>\n",
       "      <th>22</th>\n",
       "      <td>1.433017</td>\n",
       "      <td>1.182628</td>\n",
       "      <td>0.250388</td>\n",
       "      <td>0.824496</td>\n",
       "      <td>-0.001567</td>\n",
       "      <td>-0.369771</td>\n",
       "      <td>0.071080</td>\n",
       "    </tr>\n",
       "    <tr>\n",
       "      <th>23</th>\n",
       "      <td>-1.059528</td>\n",
       "      <td>-1.071265</td>\n",
       "      <td>0.011737</td>\n",
       "      <td>0.062596</td>\n",
       "      <td>-0.462630</td>\n",
       "      <td>-0.301494</td>\n",
       "      <td>0.078810</td>\n",
       "    </tr>\n",
       "    <tr>\n",
       "      <th>24</th>\n",
       "      <td>0.030929</td>\n",
       "      <td>-0.417847</td>\n",
       "      <td>0.448776</td>\n",
       "      <td>-0.739171</td>\n",
       "      <td>0.009263</td>\n",
       "      <td>-0.660749</td>\n",
       "      <td>0.032438</td>\n",
       "    </tr>\n",
       "    <tr>\n",
       "      <th>25</th>\n",
       "      <td>1.509278</td>\n",
       "      <td>1.585307</td>\n",
       "      <td>-0.076029</td>\n",
       "      <td>0.533799</td>\n",
       "      <td>0.060347</td>\n",
       "      <td>0.983514</td>\n",
       "      <td>0.093787</td>\n",
       "    </tr>\n",
       "    <tr>\n",
       "      <th>26</th>\n",
       "      <td>-0.881923</td>\n",
       "      <td>-0.883249</td>\n",
       "      <td>0.001326</td>\n",
       "      <td>-0.847096</td>\n",
       "      <td>0.041180</td>\n",
       "      <td>0.194681</td>\n",
       "      <td>-0.163752</td>\n",
       "    </tr>\n",
       "    <tr>\n",
       "      <th>27</th>\n",
       "      <td>0.416034</td>\n",
       "      <td>0.877957</td>\n",
       "      <td>-0.461923</td>\n",
       "      <td>-1.019813</td>\n",
       "      <td>0.036546</td>\n",
       "      <td>-1.068388</td>\n",
       "      <td>0.059532</td>\n",
       "    </tr>\n",
       "    <tr>\n",
       "      <th>28</th>\n",
       "      <td>1.331420</td>\n",
       "      <td>1.483856</td>\n",
       "      <td>-0.152436</td>\n",
       "      <td>-0.078969</td>\n",
       "      <td>-0.016782</td>\n",
       "      <td>1.180059</td>\n",
       "      <td>0.024175</td>\n",
       "    </tr>\n",
       "    <tr>\n",
       "      <th>29</th>\n",
       "      <td>-0.095751</td>\n",
       "      <td>-0.112038</td>\n",
       "      <td>0.016288</td>\n",
       "      <td>0.645317</td>\n",
       "      <td>-0.025836</td>\n",
       "      <td>-0.405261</td>\n",
       "      <td>0.005227</td>\n",
       "    </tr>\n",
       "    <tr>\n",
       "      <th>30</th>\n",
       "      <td>-0.577639</td>\n",
       "      <td>-0.535211</td>\n",
       "      <td>-0.042428</td>\n",
       "      <td>-0.540679</td>\n",
       "      <td>-0.011624</td>\n",
       "      <td>-0.495441</td>\n",
       "      <td>0.095406</td>\n",
       "    </tr>\n",
       "    <tr>\n",
       "      <th>31</th>\n",
       "      <td>-1.034192</td>\n",
       "      <td>-1.031082</td>\n",
       "      <td>-0.003110</td>\n",
       "      <td>0.413866</td>\n",
       "      <td>0.053094</td>\n",
       "      <td>0.728626</td>\n",
       "      <td>0.043377</td>\n",
       "    </tr>\n",
       "  </tbody>\n",
       "</table>\n",
       "</div>"
      ],
      "text/plain": [
       "      y_true  y_pred RNN   RNN Dif  y_pred LSTM  LSTM Dif  y_pred GRU  \\\n",
       "0  -1.084864   -1.095278  0.010415    -0.135892  0.090813    0.254713   \n",
       "1  -0.501631   -0.300247 -0.201385     1.300826 -0.071003    0.450364   \n",
       "2  -0.755244   -0.698438 -0.056806     0.032168 -0.001239   -1.079154   \n",
       "3   0.466959    0.643068 -0.176108    -0.135830  0.090752    1.545654   \n",
       "4   0.030929    0.099334 -0.068405     0.047495  0.394129   -0.736480   \n",
       "5  -0.450960   -0.238825 -0.212135    -0.480552  1.074698   -0.420404   \n",
       "6  -0.831251   -0.874505  0.043254     0.825377  0.099149    0.144406   \n",
       "7  -1.059528   -1.069390  0.009862     0.251682 -0.347432    0.906658   \n",
       "8  -0.805915   -0.825920  0.020004    -0.574107  0.529028    0.407310   \n",
       "9   1.509278    1.657978 -0.148701    -1.108754  0.023891    0.212717   \n",
       "10  0.594146    0.794061 -0.199916    -0.034792  0.628938    1.071922   \n",
       "11 -0.907259   -0.929684  0.022425     0.208081  0.081021    1.350093   \n",
       "12 -0.400035   -0.045518 -0.354516     0.301394 -0.063218    0.637004   \n",
       "13  0.212840    0.249225 -0.036385    -0.805621  0.025042    0.542629   \n",
       "14 -1.110199   -1.138306  0.028107    -0.894280 -0.012979   -0.504405   \n",
       "15 -0.957931   -0.974070  0.016139    -0.278522  0.385458   -0.712874   \n",
       "16 -1.059528   -1.068492  0.008964    -0.411716 -0.089915    1.270300   \n",
       "17  0.056265    0.007700  0.048564    -1.042107  0.058841    0.767622   \n",
       "18  1.382345    1.590922 -0.208577     0.669375 -0.024304   -0.706368   \n",
       "19 -0.400035   -0.284126 -0.115909    -0.862827  0.031576   -0.976678   \n",
       "20 -0.932595   -0.976505  0.043911    -0.483886  0.007591   -0.886163   \n",
       "21 -0.526967   -0.611950  0.084982     0.114172 -0.108579    0.150783   \n",
       "22  1.433017    1.182628  0.250388     0.824496 -0.001567   -0.369771   \n",
       "23 -1.059528   -1.071265  0.011737     0.062596 -0.462630   -0.301494   \n",
       "24  0.030929   -0.417847  0.448776    -0.739171  0.009263   -0.660749   \n",
       "25  1.509278    1.585307 -0.076029     0.533799  0.060347    0.983514   \n",
       "26 -0.881923   -0.883249  0.001326    -0.847096  0.041180    0.194681   \n",
       "27  0.416034    0.877957 -0.461923    -1.019813  0.036546   -1.068388   \n",
       "28  1.331420    1.483856 -0.152436    -0.078969 -0.016782    1.180059   \n",
       "29 -0.095751   -0.112038  0.016288     0.645317 -0.025836   -0.405261   \n",
       "30 -0.577639   -0.535211 -0.042428    -0.540679 -0.011624   -0.495441   \n",
       "31 -1.034192   -1.031082 -0.003110     0.413866  0.053094    0.728626   \n",
       "\n",
       "     GRU Dif  \n",
       "0   0.110650  \n",
       "1  -0.085002  \n",
       "2   0.019626  \n",
       "3   0.040138  \n",
       "4   0.057498  \n",
       "5  -0.030556  \n",
       "6  -0.164149  \n",
       "7  -0.083730  \n",
       "8  -0.118208  \n",
       "9   0.635548  \n",
       "10 -0.045546  \n",
       "11  0.159185  \n",
       "12  0.008067  \n",
       "13  0.076852  \n",
       "14 -0.022562  \n",
       "15  0.033891  \n",
       "16 -0.040477  \n",
       "17  0.131567  \n",
       "18 -0.023540  \n",
       "19  0.018747  \n",
       "20  0.004240  \n",
       "21  0.036468  \n",
       "22  0.071080  \n",
       "23  0.078810  \n",
       "24  0.032438  \n",
       "25  0.093787  \n",
       "26 -0.163752  \n",
       "27  0.059532  \n",
       "28  0.024175  \n",
       "29  0.005227  \n",
       "30  0.095406  \n",
       "31  0.043377  "
      ]
     },
     "execution_count": 41,
     "metadata": {},
     "output_type": "execute_result"
    }
   ],
   "source": [
    "# Reviewing results\n",
    "predicted_df"
   ]
  },
  {
   "cell_type": "markdown",
   "id": "7dca7773-7d0a-41c5-aa66-112e2f4aecdd",
   "metadata": {},
   "source": [
    "### Ex.6 - RNN training loop\n",
    "\n",
    "It's time to train the electricity consumption forecasting model!\n",
    "\n",
    "You will use the `LSTM` network you have defined previously which is available to you as Net, as is the `dataloader_train` you built before. You will also need to use `torch.nn` which has already been imported as `nn`.\n",
    "\n",
    "In this exercise, you will train the model for only three epochs to make sure the training progresses as expected. Let's get to it!\n",
    "\n",
    "**Instructions**\n",
    "\n",
    "1. Set up the Mean Squared Error loss and assign it to `criterion`.\n",
    "2. Reshape `seqs` to (`batch size`, `sequence length`, `num features`), which in our case is `(16, 96, 1)`, and re-assign the result to `seqs`.\n",
    "3. Pass `seqs` to the model to get its outputs.\n",
    "4. Based on previously computed quantities, calculate the `loss`, assigning it to `loss`.\n",
    "\n",
    "---------------------------------------------\n",
    "\n",
    "```\n",
    "net = Net()\n",
    "# Set up MSE loss\n",
    "criterion = nn.MSELoss()\n",
    "optimizer = optim.Adam(\n",
    "  net.parameters(), lr=0.0001\n",
    ")\n",
    "\n",
    "for epoch in range(3):\n",
    "    for seqs, labels in dataloader_train:\n",
    "        # Reshape model inputs\n",
    "        seqs = seqs.view(16, 96, 1) \n",
    "        # Get model outputs\n",
    "        outputs = net(seqs)\n",
    "        # Compute loss\n",
    "        loss = criterion(outputs, labels)\n",
    "        optimizer.zero_grad()\n",
    "        loss.backward()\n",
    "        optimizer.step()\n",
    "    print(f\"Epoch {epoch+1}, Loss: {loss.item()}\")\n",
    "```"
   ]
  },
  {
   "cell_type": "markdown",
   "id": "5ba08398-2590-4bec-8a95-66ea787456d0",
   "metadata": {},
   "source": [
    "### Ex.7 - Evaluating forecasting models\n",
    "\n",
    "It's evaluation time! The same `LSTM` network that you have trained in the previous exercise has been trained for you for a few more epochs and is available as net.\n",
    "\n",
    "Your task is to evaluate it on a test dataset using the Mean Squared Error metric (torchmetrics has already been imported for you). Let's see how well the model is doing!\n",
    "\n",
    "**Instructions**\n",
    "\n",
    "1. Define the Mean Squared Error metrics and assign it to `mse`.\n",
    "2. Pass the input sequence to `net`, and `squeeze` the result before you assign it to outputs.\n",
    "3. Compute the final value of the test metric assigning it to `test_mse`.\n",
    "\n",
    "-----------------------------------------\n",
    "```\n",
    "# Define MSE metric\n",
    "mse = torchmetrics.MeanSquaredError()\n",
    "\n",
    "net.eval()\n",
    "with torch.no_grad():\n",
    "    for seqs, labels in dataloader_test:\n",
    "        seqs = seqs.view(32, 96, 1)\n",
    "        # Pass seqs to net and squeeze the result\n",
    "        outputs = net(seqs).squeeze()\n",
    "        mse(outputs, labels)\n",
    "\n",
    "# Compute final metric value\n",
    "test_mse = mse.compute()\n",
    "print(f\"Test MSE: {test_mse}\")\n",
    "```"
   ]
  },
  {
   "cell_type": "markdown",
   "id": "a38e5540-3aed-476c-a13b-2ae6a42efaa3",
   "metadata": {},
   "source": [
    "---------------------------------"
   ]
  }
 ],
 "metadata": {
  "kernelspec": {
   "display_name": "Python 3 (ipykernel)",
   "language": "python",
   "name": "python3"
  },
  "language_info": {
   "codemirror_mode": {
    "name": "ipython",
    "version": 3
   },
   "file_extension": ".py",
   "mimetype": "text/x-python",
   "name": "python",
   "nbconvert_exporter": "python",
   "pygments_lexer": "ipython3",
   "version": "3.8.19"
  }
 },
 "nbformat": 4,
 "nbformat_minor": 5
}
