{
 "cells": [
  {
   "cell_type": "markdown",
   "id": "dee87fba-4b2e-4a82-973a-e20cef93162d",
   "metadata": {},
   "source": [
    "# Predicting Alphabet and Character\n",
    "\n",
    "Data source: \n",
    "- Training: `data-sources/omniglot/omniglot_train/`\n",
    "- Testing : `data-sources/omniglot/omniglot_test/`\n",
    "\n",
    "Predicting: \n",
    "- alphabet (30 different alphabets)\n",
    "- character (964 different characters)\n",
    "\n",
    "## 1. Prepare environment"
   ]
  },
  {
   "cell_type": "code",
   "execution_count": 1,
   "id": "7e02ee76-f03a-40ab-b7ca-96eb21dba662",
   "metadata": {},
   "outputs": [],
   "source": [
    "# Importing libraries\n",
    "import expectexception\n",
    "import matplotlib.pyplot as plt\n",
    "import numpy as np\n",
    "import pandas as pd\n",
    "import os\n",
    "import re\n",
    "\n",
    "import torch\n",
    "import torch.nn as nn\n",
    "import torch.optim as optim\n",
    "\n",
    "from environment import prepare_environment\n",
    "from PIL import Image\n",
    "from typing import List, Tuple\n",
    "from sklearn.preprocessing import LabelBinarizer\n",
    "from pprint import pprint\n",
    "\n",
    "from torch.utils.data import Dataset, DataLoader\n",
    "from torchvision import transforms\n",
    "from torchmetrics import Accuracy"
   ]
  },
  {
   "cell_type": "code",
   "execution_count": 2,
   "id": "f526cef4-e9fd-4e47-8db7-c6937e831364",
   "metadata": {},
   "outputs": [],
   "source": [
    "# Global variables\n",
    "SEED = 42\n",
    "\n",
    "DATASET_OMNIGLOT_TRAIN = \"data-sources/omniglot/omniglot_train/\"\n",
    "DATASET_OMNIGLOT_TEST = \"data-sources/omniglot/omniglot_test/\"\n",
    "\n",
    "MODEL_OMNIGLOT_CLASSIFIER = \"artifacts/omniglotclassifier-multioutput.pth\""
   ]
  },
  {
   "cell_type": "code",
   "execution_count": 3,
   "id": "d08ec658-3082-43a3-9275-b09164cbc5d4",
   "metadata": {},
   "outputs": [
    {
     "name": "stdout",
     "output_type": "stream",
     "text": [
      "2.4.1+cu124\n",
      "Cuda is available? True\n",
      "Device: NVIDIA GeForce RTX 3050 Ti Laptop GPU\n"
     ]
    }
   ],
   "source": [
    "# Check if your GPU driver and CUDA is enabled and accessible by PyTorch\n",
    "print(torch.__version__)\n",
    "print('Cuda is available?', torch.cuda.is_available())\n",
    "\n",
    "device = torch.cuda.current_device()  # returns you the ID of your current device\n",
    "print('Device:', torch.cuda.get_device_name(device))  # returns you the name of the device\n",
    "\n",
    "# # Reviewing allocated memmory, it is 0 if there is nothing allocated\n",
    "# cuda_memory = torch.cuda.memory_allocated(device)\n",
    "# cuda_cache = torch.cuda.memory_reserved(device)\n",
    "# print(f\"\"\"\n",
    "# CUDA memory device: {cuda_memory}\n",
    "# CUDA cache  device: {cuda_cache}\n",
    "# \"\"\")"
   ]
  },
  {
   "cell_type": "code",
   "execution_count": 4,
   "id": "0a381f7b-e8e3-49f2-b67d-7548979c78c8",
   "metadata": {},
   "outputs": [],
   "source": [
    "# Global configuration\n",
    "prepare_environment()\n",
    "\n",
    "torch.set_printoptions(precision=10)\n",
    "\n",
    "# Reproducibility\n",
    "np.random.seed(SEED)\n",
    "_ = torch.manual_seed(SEED)"
   ]
  },
  {
   "cell_type": "markdown",
   "id": "eaac5a22-e981-415f-9e18-5db283f44f8f",
   "metadata": {},
   "source": [
    "### Utilities"
   ]
  },
  {
   "cell_type": "code",
   "execution_count": 5,
   "id": "8972afda-b86b-4e82-b3ff-b001ff4b78f7",
   "metadata": {},
   "outputs": [],
   "source": [
    "class OmniglotDataset(Dataset):\n",
    "    \"\"\"Extended DatasetClass to generate a 2-input Dataset.\n",
    "    Assumptions:\n",
    "    - The images are distributed by alphabets and characters subfolders, each alphabets contains n subfolders one for\n",
    "      each characters, and inside there is n images.\n",
    "    \"\"\"\n",
    "    def __init__(self, \n",
    "                 transform: transforms.transforms.Compose, \n",
    "                 samples: List[Tuple[str, np.ndarray, int]]) -> None:\n",
    "        self.transform = transform\n",
    "        self.samples = samples\n",
    "    \n",
    "    def __len__(self) -> int:\n",
    "        return len(self.samples)\n",
    "        \n",
    "    def __getitem__(self, idx) -> Tuple[Image.Image, np.ndarray, int]:\n",
    "        img_path, alphabet, label = self.samples[idx]\n",
    "        img = Image.open(img_path).convert('L')  # L >> Grayscale\n",
    "        img = self.transform(img)\n",
    "        return img, alphabet, label"
   ]
  },
  {
   "cell_type": "code",
   "execution_count": 6,
   "id": "7f71f11c-4efe-4702-95d7-482b57976306",
   "metadata": {},
   "outputs": [],
   "source": [
    "def get_samples(root_dir: str) -> List[Tuple[str, np.ndarray, int]]:\n",
    "    \"\"\"Get samples to use in the Two-Input-Dataset.\"\"\"\n",
    "    samples = []\n",
    "    alphabet_dict = {}\n",
    "    char_pos = -1\n",
    "    prev_alphabet = ''\n",
    "    for path, root, files in os.walk(root_dir):\n",
    "        if not alphabet_dict:\n",
    "            alphabet_dict = root\n",
    "        if files:\n",
    "            if files[0][-3:] == 'png':\n",
    "                path_items = path.replace('\\\\', '/').split('/')\n",
    "                alphabet_name = path_items[-2]\n",
    "                if alphabet_name != prev_alphabet:\n",
    "                    if prev_alphabet != '':\n",
    "                        char_pos = char_num\n",
    "                    prev_alphabet = alphabet_name\n",
    "                alphabet = alphabet_dict.index(alphabet_name)\n",
    "                char_num = int(re.search(r'\\d{0,3}$', path_items[-1]).group()) + char_pos\n",
    "                samples.extend([(os.path.join(path, file), alphabet, char_num)\n",
    "                                for file in files])\n",
    "    return samples"
   ]
  },
  {
   "cell_type": "code",
   "execution_count": 7,
   "id": "8dfbc5df-0ba2-4bed-b63f-fd9eeec4e810",
   "metadata": {},
   "outputs": [],
   "source": [
    "class TwoOutputNetModel(nn.Module):\n",
    "    \"\"\"Two-Output Architecture Model to predict the character and \n",
    "    the alphabet it belongs to.\n",
    "    \"\"\"\n",
    "    def __init__(self):\n",
    "        super().__init__()\n",
    "        self.image_layer = nn.Sequential(         # Input img 1X64x64 (channel, w, h)\n",
    "            nn.Conv2d(1, 16, \n",
    "                      kernel_size=3, padding=1),  # In-channel=1, Out-channel=16 → 16x64x64\n",
    "            nn.MaxPool2d(kernel_size=2),          # Divide image size by 2 → 16x32x32\n",
    "            nn.ELU(),                             # No Changes → 16x32x32\n",
    "            nn.Flatten(),                         # Flatten → 16x32x32\n",
    "            nn.Linear(16*32*32, 128),             # No Changes → 16x32x32\n",
    "        )\n",
    "        self.classifier_alpha = nn.Linear(128, 30)\n",
    "        self.classifier_char = nn.Linear(128, 964)\n",
    "\n",
    "    def forward(self, x_image:torch.Tensor):\n",
    "        x_image = x_image.float()\n",
    "        x_image = self.image_layer(x_image)\n",
    "        output_alpha = self.classifier_alpha(x_image)\n",
    "        output_char = self.classifier_char(x_image)\n",
    "        return output_alpha, output_char"
   ]
  },
  {
   "cell_type": "markdown",
   "id": "63a99266-80ba-46fb-8330-e9d966765d4f",
   "metadata": {},
   "source": [
    "## 2. Review datasets"
   ]
  },
  {
   "cell_type": "code",
   "execution_count": 8,
   "id": "24a2d0a3-b850-4e9e-9375-fa2327a82e2f",
   "metadata": {},
   "outputs": [
    {
     "name": "stdout",
     "output_type": "stream",
     "text": [
      "TRAIN DATASET:\n",
      "- Alphabet_of_the_Magi                       >> chars: 20, images: 301\n",
      "- Anglo-Saxon_Futhorc                        >> chars: 29, images: 438\n",
      "- Arcadian                                   >> chars: 26, images: 398\n",
      "- Armenian                                   >> chars: 41, images: 620\n",
      "- Asomtavruli_(Georgian)                     >> chars: 40, images: 575\n",
      "- Balinese                                   >> chars: 24, images: 369\n",
      "- Bengali                                    >> chars: 46, images: 680\n",
      "- Blackfoot_(Canadian_Aboriginal_Syllabics)  >> chars: 14, images: 205\n",
      "- Braille                                    >> chars: 26, images: 397\n",
      "- Burmese_(Myanmar)                          >> chars: 34, images: 511\n",
      "- Cyrillic                                   >> chars: 33, images: 482\n",
      "- Early_Aramaic                              >> chars: 22, images: 338\n",
      "- Futurama                                   >> chars: 26, images: 400\n",
      "- Grantha                                    >> chars: 43, images: 631\n",
      "- Greek                                      >> chars: 24, images: 348\n",
      "- Gujarati                                   >> chars: 48, images: 696\n",
      "- Hebrew                                     >> chars: 22, images: 336\n",
      "- Inuktitut_(Canadian_Aboriginal_Syllabics)  >> chars: 16, images: 236\n",
      "- Japanese_(hiragana)                        >> chars: 52, images: 771\n",
      "- Japanese_(katakana)                        >> chars: 47, images: 704\n",
      "- Korean                                     >> chars: 40, images: 602\n",
      "- Latin                                      >> chars: 26, images: 373\n",
      "- Malay_(Jawi_-_Arabic)                      >> chars: 40, images: 583\n",
      "- Mkhedruli_(Georgian)                       >> chars: 41, images: 638\n",
      "- N_Ko                                       >> chars: 33, images: 495\n",
      "- Ojibwe_(Canadian_Aboriginal_Syllabics)     >> chars: 14, images: 212\n",
      "- Sanskrit                                   >> chars: 42, images: 634\n",
      "- Syriac_(Estrangelo)                        >> chars: 23, images: 335\n",
      "- Tagalog                                    >> chars: 17, images: 250\n",
      "- Tifinagh                                   >> chars: 55, images: 842\n",
      "Total images: 14400 (964 characters)\n"
     ]
    }
   ],
   "source": [
    "print('TRAIN DATASET:')\n",
    "total_img = 0\n",
    "total_chr = 0\n",
    "for directory in os.listdir(DATASET_OMNIGLOT_TRAIN):\n",
    "    char_files = [(len(d), len(f)) \n",
    "                  for _, d, f in os.walk(DATASET_OMNIGLOT_TRAIN + directory)]\n",
    "    num_chars, num_files = map(sum, zip(*char_files))\n",
    "    print(f'- {directory:<42} >> chars: {num_chars}, images: {num_files}')\n",
    "    total_img += num_files\n",
    "    total_chr += num_chars\n",
    "print(f'Total images: {total_img} ({total_chr} characters)')"
   ]
  },
  {
   "cell_type": "code",
   "execution_count": 9,
   "id": "77d441d1-6828-465e-8e20-c60cf9022e5c",
   "metadata": {},
   "outputs": [
    {
     "name": "stdout",
     "output_type": "stream",
     "text": [
      "TEST DATASET:\n",
      "- Alphabet_of_the_Magi                       >> chars: 20, images: 244\n",
      "- Anglo-Saxon_Futhorc                        >> chars: 29, images: 351\n",
      "- Arcadian                                   >> chars: 26, images: 328\n",
      "- Armenian                                   >> chars: 41, images: 537\n",
      "- Asomtavruli_(Georgian)                     >> chars: 40, images: 510\n",
      "- Balinese                                   >> chars: 24, images: 302\n",
      "- Bengali                                    >> chars: 46, images: 594\n",
      "- Blackfoot_(Canadian_Aboriginal_Syllabics)  >> chars: 14, images: 175\n",
      "- Braille                                    >> chars: 26, images: 302\n",
      "- Burmese_(Myanmar)                          >> chars: 34, images: 429\n",
      "- Cyrillic                                   >> chars: 33, images: 410\n",
      "- Early_Aramaic                              >> chars: 22, images: 282\n",
      "- Futurama                                   >> chars: 26, images: 321\n",
      "- Grantha                                    >> chars: 43, images: 558\n",
      "- Greek                                      >> chars: 24, images: 311\n",
      "- Gujarati                                   >> chars: 48, images: 614\n",
      "- Hebrew                                     >> chars: 22, images: 281\n",
      "- Inuktitut_(Canadian_Aboriginal_Syllabics)  >> chars: 16, images: 204\n",
      "- Japanese_(hiragana)                        >> chars: 52, images: 649\n",
      "- Japanese_(katakana)                        >> chars: 47, images: 587\n",
      "- Korean                                     >> chars: 40, images: 497\n",
      "- Latin                                      >> chars: 26, images: 335\n",
      "- Malay_(Jawi_-_Arabic)                      >> chars: 40, images: 513\n",
      "- Mkhedruli_(Georgian)                       >> chars: 41, images: 474\n",
      "- N_Ko                                       >> chars: 33, images: 420\n",
      "- Ojibwe_(Canadian_Aboriginal_Syllabics)     >> chars: 14, images: 185\n",
      "- Sanskrit                                   >> chars: 42, images: 544\n",
      "- Syriac_(Estrangelo)                        >> chars: 23, images: 298\n",
      "- Tagalog                                    >> chars: 17, images: 201\n",
      "- Tifinagh                                   >> chars: 55, images: 693\n",
      "Total images: 12149 (964 characters)\n"
     ]
    }
   ],
   "source": [
    "print('TEST DATASET:')\n",
    "total_img = 0\n",
    "total_chr = 0\n",
    "for directory in os.listdir(DATASET_OMNIGLOT_TEST):\n",
    "    char_files = [(len(d), len(f)) \n",
    "                  for _, d, f in os.walk(DATASET_OMNIGLOT_TEST + directory)]\n",
    "    num_chars, num_files = map(sum, zip(*char_files))\n",
    "    print(f'- {directory:<42} >> chars: {num_chars}, images: {num_files}')\n",
    "    total_img += num_files\n",
    "    total_chr += num_chars\n",
    "print(f'Total images: {total_img} ({total_chr} characters)')"
   ]
  },
  {
   "cell_type": "code",
   "execution_count": 10,
   "id": "182255c0-ac59-42ee-a3e0-e10a7990b74b",
   "metadata": {},
   "outputs": [
    {
     "data": {
      "image/png": "[encoded data removed]",
      "text/plain": [
       "<Figure size 1000x400 with 16 Axes>"
      ]
     },
     "metadata": {},
     "output_type": "display_data"
    }
   ],
   "source": [
    "# Reviewing kind of images\n",
    "image_dir = DATASET_OMNIGLOT_TRAIN + os.listdir(DATASET_OMNIGLOT_TRAIN)[0]\n",
    "image_dir = image_dir + '/' + os.listdir(image_dir)[0] + '/'\n",
    "images = os.listdir(image_dir)\n",
    "\n",
    "fig, axes =  plt.subplots(2, int(len(images)/2), figsize=(10, 4))\n",
    "fig.suptitle(image_dir)\n",
    "axes = axes.flatten()\n",
    "for i, ax in enumerate(axes):\n",
    "    image = plt.imread(f\"{image_dir}{images[i]}\")\n",
    "    ax.imshow(image)\n",
    "    ax.set_title(images[i], fontsize=6)\n",
    "    ax.axis('off')\n",
    "plt.tight_layout()\n",
    "plt.show()"
   ]
  },
  {
   "cell_type": "markdown",
   "id": "3be31c95-7e5a-42af-b9d5-bc99b15ce9ca",
   "metadata": {},
   "source": [
    "## 3. Get dataloader"
   ]
  },
  {
   "cell_type": "code",
   "execution_count": 11,
   "id": "054a8e5a-a6fb-4fc9-bc9c-3560ed3d852f",
   "metadata": {},
   "outputs": [
    {
     "name": "stdout",
     "output_type": "stream",
     "text": [
      "\n",
      "Train dataset size: 14400\n",
      "Test dataset size: 12149\n",
      "\n"
     ]
    }
   ],
   "source": [
    "# Get the samples\n",
    "samples_train = get_samples(DATASET_OMNIGLOT_TRAIN)\n",
    "samples_test = get_samples(DATASET_OMNIGLOT_TEST)\n",
    "\n",
    "# Image transformation\n",
    "image_transforms = transforms.Compose([transforms.ToTensor(),\n",
    "                                       transforms.Resize((64, 64)),\n",
    "                                      ])\n",
    "\n",
    "# Get the dataset\n",
    "dataset_train = OmniglotDataset(transform=image_transforms, samples=samples_train)\n",
    "dataset_test = OmniglotDataset(transform=image_transforms, samples=samples_test)\n",
    "\n",
    "print(f\"\"\"\n",
    "Train dataset size: {len(dataset_train)}\n",
    "Test dataset size: {len(dataset_test)}\n",
    "\"\"\")\n",
    "\n",
    "# Create a DataLoader based on dataset\n",
    "dataloader_train = DataLoader(dataset_train, batch_size=20, shuffle=True)\n",
    "dataloader_test = DataLoader(dataset_test, batch_size=20, shuffle=True)"
   ]
  },
  {
   "cell_type": "code",
   "execution_count": 12,
   "id": "3a916ff4-f55c-4823-9fe8-05883a160bc0",
   "metadata": {},
   "outputs": [
    {
     "name": "stdout",
     "output_type": "stream",
     "text": [
      "Data point: torch.Size([1, 64, 64])\n",
      "Image reshaped torch.Size([64, 64, 1])\n"
     ]
    },
    {
     "data": {
      "image/png": "[encoded data removed]",
      "text/plain": [
       "<Figure size 200x200 with 1 Axes>"
      ]
     },
     "metadata": {},
     "output_type": "display_data"
    }
   ],
   "source": [
    "# reviewing the dataset\n",
    "image, alphabet, label = dataset_train[0]\n",
    "print(\"Data point:\", image.shape)\n",
    "\n",
    "image = image.permute(1, 2, 0)\n",
    "print(\"Image reshaped\", image.shape)\n",
    "\n",
    "fig = plt.figure(figsize=(2, 2))\n",
    "plt.imshow(image, cmap='gray')\n",
    "plt.axis('off')\n",
    "plt.show()"
   ]
  },
  {
   "cell_type": "markdown",
   "id": "97f64802-0008-429f-bc4b-f79738557b84",
   "metadata": {},
   "source": [
    "## 4. Build the model"
   ]
  },
  {
   "cell_type": "code",
   "execution_count": 13,
   "id": "3ca2aa33-8927-4646-80cc-922782d6f8a5",
   "metadata": {},
   "outputs": [
    {
     "name": "stdout",
     "output_type": "stream",
     "text": [
      "Are we using GPU? False\n",
      "\n",
      "TwoOutputNetModel(\n",
      "  (image_layer): Sequential(\n",
      "    (0): Conv2d(1, 16, kernel_size=(3, 3), stride=(1, 1), padding=(1, 1))\n",
      "    (1): MaxPool2d(kernel_size=2, stride=2, padding=0, dilation=1, ceil_mode=False)\n",
      "    (2): ELU(alpha=1.0)\n",
      "    (3): Flatten(start_dim=1, end_dim=-1)\n",
      "    (4): Linear(in_features=16384, out_features=128, bias=True)\n",
      "  )\n",
      "  (classifier_alpha): Linear(in_features=128, out_features=30, bias=True)\n",
      "  (classifier_char): Linear(in_features=128, out_features=964, bias=True)\n",
      ")\n"
     ]
    }
   ],
   "source": [
    "# Build the model\n",
    "model = TwoOutputNetModel()\n",
    "print(f\"Are we using GPU? {next(model.parameters()).is_cuda}\\n\")\n",
    "print(model)\n",
    "\n",
    "# Set the criterion and teh optimizer\n",
    "criterion = nn.CrossEntropyLoss()\n",
    "optimizer = optim.Adam(model.parameters(), lr=0.001)  # weight_decay=1e-4"
   ]
  },
  {
   "cell_type": "markdown",
   "id": "b5fb9c61-a0f5-4a7c-86e6-8984573620fd",
   "metadata": {},
   "source": [
    "## 5. Train the model"
   ]
  },
  {
   "cell_type": "code",
   "execution_count": 14,
   "id": "5007997f-7efa-438a-a0c9-43f589b06143",
   "metadata": {},
   "outputs": [
    {
     "name": "stdout",
     "output_type": "stream",
     "text": [
      "Epoch 1, Loss: 9.346181\n",
      "Epoch 2, Loss: 6.282943\n",
      "Epoch 3, Loss: 4.934506\n",
      "Epoch 4, Loss: 3.974163\n",
      "Epoch 5, Loss: 3.146432\n",
      "Epoch 6, Loss: 2.501851\n",
      "Epoch 7, Loss: 2.042463\n",
      "Epoch 8, Loss: 1.741775\n",
      "Epoch 9, Loss: 1.531905\n",
      "Epoch 10, Loss: 1.352685\n"
     ]
    }
   ],
   "source": [
    "# Train the model\n",
    "losses = []\n",
    "epochs = 10\n",
    "\n",
    "model.train()\n",
    "for epoch in range(epochs):\n",
    "    running_loss = 0.0\n",
    "    \n",
    "    for img, label_alpha, label_char in dataloader_train:\n",
    "        optimizer.zero_grad()                       # zero the parameter gradients\n",
    "        output_alpha, output_char = model(img)      # Run a forward pass\n",
    "        loss_alpha = criterion(output_alpha, label_alpha)\n",
    "        loss_char = criterion(output_char, label_char)\n",
    "        loss = loss_alpha + loss_char               # Compute loss\n",
    "        loss.backward()                             # Backward pass\n",
    "        optimizer.step()                            # Optimization\n",
    "        running_loss += loss.item()\n",
    "\n",
    "    epoch_loss = running_loss / len(dataloader_train)\n",
    "    losses.append(epoch_loss)                       # Record the loss per epoch\n",
    "    print(f\"Epoch {epoch+1}, Loss: {epoch_loss:.6f}\")"
   ]
  },
  {
   "cell_type": "code",
   "execution_count": 15,
   "id": "991f8e99-500d-4c4b-8e88-8f7f1d70a855",
   "metadata": {},
   "outputs": [
    {
     "name": "stdout",
     "output_type": "stream",
     "text": [
      "\n",
      "label_alpha: torch.Size([20])\n",
      "tensor([ 6, 19, 13, 20, 20, 19, 23,  1, 26, 10, 11,  4, 16, 18,  0, 24,  8,  6,\n",
      "        13, 23])\n",
      "\n",
      "output_alpha (first 1 rows): torch.Size([20, 30])\n",
      "tensor([[ -1.6985266209,  -4.3665766716,  -4.1631860733,   1.0867537260,\n",
      "           1.7051668167,  -2.7649734020,   8.2407960892,   0.5403601527,\n",
      "         -10.4737892151,  -1.2988927364,   4.8944277763,   3.7626376152,\n",
      "          -3.6137814522,  -7.3960733414,  -0.5034580827,  -3.0483283997,\n",
      "           4.6389164925,  -4.7463774681,   0.0175875649,  -2.9426589012,\n",
      "           2.1288249493,   2.3561484814,  -8.0451488495,  -0.4117048681,\n",
      "           3.8036758900,  -3.2443876266,   5.9659333229,  -6.9022331238,\n",
      "          -5.8318219185,   0.7081262469]], grad_fn=<SliceBackward0>)\n",
      "\n",
      "\n",
      "label_char: torch.Size([20])\n",
      "tensor([218, 591, 407, 668, 664, 623, 745,  33, 835, 322, 338, 148, 509, 546,\n",
      "          6, 805, 258, 205, 417, 776])\n",
      "\n",
      "output_char: torch.Size([20, 964])\n",
      "tensor([[ -5.1659345627,  -6.2321515083,  -2.5171413422,  ...,\n",
      "          -3.6956732273,   0.8078383207,  -9.3167753220],\n",
      "        [ -6.7369337082,  -5.6939997673,   0.0838647410,  ...,\n",
      "          -9.3235988617,  -4.0065751076, -19.7397594452],\n",
      "        [ -5.5114369392, -10.7834491730,   9.6713485718,  ...,\n",
      "          -7.8551988602,   2.0361378193,  -2.6763994694],\n",
      "        ...,\n",
      "        [-14.0251207352,   4.2924947739,  -6.1817307472,  ...,\n",
      "           2.4656026363,   4.6968183517,  -6.5972633362],\n",
      "        [  5.0629463196,   3.2587723732,  -6.0199160576,  ...,\n",
      "          -2.1211652756,  -3.2696945667,  13.5942974091],\n",
      "        [-13.8912086487,   5.2303366661,   8.3996572495,  ...,\n",
      "          -5.3804693222,   6.5545573235, -10.9095716476]],\n",
      "       grad_fn=<AddmmBackward0>)\n",
      "\n"
     ]
    }
   ],
   "source": [
    "print(f\"\"\"\n",
    "label_alpha: {label_alpha.shape}\n",
    "{label_alpha}\n",
    "\n",
    "output_alpha (first 1 rows): {output_alpha.shape}\n",
    "{output_alpha[:1]}\n",
    "\n",
    "\n",
    "label_char: {label_char.shape}\n",
    "{label_char}\n",
    "\n",
    "output_char: {output_char.shape}\n",
    "{output_char}\n",
    "\"\"\")"
   ]
  },
  {
   "cell_type": "code",
   "execution_count": 16,
   "id": "bf281ea6-d5fd-4a3a-9ebf-e21d1f7c6213",
   "metadata": {},
   "outputs": [
    {
     "data": {
      "image/png": "[encoded data removed]",
      "text/plain": [
       "<Figure size 1000x400 with 1 Axes>"
      ]
     },
     "metadata": {},
     "output_type": "display_data"
    }
   ],
   "source": [
    "# Visualizing the loss in training set\n",
    "fig = plt.figure(figsize=(10, 4))\n",
    "plt.plot(range(epochs), losses)\n",
    "plt.title(\"Training Loss over Epochs\")\n",
    "plt.xlabel('Epochs')\n",
    "plt.ylabel('Loss')\n",
    "plt.show()"
   ]
  },
  {
   "cell_type": "code",
   "execution_count": 17,
   "id": "938ef8c4-73a1-4fd6-8eae-4862769e7316",
   "metadata": {},
   "outputs": [],
   "source": [
    "# Saving the model\n",
    "torch.save(model, MODEL_OMNIGLOT_CLASSIFIER)"
   ]
  },
  {
   "cell_type": "markdown",
   "id": "78430dc6-e0d8-4a9c-abf2-9bd861377672",
   "metadata": {},
   "source": [
    "## 6. Evaluate model"
   ]
  },
  {
   "cell_type": "code",
   "execution_count": 18,
   "id": "456bbab3-df79-4a78-b85d-6ea2be9d6bb4",
   "metadata": {},
   "outputs": [
    {
     "name": "stdout",
     "output_type": "stream",
     "text": [
      "Alphabet: 0.5877026915550232\n",
      "Character: 0.7230224609375\n"
     ]
    }
   ],
   "source": [
    "# Set the evaluation metrics\n",
    "metric_acc_alpha = Accuracy(task=\"multiclass\", num_classes=30)\n",
    "metric_acc_char = Accuracy(task=\"multiclass\", num_classes=964)\n",
    "\n",
    "# Evaluation loop\n",
    "model.eval()\n",
    "with torch.no_grad():\n",
    "    for img, label_alpha, label_char in dataloader_test:\n",
    "        out_alpha, out_char = model(img)\n",
    "        _, pred_alpha = torch.max(out_alpha, 1)\n",
    "        _, pred_char = torch.max(out_char, 1)\n",
    "        metric_acc_alpha(pred_alpha, label_alpha)\n",
    "        metric_acc_char(pred_char, label_char)\n",
    "\n",
    "# Compute metrics\n",
    "print(f\"Alphabet: {metric_acc_alpha.compute()}\")\n",
    "print(f\"Character: {metric_acc_char.compute()}\")"
   ]
  },
  {
   "cell_type": "code",
   "execution_count": 19,
   "id": "66ebc2c7-2881-494a-bb6b-24f5914e4532",
   "metadata": {},
   "outputs": [
    {
     "data": {
      "text/html": [
       "<div>\n",
       "<style scoped>\n",
       "    .dataframe tbody tr th:only-of-type {\n",
       "        vertical-align: middle;\n",
       "    }\n",
       "\n",
       "    .dataframe tbody tr th {\n",
       "        vertical-align: top;\n",
       "    }\n",
       "\n",
       "    .dataframe thead th {\n",
       "        text-align: right;\n",
       "    }\n",
       "</style>\n",
       "<table border=\"1\" class=\"dataframe\">\n",
       "  <thead>\n",
       "    <tr style=\"text-align: right;\">\n",
       "      <th></th>\n",
       "      <th>Alphabet</th>\n",
       "      <th>Prediction</th>\n",
       "      <th>Accerted</th>\n",
       "    </tr>\n",
       "  </thead>\n",
       "  <tbody>\n",
       "    <tr>\n",
       "      <th>0</th>\n",
       "      <td>12</td>\n",
       "      <td>12</td>\n",
       "      <td>True</td>\n",
       "    </tr>\n",
       "    <tr>\n",
       "      <th>1</th>\n",
       "      <td>13</td>\n",
       "      <td>13</td>\n",
       "      <td>True</td>\n",
       "    </tr>\n",
       "    <tr>\n",
       "      <th>2</th>\n",
       "      <td>10</td>\n",
       "      <td>15</td>\n",
       "      <td></td>\n",
       "    </tr>\n",
       "    <tr>\n",
       "      <th>3</th>\n",
       "      <td>2</td>\n",
       "      <td>2</td>\n",
       "      <td>True</td>\n",
       "    </tr>\n",
       "    <tr>\n",
       "      <th>4</th>\n",
       "      <td>10</td>\n",
       "      <td>10</td>\n",
       "      <td>True</td>\n",
       "    </tr>\n",
       "    <tr>\n",
       "      <th>5</th>\n",
       "      <td>2</td>\n",
       "      <td>15</td>\n",
       "      <td></td>\n",
       "    </tr>\n",
       "    <tr>\n",
       "      <th>6</th>\n",
       "      <td>15</td>\n",
       "      <td>2</td>\n",
       "      <td></td>\n",
       "    </tr>\n",
       "    <tr>\n",
       "      <th>7</th>\n",
       "      <td>28</td>\n",
       "      <td>28</td>\n",
       "      <td>True</td>\n",
       "    </tr>\n",
       "    <tr>\n",
       "      <th>8</th>\n",
       "      <td>10</td>\n",
       "      <td>29</td>\n",
       "      <td></td>\n",
       "    </tr>\n",
       "  </tbody>\n",
       "</table>\n",
       "</div>"
      ],
      "text/plain": [
       "   Alphabet  Prediction Accerted\n",
       "0        12          12     True\n",
       "1        13          13     True\n",
       "2        10          15         \n",
       "3         2           2     True\n",
       "4        10          10     True\n",
       "5         2          15         \n",
       "6        15           2         \n",
       "7        28          28     True\n",
       "8        10          29         "
      ]
     },
     "execution_count": 19,
     "metadata": {},
     "output_type": "execute_result"
    }
   ],
   "source": [
    "pd.DataFrame({\n",
    "    'Alphabet': label_alpha.numpy(),\n",
    "    'Prediction': pred_alpha.numpy(),\n",
    "    'Accerted': ['True' \n",
    "                 if label_alpha.numpy()[i] == pred_alpha.numpy()[i]\n",
    "                 else ''\n",
    "                 for i in range(len(label_alpha))] \n",
    "})"
   ]
  },
  {
   "cell_type": "code",
   "execution_count": 20,
   "id": "2660459a-3d6d-4bf2-844e-fd7beda6d861",
   "metadata": {},
   "outputs": [
    {
     "data": {
      "text/html": [
       "<div>\n",
       "<style scoped>\n",
       "    .dataframe tbody tr th:only-of-type {\n",
       "        vertical-align: middle;\n",
       "    }\n",
       "\n",
       "    .dataframe tbody tr th {\n",
       "        vertical-align: top;\n",
       "    }\n",
       "\n",
       "    .dataframe thead th {\n",
       "        text-align: right;\n",
       "    }\n",
       "</style>\n",
       "<table border=\"1\" class=\"dataframe\">\n",
       "  <thead>\n",
       "    <tr style=\"text-align: right;\">\n",
       "      <th></th>\n",
       "      <th>Character</th>\n",
       "      <th>Prediction</th>\n",
       "      <th>Accerted</th>\n",
       "    </tr>\n",
       "  </thead>\n",
       "  <tbody>\n",
       "    <tr>\n",
       "      <th>0</th>\n",
       "      <td>379</td>\n",
       "      <td>934</td>\n",
       "      <td></td>\n",
       "    </tr>\n",
       "    <tr>\n",
       "      <th>1</th>\n",
       "      <td>415</td>\n",
       "      <td>415</td>\n",
       "      <td>True</td>\n",
       "    </tr>\n",
       "    <tr>\n",
       "      <th>2</th>\n",
       "      <td>305</td>\n",
       "      <td>305</td>\n",
       "      <td>True</td>\n",
       "    </tr>\n",
       "    <tr>\n",
       "      <th>3</th>\n",
       "      <td>60</td>\n",
       "      <td>60</td>\n",
       "      <td>True</td>\n",
       "    </tr>\n",
       "    <tr>\n",
       "      <th>4</th>\n",
       "      <td>312</td>\n",
       "      <td>312</td>\n",
       "      <td>True</td>\n",
       "    </tr>\n",
       "    <tr>\n",
       "      <th>5</th>\n",
       "      <td>74</td>\n",
       "      <td>74</td>\n",
       "      <td>True</td>\n",
       "    </tr>\n",
       "    <tr>\n",
       "      <th>6</th>\n",
       "      <td>483</td>\n",
       "      <td>483</td>\n",
       "      <td>True</td>\n",
       "    </tr>\n",
       "    <tr>\n",
       "      <th>7</th>\n",
       "      <td>901</td>\n",
       "      <td>901</td>\n",
       "      <td>True</td>\n",
       "    </tr>\n",
       "    <tr>\n",
       "      <th>8</th>\n",
       "      <td>301</td>\n",
       "      <td>301</td>\n",
       "      <td>True</td>\n",
       "    </tr>\n",
       "  </tbody>\n",
       "</table>\n",
       "</div>"
      ],
      "text/plain": [
       "   Character  Prediction Accerted\n",
       "0        379         934         \n",
       "1        415         415     True\n",
       "2        305         305     True\n",
       "3         60          60     True\n",
       "4        312         312     True\n",
       "5         74          74     True\n",
       "6        483         483     True\n",
       "7        901         901     True\n",
       "8        301         301     True"
      ]
     },
     "execution_count": 20,
     "metadata": {},
     "output_type": "execute_result"
    }
   ],
   "source": [
    "pd.DataFrame({\n",
    "    'Character': label_char.numpy(),\n",
    "    'Prediction': pred_char.numpy(),\n",
    "    'Accerted': ['True' \n",
    "                 if label_char.numpy()[i] == pred_char.numpy()[i]\n",
    "                 else ''\n",
    "                 for i in range(len(label_char))] \n",
    "})"
   ]
  },
  {
   "cell_type": "markdown",
   "id": "4039ec72-213b-4cc7-8884-4eb0c39a853a",
   "metadata": {},
   "source": [
    "## 7. Close environment"
   ]
  },
  {
   "cell_type": "code",
   "execution_count": 21,
   "id": "80ccb567-5f6b-4ea6-9f6a-475a05733d7b",
   "metadata": {},
   "outputs": [
    {
     "name": "stdout",
     "output_type": "stream",
     "text": [
      "\n",
      "CUDA memory device: 0\n",
      "CUDA cache  device: 0\n",
      "\n"
     ]
    }
   ],
   "source": [
    "# Reviewing allocated memmory, it is 0 if there is nothing allocated\n",
    "cuda_memory = torch.cuda.memory_allocated(device)\n",
    "cuda_cache = torch.cuda.memory_reserved(device)\n",
    "print(f\"\"\"\n",
    "CUDA memory device: {cuda_memory}\n",
    "CUDA cache  device: {cuda_cache}\n",
    "\"\"\")\n",
    "\n",
    "# Free allocated memory\n",
    "torch.cuda.empty_cache() "
   ]
  },
  {
   "cell_type": "markdown",
   "id": "7c6dfe79-b01c-4f68-8e5c-743d36fb7197",
   "metadata": {},
   "source": [
    "----------------------------------"
   ]
  }
 ],
 "metadata": {
  "kernelspec": {
   "display_name": "Python 3 (ipykernel)",
   "language": "python",
   "name": "python3"
  },
  "language_info": {
   "codemirror_mode": {
    "name": "ipython",
    "version": 3
   },
   "file_extension": ".py",
   "mimetype": "text/x-python",
   "name": "python",
   "nbconvert_exporter": "python",
   "pygments_lexer": "ipython3",
   "version": "3.8.19"
  }
 },
 "nbformat": 4,
 "nbformat_minor": 5
}
