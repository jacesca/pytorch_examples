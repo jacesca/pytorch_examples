{
 "cells": [
  {
   "cell_type": "markdown",
   "id": "650a2d41-bc6c-4161-8b3c-2a86b5d40d20",
   "metadata": {},
   "source": [
    "# 4. Multi-Input & Multi-Output Architectures\n",
    "\n",
    "Build multi-input and multi-output models, demonstrating how they can handle tasks requiring more than one input or generating multiple outputs. You will explore how to design and train these models using PyTorch and delve into the crucial topic of loss weighting in multi-output models. This involves understanding how to balance the importance of different tasks when training a model to perform multiple tasks simultaneously.\n",
    "\n",
    "## Prepare environment"
   ]
  },
  {
   "cell_type": "code",
   "execution_count": 1,
   "id": "19af03e0-8657-4888-94e4-19a004148c01",
   "metadata": {},
   "outputs": [],
   "source": [
    "# Importing libraries\n",
    "import expectexception\n",
    "import matplotlib.pyplot as plt\n",
    "import numpy as np\n",
    "import os\n",
    "import re\n",
    "\n",
    "import torch\n",
    "import torch.nn as nn\n",
    "import torch.optim as optim\n",
    "\n",
    "from environment import prepare_environment\n",
    "from PIL import Image\n",
    "from typing import List, Tuple\n",
    "from sklearn.preprocessing import LabelBinarizer\n",
    "from pprint import pprint\n",
    "\n",
    "from torch.utils.data import Dataset, DataLoader\n",
    "from torchvision import transforms\n",
    "from torchmetrics import Accuracy"
   ]
  },
  {
   "cell_type": "code",
   "execution_count": 2,
   "id": "9e6ef77e-5bc9-4e5d-8387-8066b67d3690",
   "metadata": {},
   "outputs": [],
   "source": [
    "# Global variables\n",
    "SEED = 42\n",
    "\n",
    "DATASET_OMNIGLOT_TRAIN = \"data-sources/omniglot/omniglot_train/\"\n",
    "DATASET_OMNIGLOT_TEST = \"data-sources/omniglot/omniglot_test/\""
   ]
  },
  {
   "cell_type": "code",
   "execution_count": 3,
   "id": "a9f35421-3b77-4187-be8c-9d572017c7d3",
   "metadata": {},
   "outputs": [
    {
     "name": "stdout",
     "output_type": "stream",
     "text": [
      "2.4.1+cu124\n",
      "Cuda is available? True\n"
     ]
    }
   ],
   "source": [
    "# Check if your GPU driver and CUDA is enabled and accessible by PyTorch\n",
    "print(torch.__version__)\n",
    "print('Cuda is available?', torch.cuda.is_available())"
   ]
  },
  {
   "cell_type": "code",
   "execution_count": 4,
   "id": "386d6eca-fdf5-4f76-b666-70c8e0f793a9",
   "metadata": {},
   "outputs": [],
   "source": [
    "# Global configuration\n",
    "prepare_environment()\n",
    "\n",
    "torch.set_printoptions(precision=10)\n",
    "\n",
    "# Reproducibility\n",
    "np.random.seed(SEED)\n",
    "_ = torch.manual_seed(SEED)"
   ]
  },
  {
   "cell_type": "markdown",
   "id": "cd0540d7-7328-4dc1-9cd9-8f2bc392242d",
   "metadata": {},
   "source": [
    "## **4.1 MULTI-INPUT MODELS**\n",
    "\n",
    "### Omniglot - Reviewing the data"
   ]
  },
  {
   "cell_type": "code",
   "execution_count": 5,
   "id": "d2abff06-12ed-4f7e-89f8-33801d742cce",
   "metadata": {},
   "outputs": [
    {
     "name": "stdout",
     "output_type": "stream",
     "text": [
      "TRAIN DATASET:\n",
      "- Alphabet_of_the_Magi                       >> chars: 20, images: 301\n",
      "- Anglo-Saxon_Futhorc                        >> chars: 29, images: 438\n",
      "- Arcadian                                   >> chars: 26, images: 398\n",
      "- Armenian                                   >> chars: 41, images: 620\n",
      "- Asomtavruli_(Georgian)                     >> chars: 40, images: 575\n",
      "- Balinese                                   >> chars: 24, images: 369\n",
      "- Bengali                                    >> chars: 46, images: 680\n",
      "- Blackfoot_(Canadian_Aboriginal_Syllabics)  >> chars: 14, images: 205\n",
      "- Braille                                    >> chars: 26, images: 397\n",
      "- Burmese_(Myanmar)                          >> chars: 34, images: 511\n",
      "- Cyrillic                                   >> chars: 33, images: 482\n",
      "- Early_Aramaic                              >> chars: 22, images: 338\n",
      "- Futurama                                   >> chars: 26, images: 400\n",
      "- Grantha                                    >> chars: 43, images: 631\n",
      "- Greek                                      >> chars: 24, images: 348\n",
      "- Gujarati                                   >> chars: 48, images: 696\n",
      "- Hebrew                                     >> chars: 22, images: 336\n",
      "- Inuktitut_(Canadian_Aboriginal_Syllabics)  >> chars: 16, images: 236\n",
      "- Japanese_(hiragana)                        >> chars: 52, images: 771\n",
      "- Japanese_(katakana)                        >> chars: 47, images: 704\n",
      "- Korean                                     >> chars: 40, images: 602\n",
      "- Latin                                      >> chars: 26, images: 373\n",
      "- Malay_(Jawi_-_Arabic)                      >> chars: 40, images: 583\n",
      "- Mkhedruli_(Georgian)                       >> chars: 41, images: 638\n",
      "- N_Ko                                       >> chars: 33, images: 495\n",
      "- Ojibwe_(Canadian_Aboriginal_Syllabics)     >> chars: 14, images: 212\n",
      "- Sanskrit                                   >> chars: 42, images: 634\n",
      "- Syriac_(Estrangelo)                        >> chars: 23, images: 335\n",
      "- Tagalog                                    >> chars: 17, images: 250\n",
      "- Tifinagh                                   >> chars: 55, images: 842\n",
      "Total images: 14400 (964 characters)\n"
     ]
    }
   ],
   "source": [
    "print('TRAIN DATASET:')\n",
    "total_img = 0\n",
    "total_chr = 0\n",
    "for directory in os.listdir(DATASET_OMNIGLOT_TRAIN):\n",
    "    char_files = [(len(d), len(f)) \n",
    "                  for _, d, f in os.walk(DATASET_OMNIGLOT_TRAIN + directory)]\n",
    "    num_chars, num_files = map(sum, zip(*char_files))\n",
    "    print(f'- {directory:<42} >> chars: {num_chars}, images: {num_files}')\n",
    "    total_img += num_files\n",
    "    total_chr += num_chars\n",
    "print(f'Total images: {total_img} ({total_chr} characters)')"
   ]
  },
  {
   "cell_type": "code",
   "execution_count": 6,
   "id": "3ba20a28-679d-40b0-87b4-3772fe3d7a41",
   "metadata": {},
   "outputs": [
    {
     "name": "stdout",
     "output_type": "stream",
     "text": [
      "TEST DATASET:\n",
      "- Alphabet_of_the_Magi                       >> chars: 20, images: 244\n",
      "- Anglo-Saxon_Futhorc                        >> chars: 29, images: 351\n",
      "- Arcadian                                   >> chars: 26, images: 328\n",
      "- Armenian                                   >> chars: 41, images: 537\n",
      "- Asomtavruli_(Georgian)                     >> chars: 40, images: 510\n",
      "- Balinese                                   >> chars: 24, images: 302\n",
      "- Bengali                                    >> chars: 46, images: 594\n",
      "- Blackfoot_(Canadian_Aboriginal_Syllabics)  >> chars: 14, images: 175\n",
      "- Braille                                    >> chars: 26, images: 302\n",
      "- Burmese_(Myanmar)                          >> chars: 34, images: 429\n",
      "- Cyrillic                                   >> chars: 33, images: 410\n",
      "- Early_Aramaic                              >> chars: 22, images: 282\n",
      "- Futurama                                   >> chars: 26, images: 321\n",
      "- Grantha                                    >> chars: 43, images: 558\n",
      "- Greek                                      >> chars: 24, images: 311\n",
      "- Gujarati                                   >> chars: 48, images: 614\n",
      "- Hebrew                                     >> chars: 22, images: 281\n",
      "- Inuktitut_(Canadian_Aboriginal_Syllabics)  >> chars: 16, images: 204\n",
      "- Japanese_(hiragana)                        >> chars: 52, images: 649\n",
      "- Japanese_(katakana)                        >> chars: 47, images: 587\n",
      "- Korean                                     >> chars: 40, images: 497\n",
      "- Latin                                      >> chars: 26, images: 335\n",
      "- Malay_(Jawi_-_Arabic)                      >> chars: 40, images: 513\n",
      "- Mkhedruli_(Georgian)                       >> chars: 41, images: 474\n",
      "- N_Ko                                       >> chars: 33, images: 420\n",
      "- Ojibwe_(Canadian_Aboriginal_Syllabics)     >> chars: 14, images: 185\n",
      "- Sanskrit                                   >> chars: 42, images: 544\n",
      "- Syriac_(Estrangelo)                        >> chars: 23, images: 298\n",
      "- Tagalog                                    >> chars: 17, images: 201\n",
      "- Tifinagh                                   >> chars: 55, images: 693\n",
      "Total images: 12149 (964 characters)\n"
     ]
    }
   ],
   "source": [
    "print('TEST DATASET:')\n",
    "total_img = 0\n",
    "total_chr = 0\n",
    "for directory in os.listdir(DATASET_OMNIGLOT_TEST):\n",
    "    char_files = [(len(d), len(f)) \n",
    "                  for _, d, f in os.walk(DATASET_OMNIGLOT_TEST + directory)]\n",
    "    num_chars, num_files = map(sum, zip(*char_files))\n",
    "    print(f'- {directory:<42} >> chars: {num_chars}, images: {num_files}')\n",
    "    total_img += num_files\n",
    "    total_chr += num_chars\n",
    "print(f'Total images: {total_img} ({total_chr} characters)')"
   ]
  },
  {
   "cell_type": "code",
   "execution_count": 7,
   "id": "5ce8037c-6911-427a-b41d-e9c9ef721df6",
   "metadata": {},
   "outputs": [
    {
     "data": {
      "image/png": "[encoded data removed]",
      "text/plain": [
       "<Figure size 1000x400 with 16 Axes>"
      ]
     },
     "metadata": {},
     "output_type": "display_data"
    }
   ],
   "source": [
    "image_dir = DATASET_OMNIGLOT_TRAIN + os.listdir(DATASET_OMNIGLOT_TRAIN)[0]\n",
    "image_dir = image_dir + '/' + os.listdir(image_dir)[0] + '/'\n",
    "images = os.listdir(image_dir)\n",
    "\n",
    "fig, axes =  plt.subplots(2, int(len(images)/2), figsize=(10, 4))\n",
    "fig.suptitle(image_dir)\n",
    "axes = axes.flatten()\n",
    "for i, ax in enumerate(axes):\n",
    "    image = plt.imread(f\"{image_dir}{images[i]}\")\n",
    "    ax.imshow(image)\n",
    "    ax.set_title(images[i], fontsize=6)\n",
    "    ax.axis('off')\n",
    "plt.tight_layout()\n",
    "plt.show()"
   ]
  },
  {
   "cell_type": "markdown",
   "id": "e91bc683-74a4-4318-8039-2eebed38212b",
   "metadata": {},
   "source": [
    "### Two-input Dataset"
   ]
  },
  {
   "cell_type": "code",
   "execution_count": 8,
   "id": "c3fc27e6-8f79-41a3-9771-42df51e964b1",
   "metadata": {},
   "outputs": [],
   "source": [
    "class OmniglotDataset(Dataset):\n",
    "    \"\"\"Extended DatasetClass to generate a 2-input Dataset.\"\"\"\n",
    "    def __init__(self, \n",
    "                 transform: transforms.transforms.Compose, \n",
    "                 samples: List[Tuple[str, np.ndarray, int]]) -> None:\n",
    "        self.transform = transform\n",
    "        self.samples = samples\n",
    "    \n",
    "    def __len__(self) -> int:\n",
    "        return len(self.samples)\n",
    "        \n",
    "    def __getitem__(self, idx) -> Tuple[Image.Image, np.ndarray, int]:\n",
    "        img_path, alphabet, label = self.samples[idx]\n",
    "        img = Image.open(img_path).convert('L')  # L >> Grayscale\n",
    "        img = self.transform(img)\n",
    "        return img, alphabet, label"
   ]
  },
  {
   "cell_type": "code",
   "execution_count": 9,
   "id": "30a792a3-1277-478d-a8cc-7da8a63139dd",
   "metadata": {},
   "outputs": [
    {
     "name": "stdout",
     "output_type": "stream",
     "text": [
      "14400\n",
      "[('data-sources/omniglot/omniglot_train/Tifinagh\\\\character55\\\\0964_17.png',\n",
      "  array([0, 0, 0, 0, 0, 0, 0, 0, 0, 0, 0, 0, 0, 0, 0, 0, 0, 0, 0, 0, 0, 0,\n",
      "       0, 0, 0, 0, 0, 0, 0, 1]),\n",
      "  963),\n",
      " ('data-sources/omniglot/omniglot_train/Tifinagh\\\\character55\\\\0964_18.png',\n",
      "  array([0, 0, 0, 0, 0, 0, 0, 0, 0, 0, 0, 0, 0, 0, 0, 0, 0, 0, 0, 0, 0, 0,\n",
      "       0, 0, 0, 0, 0, 0, 0, 1]),\n",
      "  963),\n",
      " ('data-sources/omniglot/omniglot_train/Tifinagh\\\\character55\\\\0964_20.png',\n",
      "  array([0, 0, 0, 0, 0, 0, 0, 0, 0, 0, 0, 0, 0, 0, 0, 0, 0, 0, 0, 0, 0, 0,\n",
      "       0, 0, 0, 0, 0, 0, 0, 1]),\n",
      "  963)]\n"
     ]
    }
   ],
   "source": [
    "def get_samples(root_dir: str) -> List[Tuple[str, np.ndarray, int]]:\n",
    "    \"\"\"Get samples to use in the Two-Input-Dataset.\"\"\"\n",
    "    samples = []\n",
    "    alphabet_dict = {}\n",
    "    char_pos = -1\n",
    "    prev_alphabet = ''\n",
    "    for path, root, files in os.walk(root_dir):\n",
    "        if not alphabet_dict:\n",
    "            encoder = LabelBinarizer()\n",
    "            alphabet_1hot = encoder.fit_transform(root)\n",
    "            alphabet_dict = {root[i]: alphabet_1hot[i] for i in range(len(root))}\n",
    "        if files:\n",
    "            if files[0][-3:] == 'png':\n",
    "                path_items = path.replace('\\\\', '/').split('/')\n",
    "                alphabet_name = path_items[-2]\n",
    "                if alphabet_name != prev_alphabet:\n",
    "                    if prev_alphabet != '':\n",
    "                        char_pos = char_num\n",
    "                    prev_alphabet = alphabet_name\n",
    "                alphabet = alphabet_dict[alphabet_name]\n",
    "                char_num = int(re.search(r'\\d{0,3}$', path_items[-1]).group()) + char_pos\n",
    "                samples.extend([(os.path.join(path, file), alphabet, char_num)\n",
    "                                for file in files])\n",
    "    return samples\n",
    "\n",
    "samples = get_samples(DATASET_OMNIGLOT_TRAIN)\n",
    "print(len(samples))\n",
    "pprint(samples[-3:])"
   ]
  },
  {
   "cell_type": "code",
   "execution_count": 10,
   "id": "8b94ca45-ddfc-47b1-87a3-57f7f4771e8e",
   "metadata": {},
   "outputs": [
    {
     "name": "stdout",
     "output_type": "stream",
     "text": [
      "Num Samples: 14400\n"
     ]
    }
   ],
   "source": [
    "# Train transformation\n",
    "train_transforms = transforms.Compose([transforms.ToTensor(),\n",
    "                                       transforms.Resize((64, 64)),\n",
    "                                      ])\n",
    "\n",
    "# Create the train dataset\n",
    "dataset_train = OmniglotDataset(transform=train_transforms, samples=samples)\n",
    "print('Num Samples:', len(dataset_train))"
   ]
  },
  {
   "cell_type": "code",
   "execution_count": 11,
   "id": "0ddefa16-b1fc-4200-9081-37c9545642aa",
   "metadata": {},
   "outputs": [
    {
     "name": "stdout",
     "output_type": "stream",
     "text": [
      "Data point: torch.Size([1, 64, 64])\n",
      "Image reshaped torch.Size([64, 64, 1])\n"
     ]
    },
    {
     "data": {
      "image/png": "[encoded data removed]",
      "text/plain": [
       "<Figure size 200x200 with 1 Axes>"
      ]
     },
     "metadata": {},
     "output_type": "display_data"
    }
   ],
   "source": [
    "# reviewing the dataset\n",
    "image, alphabet, label = dataset_train[0]\n",
    "print(\"Data point:\", image.shape)\n",
    "\n",
    "image = image.permute(1, 2, 0)\n",
    "print(\"Image reshaped\", image.shape)\n",
    "\n",
    "fig = plt.figure(figsize=(2, 2))\n",
    "plt.imshow(image, cmap='gray')\n",
    "plt.axis('off')\n",
    "plt.show()"
   ]
  },
  {
   "cell_type": "markdown",
   "id": "08f6073a-6491-49d7-af1a-72a47dd31c9d",
   "metadata": {},
   "source": [
    "### Tensor concatenation"
   ]
  },
  {
   "cell_type": "code",
   "execution_count": 12,
   "id": "6e6d6170-3410-4545-9ed0-3ed1282c76fb",
   "metadata": {},
   "outputs": [
    {
     "data": {
      "text/plain": [
       "tensor([[1, 2, 3],\n",
       "        [4, 5, 6]])"
      ]
     },
     "execution_count": 12,
     "metadata": {},
     "output_type": "execute_result"
    }
   ],
   "source": [
    "x = torch.tensor([[1, 2, 3],])\n",
    "y = torch.tensor([[4, 5, 6],])\n",
    "\n",
    "torch.cat((x, y), dim=0)"
   ]
  },
  {
   "cell_type": "code",
   "execution_count": 13,
   "id": "9a417098-f24b-45fa-899a-35f52a3e0e0d",
   "metadata": {},
   "outputs": [
    {
     "data": {
      "text/plain": [
       "tensor([[1, 2, 3, 4, 5, 6]])"
      ]
     },
     "execution_count": 13,
     "metadata": {},
     "output_type": "execute_result"
    }
   ],
   "source": [
    "torch.cat((x, y), dim=1)"
   ]
  },
  {
   "cell_type": "markdown",
   "id": "4ae5626f-9bab-48ca-8229-68cdbe2c4b87",
   "metadata": {},
   "source": [
    "### Model TwoInputNetModel"
   ]
  },
  {
   "cell_type": "code",
   "execution_count": 14,
   "id": "50a82f66-bbc4-485f-bb13-f6ec7ae14271",
   "metadata": {},
   "outputs": [],
   "source": [
    "class TwoInputNetModel(nn.Module):\n",
    "    \"\"\"Two-Input Architecture Model to predict a character and \n",
    "    the alphabet it belongs to.\n",
    "    \"\"\"\n",
    "    def __init__(self):\n",
    "        super().__init__()\n",
    "        self.image_layer = nn.Sequential(         # Input img 1X64x64 (channel, w, h)\n",
    "            nn.Conv2d(1, 16, \n",
    "                      kernel_size=3, padding=1),  # In-channel=1, Out-channel=16 → 16x64x64\n",
    "            nn.MaxPool2d(kernel_size=2),          # Divide image size by 2 → 16x32x32\n",
    "            nn.ELU(),                             # No Changes → 16x32x32\n",
    "            nn.Flatten(),                         # Flatten → 16x32x32\n",
    "            nn.Linear(16*32*32, 128),             # No Changes → 16x32x32\n",
    "        )\n",
    "        self.alphabet_layer = nn.Sequential(\n",
    "            nn.Linear(30, 8),\n",
    "            nn.ELU()\n",
    "        )\n",
    "        self.classifier = nn.Sequential(\n",
    "            nn.Linear(128+8, 964),\n",
    "        )\n",
    "\n",
    "    def forward(self, x_image:torch.Tensor, x_alphabet:torch.Tensor):\n",
    "        x_image = x_image.float()\n",
    "        x_alphabet = x_alphabet.float()\n",
    "        x_image = self.image_layer(x_image)\n",
    "        x_alphabet = self.alphabet_layer(x_alphabet)\n",
    "        x = torch.cat((x_image, x_alphabet), dim=1)\n",
    "        return self.classifier(x)"
   ]
  },
  {
   "cell_type": "markdown",
   "id": "5799e682-f9df-4241-a7fd-2cd874eb8b7d",
   "metadata": {},
   "source": [
    "### Training loop"
   ]
  },
  {
   "cell_type": "code",
   "execution_count": 15,
   "id": "aa244d56-4d05-4391-b749-f7185ed1beac",
   "metadata": {},
   "outputs": [],
   "source": [
    "# Create a DataLoader based on dataset_train\n",
    "dataloader_train = DataLoader(dataset_train, batch_size=20, shuffle=True)"
   ]
  },
  {
   "cell_type": "code",
   "execution_count": 16,
   "id": "63fe28f6-2876-4b73-add0-6d6950a76586",
   "metadata": {},
   "outputs": [],
   "source": [
    "# Build the model\n",
    "model_s = TwoInputNetModel()\n",
    "\n",
    "criterion = nn.CrossEntropyLoss()\n",
    "optimizer = optim.Adam(model_s.parameters(), lr=0.001)  # weight_decay=1e-4"
   ]
  },
  {
   "cell_type": "code",
   "execution_count": 17,
   "id": "531e59a8-aacf-4f85-bf7b-0f3dff7afa21",
   "metadata": {},
   "outputs": [
    {
     "name": "stdout",
     "output_type": "stream",
     "text": [
      "Epoch 1, Loss: 6.317558\n",
      "Epoch 2, Loss: 3.107628\n",
      "Epoch 3, Loss: 1.684771\n",
      "Epoch 4, Loss: 1.017210\n",
      "Epoch 5, Loss: 0.590794\n",
      "Epoch 6, Loss: 0.348646\n",
      "Epoch 7, Loss: 0.213099\n",
      "Epoch 8, Loss: 0.170868\n",
      "Epoch 9, Loss: 0.176374\n",
      "Epoch 10, Loss: 0.157896\n"
     ]
    }
   ],
   "source": [
    "losses = []\n",
    "epochs = 10\n",
    "\n",
    "model_s.train()\n",
    "for epoch in range(epochs):\n",
    "    running_loss = 0.0\n",
    "    \n",
    "    for img, alpha, labels in dataloader_train:\n",
    "        optimizer.zero_grad()                       # zero the parameter gradients\n",
    "        outputs = model_s(img, alpha)               # Run a forward pass\n",
    "        loss = criterion(outputs, labels)           # Compute loss\n",
    "        loss.backward()                             # Backward pass\n",
    "        optimizer.step()                            # Optimization\n",
    "        running_loss += loss.item()\n",
    "\n",
    "    epoch_loss = running_loss / len(dataloader_train)\n",
    "    losses.append(epoch_loss)                       # Record the loss per epoch\n",
    "    print(f\"Epoch {epoch+1}, Loss: {epoch_loss:.6f}\")"
   ]
  },
  {
   "cell_type": "code",
   "execution_count": 18,
   "id": "469285b1-d4e9-4cc3-8ed7-b0bb63c5932d",
   "metadata": {},
   "outputs": [
    {
     "name": "stdout",
     "output_type": "stream",
     "text": [
      "\n",
      "labels: torch.Size([20])\n",
      "tensor([ 79, 135, 704, 504, 694, 143, 932, 111, 412, 386, 620, 605, 300, 841,\n",
      "        245, 868, 645, 642, 412, 404])\n",
      "\n",
      "outputs: torch.Size([20, 964])\n",
      "tensor([[  4.6852645874,  -3.5561432838, -18.2632179260,  ...,\n",
      "          -1.4617226124, -12.2764701843,   0.0449283905],\n",
      "        [ 15.0398254395,   0.6418653727,  -6.6526641846,  ...,\n",
      "           5.1501126289,  -8.1191196442,  12.3014316559],\n",
      "        [-12.0017471313, -10.3067226410,  -7.4454588890,  ...,\n",
      "           5.2670464516,  -7.7194418907, -12.2887754440],\n",
      "        ...,\n",
      "        [ -2.8296546936, -15.1807613373, -13.9458980560,  ...,\n",
      "         -20.8065414429, -10.1518735886,  -4.0766553879],\n",
      "        [  3.9476552010, -12.9556465149, -13.8123302460,  ...,\n",
      "         -14.5375967026,  -8.9736127853,   0.2092254460],\n",
      "        [ -4.0170798302,  -5.8028154373,  -5.7182531357,  ...,\n",
      "          -5.8551440239, -12.7274618149,   5.7907824516]],\n",
      "       grad_fn=<AddmmBackward0>)\n",
      "\n"
     ]
    }
   ],
   "source": [
    "print(f\"\"\"\n",
    "labels: {labels.shape}\n",
    "{labels}\n",
    "\n",
    "outputs: {outputs.shape}\n",
    "{outputs}\n",
    "\"\"\")"
   ]
  },
  {
   "cell_type": "code",
   "execution_count": 19,
   "id": "0dc1955c-6efd-41a2-beab-0dec23d17ef1",
   "metadata": {},
   "outputs": [
    {
     "data": {
      "image/png": "[encoded data removed]",
      "text/plain": [
       "<Figure size 1000x400 with 1 Axes>"
      ]
     },
     "metadata": {},
     "output_type": "display_data"
    }
   ],
   "source": [
    "# Visualizing the loss in training set\n",
    "fig = plt.figure(figsize=(10, 4))\n",
    "plt.plot(range(epochs), losses)\n",
    "plt.title(\"Training Loss over Epochs\")\n",
    "plt.xlabel('Epochs')\n",
    "plt.ylabel('Loss')\n",
    "plt.show()"
   ]
  },
  {
   "cell_type": "markdown",
   "id": "bdb385b4-ef11-4f44-ad39-472aab90043f",
   "metadata": {},
   "source": [
    "### Ex.1 - Two-input dataset\n",
    "\n",
    "Building a multi-input model starts with crafting a custom dataset that can supply all the inputs to the model. In this exercise, you will build the Omniglot dataset that serves triplets consisting of:\n",
    "\n",
    "- The image of a character to be classified,\n",
    "- The one-hot encoded alphabet vector of length 30, with zeros everywhere but for a single one denoting the ID of the alphabet the character comes from,\n",
    "- The target label, an integer between 0 and 963.\n",
    "\n",
    "You are provided with train_samples, a list of 3-tuples comprising an image's file path, its alphabet vector, and the target label. Also, the following imports have already been done for you, so let's get to it!\n",
    "```\n",
    "from PIL import Image\n",
    "from torch.utils.data import DataLoader, Dataset\n",
    "from torchvision import transforms\n",
    "```\n",
    "\n",
    "**Instructions**\n",
    "\n",
    "1. Assign `transform` and `samples` to class attributes with the same names.\n",
    "2. Implement the `.__len()__` method such that it return the number of samples stored in the class' `samples` attribute.\n",
    "3. Unpack the sample at index `idx` assigning its contents to `img_path`, `alphabet`, and `label`.\n",
    "4. Transform the loaded image with `self.transform()` and assign it to `img_transformed`.\n",
    "\n",
    "**Code result**\n",
    "\n",
    "-----------------------\n",
    "```\n",
    "class OmniglotDataset(Dataset):\n",
    "    def __init__(self, transform, samples):\n",
    "\t\t# Assign transform and samples to class attributes\n",
    "        self.transform = transform\n",
    "        self.samples = samples\n",
    "                    \n",
    "    def __len__(self):\n",
    "\t\t# Return number of samples\n",
    "        return len(self.samples)\n",
    "\n",
    "    def __getitem__(self, idx):\n",
    "      \t# Unpack the sample at index idx\n",
    "        img_path, alphabet, label = self.samples[idx]\n",
    "        img = Image.open(img_path).convert('L')\n",
    "        # Transform the image \n",
    "        img_transformed = self.transform(img)\n",
    "        return img_transformed, alphabet, label\n",
    "```\n",
    "\n",
    "-----------------------\n",
    "\n",
    "5. Nice done! With your implementation of `OmniglotDataset` ready, you can actually create the dataset and DataLoader, just like you did it before.\n",
    "```\n",
    "dataset_train = OmniglotDataset(\n",
    "    transform=transforms.Compose([\n",
    "        transforms.ToTensor(),\n",
    "        transforms.Resize((64, 64)),\n",
    "    ]),\n",
    "    samples=samples,\n",
    ")\n",
    "\n",
    "dataloader_train = DataLoader(\n",
    "    dataset_train, shuffle=True, batch_size=3,\n",
    ")\n",
    "```\n",
    "\n",
    "What will `dataloader_train` produce? To answer, feel free to execute the code above and peek at the first batch of data returned by the DataLoader!\n",
    "\n",
    "**Possible answers**\n",
    "- [ ] (images, labels)\n",
    "- [ ] (alphabet vectors, images, labels)\n",
    "- [ ] (labels, images, alphabet_vectors)\n",
    "- [X] (images, alphabet vectors, labels)"
   ]
  },
  {
   "cell_type": "markdown",
   "id": "52ba8f55-4dca-4c7d-b51d-dea2566a3fc4",
   "metadata": {},
   "source": [
    "### Ex.2 - Two-input model\n",
    "\n",
    "With the data ready, it's time to build the two-input model architecture! To do so, you will set up a model class with the following methods:\n",
    "\n",
    "- `.__init__()`, in which you will define sub-networks by grouping layers; this is where you define the two layers for processing the two inputs, and the classifier that returns a classification score for each class.\n",
    "- `forward()`, in which you will pass both inputs through corresponding pre-defined sub-networks, concatenate the outputs, and pass them to the classifier.\n",
    "\n",
    "`torch.nn` is already imported for you as nn. Let's do it!\n",
    "\n",
    "**Instructions**\n",
    "\n",
    "1. Define image, alphabet and classifier sub-networks as sequential models, assigning them to self.image_layer, self.alphabet_layer and self.classifier, respectively.\n",
    "2. Pass the image and alphabet through the appropriate model layers.\n",
    "3. Concatenate the outputs from image and alphabet layers and assign the result to `x`.\n",
    "\n",
    "**Code result**\n",
    "\n",
    "---------------------------\n",
    "```\n",
    "class Net(nn.Module):\n",
    "    def __init__(self):\n",
    "        super(Net, self).__init__()\n",
    "        # Define sub-networks as sequential models\n",
    "        self.image_layer = nn.Sequential(\n",
    "            nn.Conv2d(1, 16, kernel_size=3, padding=1),\n",
    "            nn.MaxPool2d(kernel_size=2),\n",
    "            nn.ELU(),\n",
    "            nn.Flatten(),\n",
    "            nn.Linear(16*32*32, 128)\n",
    "        )\n",
    "        self.alphabet_layer = nn.Sequential(\n",
    "            nn.Linear(30, 8),\n",
    "            nn.ELU(), \n",
    "        )\n",
    "        self.classifier = nn.Sequential(\n",
    "            nn.Linear(128 + 8, 964), \n",
    "        )\n",
    "        \n",
    "    def forward(self, x_image, x_alphabet):\n",
    "\t\t# Pass the x_image and x_alphabet through appropriate layers\n",
    "        x_image = self.image_layer(x_image)\n",
    "        x_alphabet = self.alphabet_layer(x_alphabet)\n",
    "        # Concatenate x_image and x_alphabet\n",
    "        x = torch.cat((x_image, x_alphabet), dim=1)\n",
    "        return self.classifier(x)\n",
    "```\n",
    "\n",
    "---------------------------"
   ]
  },
  {
   "cell_type": "markdown",
   "id": "013201d8-8c42-46b6-b00e-01394edf5d39",
   "metadata": {},
   "source": [
    "## **4.2 MULTI-OUTPUT MODELS**\n",
    "\n",
    "### Two-Output Dataset\n",
    "\n",
    "We are going to use our `OmniglotDataset` dataset but we are going to create a different `get_sample` function."
   ]
  },
  {
   "cell_type": "code",
   "execution_count": 20,
   "id": "c6c3f3fd-29d2-4af4-a889-64d4bde773b8",
   "metadata": {},
   "outputs": [],
   "source": [
    "def get_samples2(root_dir: str) -> List[Tuple[str, np.ndarray, int]]:\n",
    "    \"\"\"Get samples to use in the Two-Input-Dataset.\"\"\"\n",
    "    samples = []\n",
    "    alphabet_dict = []\n",
    "    char_pos = -1\n",
    "    prev_alphabet = ''\n",
    "    for path, root, files in os.walk(root_dir):\n",
    "        if not alphabet_dict:\n",
    "            alphabet_dict = root\n",
    "        if files:\n",
    "            if files[0][-3:] == 'png':\n",
    "                path_items = path.replace('\\\\', '/').split('/')\n",
    "                alphabet_name = path_items[-2]\n",
    "                if alphabet_name != prev_alphabet:\n",
    "                    if prev_alphabet != '':\n",
    "                        char_pos = char_num\n",
    "                    prev_alphabet = alphabet_name\n",
    "                alphabet = alphabet_dict.index(alphabet_name)\n",
    "                char_num = int(re.search(r'\\d{0,3}$', path_items[-1]).group()) + char_pos\n",
    "                samples.extend([(os.path.join(path, file), alphabet, char_num)\n",
    "                                for file in files])\n",
    "    return samples"
   ]
  },
  {
   "cell_type": "code",
   "execution_count": 21,
   "id": "e1486b7a-7138-4833-8bc5-3c0f73de85e8",
   "metadata": {},
   "outputs": [
    {
     "name": "stdout",
     "output_type": "stream",
     "text": [
      "14400\n",
      "[('data-sources/omniglot/omniglot_train/Tifinagh\\\\character55\\\\0964_17.png',\n",
      "  29,\n",
      "  963),\n",
      " ('data-sources/omniglot/omniglot_train/Tifinagh\\\\character55\\\\0964_18.png',\n",
      "  29,\n",
      "  963),\n",
      " ('data-sources/omniglot/omniglot_train/Tifinagh\\\\character55\\\\0964_20.png',\n",
      "  29,\n",
      "  963)]\n"
     ]
    }
   ],
   "source": [
    "samples2 = get_samples2(DATASET_OMNIGLOT_TRAIN)\n",
    "print(len(samples2))\n",
    "pprint(samples2[-3:])"
   ]
  },
  {
   "cell_type": "markdown",
   "id": "a93d241f-60ab-4988-8bbb-326c7984a46d",
   "metadata": {},
   "source": [
    "### Model TwoOutputNetModel"
   ]
  },
  {
   "cell_type": "code",
   "execution_count": 22,
   "id": "b1599b2f-3a0e-4864-b1a6-dffeaa80d5c7",
   "metadata": {},
   "outputs": [],
   "source": [
    "class TwoOutputNetModel(nn.Module):\n",
    "    \"\"\"Two-Output Architecture Model to predict the character and \n",
    "    the alphabet it belongs to.\n",
    "    \"\"\"\n",
    "    def __init__(self):\n",
    "        super().__init__()\n",
    "        self.image_layer = nn.Sequential(         # Input img 1X64x64 (channel, w, h)\n",
    "            nn.Conv2d(1, 16, \n",
    "                      kernel_size=3, padding=1),  # In-channel=1, Out-channel=16 → 16x64x64\n",
    "            nn.MaxPool2d(kernel_size=2),          # Divide image size by 2 → 16x32x32\n",
    "            nn.ELU(),                             # No Changes → 16x32x32\n",
    "            nn.Flatten(),                         # Flatten → 16x32x32\n",
    "            nn.Linear(16*32*32, 128),             # No Changes → 16x32x32\n",
    "        )\n",
    "        self.classifier_alpha = nn.Linear(128, 30)\n",
    "        self.classifier_char = nn.Linear(128, 964)\n",
    "\n",
    "    def forward(self, x_image:torch.Tensor):\n",
    "        x_image = x_image.float()\n",
    "        x_image = self.image_layer(x_image)\n",
    "        output_alpha = self.classifier_alpha(x_image)\n",
    "        output_char = self.classifier_char(x_image)\n",
    "        return output_alpha, output_char"
   ]
  },
  {
   "cell_type": "markdown",
   "id": "e07d66b8-8722-4d5b-90ef-be224a99a343",
   "metadata": {},
   "source": [
    "### Training loop"
   ]
  },
  {
   "cell_type": "code",
   "execution_count": 23,
   "id": "771a9756-7608-4f01-9f9b-0dfffb48abb4",
   "metadata": {},
   "outputs": [
    {
     "name": "stdout",
     "output_type": "stream",
     "text": [
      "Num Samples: 14400\n"
     ]
    }
   ],
   "source": [
    "# Train transformation\n",
    "train_transforms = transforms.Compose([transforms.ToTensor(),\n",
    "                                       transforms.Resize((64, 64)),\n",
    "                                      ])\n",
    "\n",
    "# Create the train dataset\n",
    "dataset_train2 = OmniglotDataset(transform=train_transforms, samples=samples2)\n",
    "print('Num Samples:', len(dataset_train2))"
   ]
  },
  {
   "cell_type": "code",
   "execution_count": 24,
   "id": "90517952-d29f-4861-9111-1373726e396a",
   "metadata": {},
   "outputs": [],
   "source": [
    "# Create a DataLoader based on dataset_train\n",
    "dataloader_train2 = DataLoader(dataset_train2, batch_size=20, shuffle=True)"
   ]
  },
  {
   "cell_type": "code",
   "execution_count": 25,
   "id": "64318a36-c6ff-40ce-9661-5ba331b9531c",
   "metadata": {},
   "outputs": [],
   "source": [
    "# Build the model\n",
    "model_s2 = TwoOutputNetModel()\n",
    "\n",
    "criterion = nn.CrossEntropyLoss()\n",
    "optimizer = optim.Adam(model_s2.parameters(), lr=0.001)  # weight_decay=1e-4"
   ]
  },
  {
   "cell_type": "code",
   "execution_count": 26,
   "id": "b035aaf5-555e-4837-a854-8b8ac228829b",
   "metadata": {},
   "outputs": [
    {
     "name": "stdout",
     "output_type": "stream",
     "text": [
      "Epoch 1, Loss: 8.742460\n",
      "Epoch 2, Loss: 5.832837\n",
      "Epoch 3, Loss: 4.505525\n",
      "Epoch 4, Loss: 3.528479\n",
      "Epoch 5, Loss: 2.776354\n",
      "Epoch 6, Loss: 2.250045\n",
      "Epoch 7, Loss: 1.894862\n",
      "Epoch 8, Loss: 1.648410\n",
      "Epoch 9, Loss: 1.489207\n",
      "Epoch 10, Loss: 1.343160\n"
     ]
    }
   ],
   "source": [
    "losses = []\n",
    "epochs = 10\n",
    "\n",
    "model_s2.train()\n",
    "for epoch in range(epochs):\n",
    "    running_loss = 0.0\n",
    "    \n",
    "    for img, label_alpha, label_char in dataloader_train2:\n",
    "        optimizer.zero_grad()                       # zero the parameter gradients\n",
    "        output_alpha, output_char = model_s2(img)             # Run a forward pass\n",
    "        loss_alpha = criterion(output_alpha, label_alpha)           # Compute loss\n",
    "        loss_char = criterion(output_char, label_char)              # Compute loss\n",
    "        loss = loss_alpha + loss_char\n",
    "        loss.backward()                             # Backward pass\n",
    "        optimizer.step()                            # Optimization\n",
    "        running_loss += loss.item()\n",
    "\n",
    "    epoch_loss = running_loss / len(dataloader_train)\n",
    "    losses.append(epoch_loss)                       # Record the loss per epoch\n",
    "    print(f\"Epoch {epoch+1}, Loss: {epoch_loss:.6f}\")"
   ]
  },
  {
   "cell_type": "code",
   "execution_count": 27,
   "id": "e0163ae4-4803-4f15-8df4-c9fcfb43d682",
   "metadata": {},
   "outputs": [
    {
     "data": {
      "image/png": "[encoded data removed]",
      "text/plain": [
       "<Figure size 1000x400 with 1 Axes>"
      ]
     },
     "metadata": {},
     "output_type": "display_data"
    }
   ],
   "source": [
    "# Visualizing the loss in training set\n",
    "fig = plt.figure(figsize=(10, 4))\n",
    "plt.plot(range(epochs), losses)\n",
    "plt.title(\"Training Loss over Epochs\")\n",
    "plt.xlabel('Epochs')\n",
    "plt.ylabel('Loss')\n",
    "plt.show()"
   ]
  },
  {
   "cell_type": "markdown",
   "id": "b49091ce-5b1d-4b65-b1f3-3932dc977b74",
   "metadata": {},
   "source": [
    "### Ex.3 - Two-output Dataset and DataLoader\n",
    "\n",
    "In this and the following exercises, you will build a two-output model to predict both the character and the alphabet it comes from based on the character's image. As always, you will start with getting the data ready.\n",
    "\n",
    "The `OmniglotDataset` class you have created before is available for you to use along with updated samples. Let's use it to build the Dataset and the DataLoader.\n",
    "\n",
    "The following imports have already been done for you:\n",
    "```\n",
    "from torch.utils.data import Dataset, DataLoader\n",
    "from torchvision import transforms\n",
    "```\n",
    "\n",
    "**Instructions**\n",
    "\n",
    "1. Print the element of `samples2` at index `100` and examine its structure.\n",
    "2. Use your `OmniglotDataset` to create `dataset_train`, passing the two image transforms you have used before: parse the image to a tensor and resize it to size `(64, 64)`.\n",
    "3. Create `dataloader_train` from `dataset_train`; `shuffle` the training images and set batch size to `32`.\n",
    "\n",
    "**Code result:**\n",
    "\n",
    "-----------------------------\n",
    "```\n",
    "\n",
    "# Create dataset_train\n",
    "dataset_train = OmniglotDataset(\n",
    "    transform=transforms.Compose([\n",
    "        transforms.ToTensor(),\n",
    "      \ttransforms.Resize((64, 64)),\n",
    "    ]),\n",
    "    samples=samples,\n",
    ")\n",
    "\n",
    "# Create dataloader_train\n",
    "dataloader_train = DataLoader(\n",
    "    dataset_train, batch_size=32, shuffle=True,\n",
    ")\n",
    "```\n",
    "\n",
    "-----------------------------"
   ]
  },
  {
   "cell_type": "code",
   "execution_count": 28,
   "id": "f97c5e4f-76bf-4e8f-8615-f4e804b7ec72",
   "metadata": {},
   "outputs": [
    {
     "name": "stdout",
     "output_type": "stream",
     "text": [
      "('data-sources/omniglot/omniglot_train/Alphabet_of_the_Magi\\\\character07\\\\0715_19.png',\n",
      " 0,\n",
      " 6)\n"
     ]
    }
   ],
   "source": [
    "# Print the sample at index 100\n",
    "pprint(samples2[100])"
   ]
  },
  {
   "cell_type": "markdown",
   "id": "8983655e-0d4c-453f-9d83-90d86a65315e",
   "metadata": {},
   "source": [
    "### Ex.4 - Two-output model architecture\n",
    "\n",
    "In this exercise, you will construct a multi-output neural network architecture capable of predicting the character and the alphabet.\n",
    "\n",
    "Recall the general structure: in the `.__init__()` method, you define layers to be used in the forward pass later. In the `forward()` method, you will first pass the input image through a couple of layers to obtain its embedding, which in turn is fed into two separate classifier layers, one for each output.\n",
    "\n",
    "`torch.nn` is already imported under its usual alias, so let's build a model!\n",
    "\n",
    "**Instructions**\n",
    "\n",
    "1. Define `self.classifier_alpha` and `self.classifier_char` as linear layers with input shapes matching the output of `image_layer`, and output shapes corresponding to the number of alphabets (`30`) and the number of characters (`964`), respectively.\n",
    "2. Pass the image embedding `x_image` separately through each of the classifiers, assigning the results to `output_alpha` and `output_char`, respectively, and return them in this order.\n",
    "\n",
    "**Code result:**\n",
    "\n",
    "-----------------------------------\n",
    "```\n",
    "class Net(nn.Module):\n",
    "    def __init__(self):\n",
    "        super(Net, self).__init__()\n",
    "        self.image_layer = nn.Sequential(\n",
    "            nn.Conv2d(1, 16, kernel_size=3, padding=1),\n",
    "            nn.MaxPool2d(kernel_size=2),\n",
    "            nn.ELU(),\n",
    "            nn.Flatten(),\n",
    "            nn.Linear(16*32*32, 128)\n",
    "        )\n",
    "        # Define the two classifier layers\n",
    "        self.classifier_alpha = nn.Linear(128, 30)\n",
    "        self.classifier_char = nn.Linear(128, 964)\n",
    "        \n",
    "    def forward(self, x):\n",
    "        x_image = self.image_layer(x)\n",
    "        # Pass x_image through the classifiers and return both results\n",
    "        output_alpha = self.classifier_alpha(x_image)\n",
    "        output_char = self.classifier_char(x_image)\n",
    "        return output_alpha, output_char\n",
    "```\n",
    "\n",
    "--------------------------"
   ]
  },
  {
   "cell_type": "markdown",
   "id": "8a89a1ac-b9be-4c49-8bb0-f35eba332be1",
   "metadata": {},
   "source": [
    "### Ex.5 - Training multi-output models\n",
    "\n",
    "When training models with multiple outputs, it is crucial to ensure that the loss function is defined correctly.\n",
    "\n",
    "In this case, the model produces two outputs: predictions for the alphabet and the character. For each of these, there are corresponding ground truth labels, which will allow you to calculate two separate losses: one incurred from incorrect alphabet classifications, and the other from incorrect character classification. Since in both cases you are dealing with a multi-label classification task, the Cross-Entropy loss can be applied each time.\n",
    "\n",
    "Gradient descent can optimize only one loss function, however. You will thus define the total loss as the sum of alphabet and character losses.\n",
    "\n",
    "**Instructions**\n",
    "\n",
    "1. Calculate the alphabet classification loss and assign it to `loss_alpha`.\n",
    "2. Calculate the character classification loss and assign it to `loss_char`.\n",
    "3. Compute the total loss as the sum of the two partial losses and assign it to `loss`.\n",
    "\n",
    "**Code result:**\n",
    "\n",
    "------------------------------------------\n",
    "```\n",
    "net = Net()\n",
    "criterion = nn.CrossEntropyLoss()\n",
    "optimizer = optim.SGD(net.parameters(), lr=0.05)\n",
    "\n",
    "for epoch in range(1):\n",
    "    for images, labels_alpha, labels_char in dataloader_train:\n",
    "        optimizer.zero_grad()\n",
    "        outputs_alpha, outputs_char = net(images)\n",
    "        # Compute alphabet classification loss\n",
    "        loss_alpha = criterion(outputs_alpha, labels_alpha)\n",
    "        # Compute character classification loss\n",
    "        loss_char = criterion(outputs_char, labels_char)\n",
    "        # Compute total loss\n",
    "        loss = loss_alpha + loss_char\n",
    "        loss.backward()\n",
    "        optimizer.step()\n",
    "```\n",
    "\n",
    "------------------------------------------"
   ]
  },
  {
   "cell_type": "markdown",
   "id": "e2472a5b-cebc-4acd-bf68-091c851709e8",
   "metadata": {},
   "source": [
    "## 4.3 Evaluation of multi-output models and loss weighting\n",
    "\n",
    "### Model evaluation"
   ]
  },
  {
   "cell_type": "code",
   "execution_count": 29,
   "id": "3654baae-045e-4b63-877a-55bb0d52894a",
   "metadata": {},
   "outputs": [
    {
     "name": "stdout",
     "output_type": "stream",
     "text": [
      "Num Samples: 12149\n"
     ]
    }
   ],
   "source": [
    "# Get samples\n",
    "samples_test2 = get_samples2(DATASET_OMNIGLOT_TEST)\n",
    "\n",
    "# Create the test dataset\n",
    "dataset_test2 = OmniglotDataset(transform=train_transforms, samples=samples_test2)\n",
    "print('Num Samples:', len(dataset_test2))\n",
    "\n",
    "# Create a DataLoader based on dataset_test\n",
    "dataloader_test2 = DataLoader(dataset_test2, batch_size=20, shuffle=True)"
   ]
  },
  {
   "cell_type": "code",
   "execution_count": 30,
   "id": "5009958d-2d5d-4d94-afd5-f141cab2ef98",
   "metadata": {},
   "outputs": [
    {
     "name": "stdout",
     "output_type": "stream",
     "text": [
      "Alphabet: 0.5738744139671326\n",
      "Character: 0.7181661128997803\n"
     ]
    }
   ],
   "source": [
    "acc_alpha = Accuracy(task=\"multiclass\", num_classes=30)\n",
    "acc_char = Accuracy(task=\"multiclass\", num_classes=964)\n",
    "\n",
    "model_s2.eval()\n",
    "with torch.no_grad():\n",
    "    for images, labels_alpha, labels_char in dataloader_test2:\n",
    "        out_alpha, out_char = model_s2(images)\n",
    "        _, pred_alpha = torch.max(out_alpha, 1)\n",
    "        _, pred_char = torch.max(out_char, 1)\n",
    "        acc_alpha(pred_alpha, labels_alpha)\n",
    "        acc_char(pred_char, labels_char)\n",
    "\n",
    "print(f\"Alphabet: {acc_alpha.compute()}\")\n",
    "print(f\"Character: {acc_char.compute()}\")"
   ]
  },
  {
   "cell_type": "markdown",
   "id": "dbd67ba0-01ad-447c-9ba8-aca3789632ad",
   "metadata": {},
   "source": [
    "### Multi-output training loop revisited\n",
    "\n",
    "#### Both outputs tasks deemed equally important"
   ]
  },
  {
   "cell_type": "code",
   "execution_count": 31,
   "id": "680445b5-3d0a-4195-8363-25f568542821",
   "metadata": {},
   "outputs": [
    {
     "data": {
      "text/plain": [
       "tensor(1.9012991190, grad_fn=<AddBackward0>)"
      ]
     },
     "execution_count": 31,
     "metadata": {},
     "output_type": "execute_result"
    }
   ],
   "source": [
    "loss = loss_alpha + loss_char\n",
    "loss"
   ]
  },
  {
   "cell_type": "markdown",
   "id": "c1c07782-d0d7-4972-9392-c9ac309c8c73",
   "metadata": {},
   "source": [
    "#### Varying task importance - Scale more important loss by a factor of 2"
   ]
  },
  {
   "cell_type": "code",
   "execution_count": 32,
   "id": "a390cca7-f363-433d-ba28-e03f68808556",
   "metadata": {},
   "outputs": [
    {
     "data": {
      "text/plain": [
       "tensor(2.0451240540, grad_fn=<AddBackward0>)"
      ]
     },
     "execution_count": 32,
     "metadata": {},
     "output_type": "execute_result"
    }
   ],
   "source": [
    "loss = loss_alpha + loss_char * 2\n",
    "loss"
   ]
  },
  {
   "cell_type": "markdown",
   "id": "0db0e412-db65-48e7-9de4-0720ba59c033",
   "metadata": {},
   "source": [
    "#### Varying task importance - Assign weights that sum to 1"
   ]
  },
  {
   "cell_type": "code",
   "execution_count": 33,
   "id": "b8a41670-7211-4907-bf2b-0584b41ec8e9",
   "metadata": {},
   "outputs": [
    {
     "data": {
      "text/plain": [
       "tensor(0.6763291955, grad_fn=<AddBackward0>)"
      ]
     },
     "execution_count": 33,
     "metadata": {},
     "output_type": "execute_result"
    }
   ],
   "source": [
    "loss = 0.33 * loss_alpha + 0.67 * loss_char\n",
    "loss"
   ]
  },
  {
   "cell_type": "markdown",
   "id": "a6dbeb05-48ee-4167-875f-c258ab3b9dab",
   "metadata": {},
   "source": [
    "### **Warning**: losses on different scales\n",
    "\n",
    "- Losses must be on the same scale before they are weighted and added\n",
    "- Example tasks:\n",
    "    - Predict house price -> MSE loss\n",
    "    - Predict quality: low, medium, high -> CrossEntropy loss\n",
    "- CrossEntropy is typically in the single-digits\n",
    "- MSE loss can reach tens of thousands\n",
    "- Model would ignore quality assessment task\n",
    "- Solution: Normalize both losses before weighting and adding"
   ]
  },
  {
   "cell_type": "code",
   "execution_count": 34,
   "id": "8c7714a1-2244-4f7c-bb02-fe386267745c",
   "metadata": {},
   "outputs": [],
   "source": [
    "# # Implementation code\n",
    "# loss_price = loss_price / torch.max(loss_price)\n",
    "# loss_quality = loss_quality / torch.max(loss_quality)\n",
    "# loss = 0.7 * loss_price + 0.3 * loss_quality"
   ]
  },
  {
   "cell_type": "markdown",
   "id": "65285d14-88c2-4413-b366-a17066de0d52",
   "metadata": {},
   "source": [
    "### Ex.6 - Multi-output model evaluation\n",
    "In this exercise, you will practice model evaluation for multi-output models. Your task is to write a function called `evaluate_model()` that takes an alphabet-and-character-predicting model as input, runs the evaluation loop, and prints the model's accuracy in the two tasks.\n",
    "\n",
    "You can assume that the function will have access to `dataloader_test`. The following imports have already been run for you:\n",
    "```\n",
    "import torch\n",
    "from torchmetrics import Accuracy\n",
    "```\n",
    "\n",
    "Once you have implemented `evaluate_model()`, you will use it in the following exercise!\n",
    "\n",
    "**Instructions**\n",
    "1. Define `acc_alpha` and `acc_char` as multi-class `Accuracy()` metrics for the two outputs, `alphabets` and `characters`, with the appropriate number of classes each (there are `30` alphabets and `964` characters in the dataset).\n",
    "2. Define the evaluation loop by iterating over test images, `labels_alpha`, and `labels_char`.\n",
    "3. Inside the for-loop, obtain model results for the test data batch and assign them to `outputs_alpha`, `outputs_char`.\n",
    "4. Update the two accuracy metrics with the current batch's data."
   ]
  },
  {
   "cell_type": "code",
   "execution_count": 35,
   "id": "cd6a44e1-9290-4a74-a7f4-6730842bb952",
   "metadata": {},
   "outputs": [],
   "source": [
    "def evaluate_model(model):\n",
    "    # Define accuracy metrics\n",
    "    acc_alpha = Accuracy(task=\"multiclass\", num_classes=30)\n",
    "    acc_char = Accuracy(task=\"multiclass\", num_classes=964)\n",
    "\n",
    "    model.eval()\n",
    "    with torch.no_grad():\n",
    "        for images, labels_alpha, labels_char in dataloader_test2:\n",
    "            # Obtain model outputs\n",
    "            outputs_alpha, outputs_char = model_s2(images)\n",
    "            _, pred_alpha = torch.max(outputs_alpha, 1)\n",
    "            _, pred_char = torch.max(outputs_char, 1)\n",
    "\t\t\t# Update both accuracy metrics\n",
    "            acc_alpha(pred_alpha, labels_alpha)\n",
    "            acc_char(pred_char, labels_char)\n",
    "    \n",
    "    print(f\"Alphabet: {acc_alpha.compute()}\")\n",
    "    print(f\"Character: {acc_char.compute()}\")"
   ]
  },
  {
   "cell_type": "markdown",
   "id": "7d20a0c5-08f0-4af3-bc23-bb1fab2e09a4",
   "metadata": {},
   "source": [
    "### Ex.7 - Loss weighting\n",
    "\n",
    "Three versions of the two-output model for alphabet and character prediction that you built before have been trained: `model_a`, `model_b`, and `model_c`. For all three, the loss was defined as follows:\n",
    "```\n",
    "loss_alpha = criterion(outputs_alpha, labels_alpha)\n",
    "loss_char = criterion(outputs_char, labels_char)\n",
    "loss = ((1 - char_weight) * loss_alpha) + (char_weight * loss_char)\n",
    "```\n",
    "However, each of the three models was trained with a different char_weight: \n",
    "- `0.1`,\n",
    "- `0.5`, or\n",
    "- `0.9`.\n",
    "\n",
    "**Instructions**\n",
    "1. Use the function you have defined in the previous, `evaluate_model()`, to check the accuracy of each model. Which `char_weight` was used to train which model?\n",
    "\n",
    "**Possible answers:**\n",
    "- [ ] model_a: 0.1, model_b: 0.5, model_c: 0.9\n",
    "- [ ] model_a: 0.1, model_b: 0.9, model_c: 0.5\n",
    "- [X] model_a: 0.5, model_b: 0.1, model_c: 0.9\n",
    "- [ ] model_a: 0.9, model_b: 0.1, model_c: 0.5\n",
    "- [ ] model_a: 0.9, model_b: 0.5, model_c: 0.1"
   ]
  },
  {
   "cell_type": "markdown",
   "id": "6d1c6dc6-81d6-4f75-b4e2-6612e0e6c5aa",
   "metadata": {},
   "source": [
    "```\n",
    "model_a == model_b == model_c\n",
    "Net(\n",
    "  (image_layer): Sequential(\n",
    "    (0): Conv2d(1, 16, kernel_size=(3, 3), stride=(1, 1), padding=(1, 1))\n",
    "    (1): MaxPool2d(kernel_size=2, stride=2, padding=0, dilation=1, ceil_mode=False)\n",
    "    (2): ELU(alpha=1.0)\n",
    "    (3): Flatten(start_dim=1, end_dim=-1)\n",
    "    (4): Linear(in_features=16384, out_features=128, bias=True)\n",
    "  )\n",
    "  (classifier_alpha): Linear(in_features=128, out_features=30, bias=True)\n",
    "  (classifier_char): Linear(in_features=128, out_features=964, bias=True)\n",
    ")\n",
    "```"
   ]
  },
  {
   "cell_type": "markdown",
   "id": "a54826d6-3fb9-4df0-978c-7071d6db62ad",
   "metadata": {},
   "source": [
    "```\n",
    "In: evaluate_model(model_a)\n",
    "Alphabet: 0.2808536887168884\n",
    "Character: 0.1869264841079712\n",
    "\n",
    "In: evaluate_model(model_b)\n",
    "Alphabet: 0.35044848918914795\n",
    "Character: 0.01783689111471176\n",
    "\n",
    "In: evaluate_model(model_c)\n",
    "Alphabet: 0.30363956093788147\n",
    "Character: 0.23837509751319885\n",
    "```"
   ]
  },
  {
   "cell_type": "markdown",
   "id": "df37d2ff-0fdd-4944-bb40-e60be028d30a",
   "metadata": {},
   "source": [
    "Well done, that was a tricky one! Notice how the model with 90% of its focus on alphabet recognition (`char_weight=0.1`) does very poorly on the character task. As we increase `char_weight` to `0.5`, the alphabet accuracy drops slightly due to the increased focus on characters, but when it reaches `char_weight=0.9`, the alphabet accuracy increases slightly with the character accuracy, highlighting the synergy between the tasks."
   ]
  },
  {
   "cell_type": "markdown",
   "id": "5f195191-1e96-4f50-ac6e-57e56134f82a",
   "metadata": {},
   "source": [
    "------------------------"
   ]
  }
 ],
 "metadata": {
  "kernelspec": {
   "display_name": "Python 3 (ipykernel)",
   "language": "python",
   "name": "python3"
  },
  "language_info": {
   "codemirror_mode": {
    "name": "ipython",
    "version": 3
   },
   "file_extension": ".py",
   "mimetype": "text/x-python",
   "name": "python",
   "nbconvert_exporter": "python",
   "pygments_lexer": "ipython3",
   "version": "3.8.19"
  }
 },
 "nbformat": 4,
 "nbformat_minor": 5
}
