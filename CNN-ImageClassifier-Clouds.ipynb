{
 "cells": [
  {
   "cell_type": "markdown",
   "id": "dee87fba-4b2e-4a82-973a-e20cef93162d",
   "metadata": {},
   "source": [
    "# Predicting Agua Potabilization\n",
    "\n",
    "Data source: \n",
    "- Training: `data-sources/clouds/clouds_train/`\n",
    "- Testing : `data-sources/clouds/clouds_test/`\n",
    "\n",
    "Predicting: \n",
    "- cirriform clouds      : 0, \n",
    "- clear sky             : 1,\n",
    "- cumulonimbus clouds   : 2,\n",
    "- cumulus clouds        : 3,\n",
    "- high cumuliform clouds: 4,\n",
    "- stratiform clouds     : 5,\n",
    "- stratocumulus clouds  : 6\n",
    "\n",
    "## 1. Prepare environment"
   ]
  },
  {
   "cell_type": "code",
   "execution_count": 1,
   "id": "7e02ee76-f03a-40ab-b7ca-96eb21dba662",
   "metadata": {},
   "outputs": [],
   "source": [
    "# Importing libraries\n",
    "import expectexception\n",
    "import matplotlib.pyplot as plt\n",
    "import numpy as np\n",
    "import pandas as pd\n",
    "import os\n",
    "\n",
    "import torch\n",
    "import torch.nn as nn\n",
    "import torch.optim as optim\n",
    "\n",
    "from environment import prepare_environment\n",
    "\n",
    "from pprint import pprint\n",
    "from sklearn.metrics import confusion_matrix, ConfusionMatrixDisplay\n",
    "from typing import Tuple\n",
    "\n",
    "from torch.utils.data import Dataset, DataLoader\n",
    "from torchvision import transforms as Transforms\n",
    "from torchvision.datasets import ImageFolder\n",
    "from torchmetrics import Precision, Recall"
   ]
  },
  {
   "cell_type": "code",
   "execution_count": 2,
   "id": "f526cef4-e9fd-4e47-8db7-c6937e831364",
   "metadata": {},
   "outputs": [],
   "source": [
    "# Global variables\n",
    "SEED = 42\n",
    "\n",
    "DATASET_CLOUD_TRAIN = \"data-sources/clouds/clouds_train/\"\n",
    "DATASET_CLOUD_TEST = \"data-sources/clouds/clouds_test/\"\n",
    "\n",
    "MODEL_CLOUD_CLASSIFIER = \"artifacts/cloudclassifier.pth\""
   ]
  },
  {
   "cell_type": "code",
   "execution_count": 3,
   "id": "d08ec658-3082-43a3-9275-b09164cbc5d4",
   "metadata": {},
   "outputs": [
    {
     "name": "stdout",
     "output_type": "stream",
     "text": [
      "2.4.1+cu124\n",
      "Cuda is available? True\n",
      "Device: NVIDIA GeForce RTX 3050 Ti Laptop GPU\n"
     ]
    }
   ],
   "source": [
    "# Check if your GPU driver and CUDA is enabled and accessible by PyTorch\n",
    "print(torch.__version__)\n",
    "print('Cuda is available?', torch.cuda.is_available())\n",
    "\n",
    "device = torch.cuda.current_device()  # returns you the ID of your current device\n",
    "print('Device:', torch.cuda.get_device_name(device))  # returns you the name of the device\n",
    "\n",
    "# # Reviewing allocated memmory, it is 0 if there is nothing allocated\n",
    "# cuda_memory = torch.cuda.memory_allocated(device)\n",
    "# cuda_cache = torch.cuda.memory_reserved(device)\n",
    "# print(f\"\"\"\n",
    "# CUDA memory device: {cuda_memory}\n",
    "# CUDA cache  device: {cuda_cache}\n",
    "# \"\"\")"
   ]
  },
  {
   "cell_type": "code",
   "execution_count": 4,
   "id": "0a381f7b-e8e3-49f2-b67d-7548979c78c8",
   "metadata": {},
   "outputs": [],
   "source": [
    "# Global configuration\n",
    "prepare_environment()\n",
    "\n",
    "torch.set_printoptions(precision=10)\n",
    "\n",
    "# Reproducibility\n",
    "np.random.seed(SEED)\n",
    "_ = torch.manual_seed(SEED)"
   ]
  },
  {
   "cell_type": "markdown",
   "id": "eaac5a22-e981-415f-9e18-5db283f44f8f",
   "metadata": {},
   "source": [
    "### Utilities"
   ]
  },
  {
   "cell_type": "code",
   "execution_count": 5,
   "id": "8972afda-b86b-4e82-b3ff-b001ff4b78f7",
   "metadata": {},
   "outputs": [],
   "source": [
    "class ImageDataSet(Dataset):\n",
    "    \"\"\"\n",
    "    PyTorch Dataset extended to load the data images based on a given folder\n",
    "    Assumptions:\n",
    "    - The images are distributed by category/label, each category is represented by the subfolders \n",
    "      included in the root_dir.\n",
    "    - Full transformation is made on trainning set, and only ToTensor and Resize are made to testing set. \n",
    "    \"\"\"\n",
    "    \n",
    "    def __init__(self, root_dir:str, is_train_set:bool=True) -> None:\n",
    "        super().__init__\n",
    "        torch.manual_seed(SEED)\n",
    "        \n",
    "        if is_train_set:\n",
    "            self.transform = Transforms.Compose([\n",
    "                Transforms.RandomHorizontalFlip(),\n",
    "                Transforms.RandomRotation(45),\n",
    "                Transforms.RandomAutocontrast(),\n",
    "                Transforms.ToTensor(),\n",
    "                Transforms.Resize((64, 64))\n",
    "            ])\n",
    "        else:\n",
    "            self.transform = Transforms.Compose([\n",
    "                Transforms.ToTensor(),\n",
    "                Transforms.Resize((64, 64))\n",
    "            ])\n",
    "        self.label_dict = {l: i for i, l in enumerate(sorted(os.listdir(DATASET_CLOUD_TRAIN)))}\n",
    "        self.data = ImageFolder(root_dir, transform=self.transform,)\n",
    "\n",
    "    def __len__(self) -> int:\n",
    "        return len(self.data)\n",
    "\n",
    "    def __getitem__(self, idx:int) -> Tuple[torch.Tensor, torch.Tensor]:\n",
    "        return self.data[idx]\n",
    "\n",
    "    @property\n",
    "    def class_to_idx(self):\n",
    "        return self.label_dict"
   ]
  },
  {
   "cell_type": "code",
   "execution_count": 6,
   "id": "8dfbc5df-0ba2-4bed-b63f-fd9eeec4e810",
   "metadata": {},
   "outputs": [],
   "source": [
    "# Build the binary classifier model\n",
    "class ImageClassifierModel(nn.Module):\n",
    "    \"\"\"CNN model for image cloud classifier problems.\n",
    "    \"\"\"\n",
    "    def __init__(self, num_classes:int, seed:int=SEED) -> None:\n",
    "        super().__init__()\n",
    "        torch.manual_seed(SEED)\n",
    "        \n",
    "        self.feature_extractor = nn.Sequential(           # Imagine input images 3 X 64 X 64 (channel, width, height)\n",
    "            nn.Conv2d(3, 32, kernel_size=3, padding=1),   # Input channel=3, output channel=32 → 32 x 64 x 64\n",
    "            nn.ELU(),                                     # No Changes → 32 x 64 x 64\n",
    "            nn.MaxPool2d(kernel_size=2),                  # Divide image size by 2 → 32 x 32 x 32\n",
    "            nn.Conv2d(32, 64, kernel_size=3, padding=1),  # Input channel=32, output channel=64 → 64 x 32 x 32\n",
    "            nn.ELU(),                                     # No Changes → 64 x 32 x 32\n",
    "            nn.MaxPool2d(kernel_size=2),                  # Divide image size by 2 → 64 x 16 x 16\n",
    "            nn.Flatten(),                                 # Flatten image → 64 x 16 x 16\n",
    "        )\n",
    "        self.classifier = nn.Linear(64*16*16, num_classes)\n",
    "        \n",
    "    def forward(self, x:torch.Tensor) -> torch.Tensor:\n",
    "        x = self.feature_extractor(x)\n",
    "        x = self.classifier(x)\n",
    "        return x"
   ]
  },
  {
   "cell_type": "markdown",
   "id": "63a99266-80ba-46fb-8330-e9d966765d4f",
   "metadata": {},
   "source": [
    "## 2. Review datasets"
   ]
  },
  {
   "cell_type": "code",
   "execution_count": 7,
   "id": "24a2d0a3-b850-4e9e-9375-fa2327a82e2f",
   "metadata": {},
   "outputs": [
    {
     "name": "stdout",
     "output_type": "stream",
     "text": [
      "TRAIN DATASET:\n",
      "- cirriform clouds: 66\n",
      "- clear sky: 60\n",
      "- cumulonimbus clouds: 14\n",
      "- cumulus clouds: 91\n",
      "- high cumuliform clouds: 133\n",
      "- stratiform clouds: 49\n",
      "- stratocumulus clouds: 61\n",
      "Total images: 474\n"
     ]
    }
   ],
   "source": [
    "print('TRAIN DATASET:')\n",
    "total = 0\n",
    "for directory in os.listdir(DATASET_CLOUD_TRAIN):\n",
    "    num_files = sum([len(f) for _, _, f in os.walk(DATASET_CLOUD_TRAIN + directory)])\n",
    "    print(f'- {directory}: {num_files}')\n",
    "    total += num_files\n",
    "print('Total images:', total)"
   ]
  },
  {
   "cell_type": "code",
   "execution_count": 8,
   "id": "77d441d1-6828-465e-8e20-c60cf9022e5c",
   "metadata": {},
   "outputs": [
    {
     "name": "stdout",
     "output_type": "stream",
     "text": [
      "TEST DATASET:\n",
      "- cirriform clouds: 77\n",
      "- clear sky: 64\n",
      "- cumulonimbus clouds: 11\n",
      "- cumulus clouds: 120\n",
      "- high cumuliform clouds: 103\n",
      "- stratiform clouds: 40\n",
      "- stratocumulus clouds: 71\n",
      "Total images: 486\n"
     ]
    }
   ],
   "source": [
    "print('TEST DATASET:')\n",
    "total = 0\n",
    "for directory in os.listdir(DATASET_CLOUD_TEST):\n",
    "    num_files = sum([len(f) for _, _, f in os.walk(DATASET_CLOUD_TEST + directory)])\n",
    "    print(f'- {directory}: {num_files}')\n",
    "    total += num_files\n",
    "print('Total images:', total)"
   ]
  },
  {
   "cell_type": "markdown",
   "id": "3be31c95-7e5a-42af-b9d5-bc99b15ce9ca",
   "metadata": {},
   "source": [
    "## 3. Get dataloader"
   ]
  },
  {
   "cell_type": "code",
   "execution_count": 9,
   "id": "054a8e5a-a6fb-4fc9-bc9c-3560ed3d852f",
   "metadata": {},
   "outputs": [
    {
     "name": "stdout",
     "output_type": "stream",
     "text": [
      "\n",
      "Train dataset size: 474\n",
      "Test dataset size: 486\n",
      "\n",
      "Labels in training set\n",
      "{'cirriform clouds': 0,\n",
      " 'clear sky': 1,\n",
      " 'cumulonimbus clouds': 2,\n",
      " 'cumulus clouds': 3,\n",
      " 'high cumuliform clouds': 4,\n",
      " 'stratiform clouds': 5,\n",
      " 'stratocumulus clouds': 6}\n",
      "\n",
      "Labels in testing set:\n",
      "{'cirriform clouds': 0,\n",
      " 'clear sky': 1,\n",
      " 'cumulonimbus clouds': 2,\n",
      " 'cumulus clouds': 3,\n",
      " 'high cumuliform clouds': 4,\n",
      " 'stratiform clouds': 5,\n",
      " 'stratocumulus clouds': 6}\n"
     ]
    }
   ],
   "source": [
    "# Get the dataset\n",
    "dataset_train = ImageDataSet(DATASET_CLOUD_TRAIN)\n",
    "dataset_test = ImageDataSet(DATASET_CLOUD_TEST)\n",
    "print(f\"\"\"\n",
    "Train dataset size: {len(dataset_train)}\n",
    "Test dataset size: {len(dataset_test)}\n",
    "\"\"\")\n",
    "\n",
    "# Create a DataLoader based on dataset_train\n",
    "dataloader_train = DataLoader(dataset_train, batch_size=16, shuffle=True)\n",
    "dataloader_test = DataLoader(dataset_test, batch_size=16, shuffle=True)\n",
    "\n",
    "# Labels\n",
    "print('Labels in training set')\n",
    "pprint(dataset_train.class_to_idx)\n",
    "print('\\nLabels in testing set:')\n",
    "pprint(dataset_test.class_to_idx)"
   ]
  },
  {
   "cell_type": "code",
   "execution_count": 10,
   "id": "9657b2af-333c-424d-820c-767834f35e5c",
   "metadata": {},
   "outputs": [
    {
     "name": "stdout",
     "output_type": "stream",
     "text": [
      "Data point: torch.Size([3, 64, 64])\n",
      "Image reshaped torch.Size([64, 64, 3])\n"
     ]
    },
    {
     "data": {
      "image/png": "[encoded data removed]",
      "text/plain": [
       "<Figure size 200x200 with 1 Axes>"
      ]
     },
     "metadata": {},
     "output_type": "display_data"
    }
   ],
   "source": [
    "# Reviewing the dataset\n",
    "image, label = next(iter(dataloader_train))\n",
    "image = image[0]\n",
    "print(\"Data point:\", image.shape)\n",
    "image = image.squeeze()\n",
    "image = image.permute(1, 2, 0)\n",
    "print(\"Image reshaped\", image.shape)\n",
    "fig = plt.figure(figsize=(2, 2))\n",
    "plt.imshow(image)\n",
    "plt.show()"
   ]
  },
  {
   "cell_type": "markdown",
   "id": "97f64802-0008-429f-bc4b-f79738557b84",
   "metadata": {},
   "source": [
    "## 4. Build the model"
   ]
  },
  {
   "cell_type": "code",
   "execution_count": 11,
   "id": "3ca2aa33-8927-4646-80cc-922782d6f8a5",
   "metadata": {},
   "outputs": [
    {
     "name": "stdout",
     "output_type": "stream",
     "text": [
      "Are we using GPU? False\n",
      "\n",
      "ImageClassifierModel(\n",
      "  (feature_extractor): Sequential(\n",
      "    (0): Conv2d(3, 32, kernel_size=(3, 3), stride=(1, 1), padding=(1, 1))\n",
      "    (1): ELU(alpha=1.0)\n",
      "    (2): MaxPool2d(kernel_size=2, stride=2, padding=0, dilation=1, ceil_mode=False)\n",
      "    (3): Conv2d(32, 64, kernel_size=(3, 3), stride=(1, 1), padding=(1, 1))\n",
      "    (4): ELU(alpha=1.0)\n",
      "    (5): MaxPool2d(kernel_size=2, stride=2, padding=0, dilation=1, ceil_mode=False)\n",
      "    (6): Flatten(start_dim=1, end_dim=-1)\n",
      "  )\n",
      "  (classifier): Linear(in_features=16384, out_features=7, bias=True)\n",
      ")\n"
     ]
    }
   ],
   "source": [
    "# Build the model\n",
    "model = ImageClassifierModel(num_classes=7)\n",
    "print(f\"Are we using GPU? {next(model.parameters()).is_cuda}\\n\")\n",
    "print(model)\n",
    "\n",
    "# Set the criterion and teh optimizer\n",
    "criterion = nn.CrossEntropyLoss()\n",
    "optimizer = optim.Adam(model.parameters(), lr=0.001)  # weight_decay=1e-4"
   ]
  },
  {
   "cell_type": "markdown",
   "id": "b5fb9c61-a0f5-4a7c-86e6-8984573620fd",
   "metadata": {},
   "source": [
    "## 5. Train the model"
   ]
  },
  {
   "cell_type": "code",
   "execution_count": 12,
   "id": "5007997f-7efa-438a-a0c9-43f589b06143",
   "metadata": {},
   "outputs": [
    {
     "name": "stdout",
     "output_type": "stream",
     "text": [
      "Epoch 10, Loss: 1.071770\n",
      "Epoch 20, Loss: 0.847502\n",
      "Epoch 30, Loss: 0.702454\n",
      "Epoch 40, Loss: 0.606812\n",
      "Epoch 50, Loss: 0.605388\n",
      "Epoch 60, Loss: 0.473880\n",
      "Epoch 70, Loss: 0.420049\n",
      "Epoch 80, Loss: 0.424012\n",
      "Epoch 90, Loss: 0.359085\n",
      "Epoch 100, Loss: 0.368359\n"
     ]
    }
   ],
   "source": [
    "# Train the model\n",
    "losses = []\n",
    "# accuracies = []\n",
    "\n",
    "epochs = 100\n",
    "model.train()\n",
    "for epoch in range(epochs):\n",
    "    running_loss = 0.0\n",
    "    \n",
    "    for X, y in dataloader_train:                   # Get feature and target from the data loader\n",
    "        optimizer.zero_grad()                       # zero the parameter gradients\n",
    "        y_out = model(X)                            # Run a forward pass\n",
    "        loss = criterion(y_out, y)                  # Compute loss\n",
    "        loss.backward()                             # Backward pass\n",
    "        optimizer.step()                            # Optimization\n",
    "        running_loss += loss.item()\n",
    "\n",
    "    epoch_loss = running_loss / len(dataloader_train)\n",
    "    losses.append(epoch_loss)                       # Record the loss per epoch\n",
    "    if (epoch + 1) % 10 == 0:                       # Print the loss every 10 epochs\n",
    "        print(f\"Epoch {epoch+1}, Loss: {epoch_loss:.6f}\")"
   ]
  },
  {
   "cell_type": "code",
   "execution_count": 13,
   "id": "991f8e99-500d-4c4b-8e88-8f7f1d70a855",
   "metadata": {},
   "outputs": [
    {
     "name": "stdout",
     "output_type": "stream",
     "text": [
      "\n",
      "y_out:\n",
      "tensor([[ 1.9669567347e+00,  1.1442829132e+01, -1.5839949608e+01,\n",
      "         -6.6670622826e+00, -2.2025284171e-01,  8.9162158966e+00,\n",
      "         -2.5299174786e+00],\n",
      "        [ 2.2610688210e+00, -1.2083152771e+01, -1.4046504021e+01,\n",
      "         -7.8557884693e-01,  5.7696056366e+00, -3.5052292347e+00,\n",
      "          3.1750793457e+00],\n",
      "        [ 3.6840753555e+00, -1.3759031296e+01, -1.3133908272e+01,\n",
      "          2.5226242542e+00,  4.7837395668e+00, -5.6122431755e+00,\n",
      "          2.6174921989e+00],\n",
      "        [ 2.3782448769e+00, -2.5843355656e+00, -1.1331641197e+01,\n",
      "         -2.0438492298e-01,  2.4177362919e+00,  3.8724222183e+00,\n",
      "         -1.9617213011e+00],\n",
      "        [ 2.7829623222e+00, -3.2345478535e+00, -1.2730266571e+01,\n",
      "         -2.3093800545e+00,  6.2166714668e-01,  7.2564730644e+00,\n",
      "          3.1983859837e-02],\n",
      "        [ 6.0794281960e+00, -1.4399532318e+01, -3.3303887844e+00,\n",
      "          2.9865410328e+00,  6.5670523643e+00, -1.1757493019e+01,\n",
      "         -3.8704698086e+00],\n",
      "        [-3.7782473564e+00, -5.8852569580e+01, -2.3656117916e+00,\n",
      "          8.6059141159e+00,  1.7976652145e+01, -2.0005445480e+01,\n",
      "          1.2988761902e+01],\n",
      "        [ 3.1120152473e+00, -1.8888221741e+01, -3.1183627248e-01,\n",
      "          2.8845074177e+00,  4.1609873772e+00, -3.0422575474e+00,\n",
      "         -3.8135804236e-02],\n",
      "        [ 6.8917493820e+00, -2.9430427551e+01, -6.7253475189e+00,\n",
      "          1.0866882324e+01,  7.0817999840e+00, -1.7219802856e+01,\n",
      "         -5.4994207621e-01],\n",
      "        [ 2.5228438377e+00,  2.9185183048e+00, -9.2634115219e+00,\n",
      "         -2.3807306290e+00,  8.3264690638e-01,  7.1093401909e+00,\n",
      "         -2.3699913025e+00]], grad_fn=<AddmmBackward0>)\n",
      "\n",
      "y:\n",
      "tensor([1, 4, 4, 5, 5, 4, 4, 4, 3, 5])\n",
      "\n"
     ]
    }
   ],
   "source": [
    "print(f\"\"\"\n",
    "y_out:\n",
    "{y_out}\n",
    "\n",
    "y:\n",
    "{y}\n",
    "\"\"\")"
   ]
  },
  {
   "cell_type": "code",
   "execution_count": 14,
   "id": "bf281ea6-d5fd-4a3a-9ebf-e21d1f7c6213",
   "metadata": {},
   "outputs": [
    {
     "data": {
      "image/png": "[encoded data removed]",
      "text/plain": [
       "<Figure size 1000x400 with 1 Axes>"
      ]
     },
     "metadata": {},
     "output_type": "display_data"
    }
   ],
   "source": [
    "# Visualizing the loss in training set\n",
    "fig = plt.figure(figsize=(10, 4))\n",
    "plt.plot(range(epochs), losses)\n",
    "plt.title(\"Training Loss over Epochs\")\n",
    "plt.xlabel('Epochs')\n",
    "plt.ylabel('Loss')\n",
    "plt.show()"
   ]
  },
  {
   "cell_type": "code",
   "execution_count": 15,
   "id": "938ef8c4-73a1-4fd6-8eae-4862769e7316",
   "metadata": {},
   "outputs": [],
   "source": [
    "# Saving the model\n",
    "torch.save(model, MODEL_CLOUD_CLASSIFIER)"
   ]
  },
  {
   "cell_type": "markdown",
   "id": "78430dc6-e0d8-4a9c-abf2-9bd861377672",
   "metadata": {},
   "source": [
    "## 6. Evaluate model"
   ]
  },
  {
   "cell_type": "code",
   "execution_count": 16,
   "id": "456bbab3-df79-4a78-b85d-6ea2be9d6bb4",
   "metadata": {},
   "outputs": [
    {
     "name": "stdout",
     "output_type": "stream",
     "text": [
      "Precision:\n",
      "{'cirriform clouds': 0.6236559152603149,\n",
      " 'clear sky': 0.96875,\n",
      " 'cumulonimbus clouds': 0.4285714328289032,\n",
      " 'cumulus clouds': 0.8181818127632141,\n",
      " 'high cumuliform clouds': 0.5899280309677124,\n",
      " 'stratiform clouds': 0.804347813129425,\n",
      " 'stratocumulus clouds': 0.523809552192688}\n",
      "Recall: 0.6997752785682678\n"
     ]
    }
   ],
   "source": [
    "# Set the evaluation metrics\n",
    "metric_precision = Precision(task=\"multiclass\", num_classes=7, average=None)\n",
    "metric_recall = Recall(task=\"multiclass\", num_classes=7, average=\"macro\")\n",
    "\n",
    "# Evaluation loop\n",
    "model.eval()\n",
    "with torch.no_grad():\n",
    "    for images, labels in dataloader_test:\n",
    "        outputs = model(images)\n",
    "        _, preds = torch.max(outputs, dim=1)\n",
    "        metric_precision(preds, labels)\n",
    "        metric_recall(preds, labels)\n",
    "precision = metric_precision.compute()\n",
    "recall = metric_recall.compute()\n",
    "\n",
    "# Compute metrics\n",
    "precision_per_class = {k: precision[v].item() for k, v in dataset_test.class_to_idx.items()}\n",
    "print(f\"Precision:\")\n",
    "pprint(precision_per_class)\n",
    "print(f\"Recall: {recall}\")"
   ]
  },
  {
   "cell_type": "code",
   "execution_count": 17,
   "id": "df557c57-9789-41b0-a09d-554b1ce07557",
   "metadata": {},
   "outputs": [
    {
     "data": {
      "image/png": "[encoded data removed]",
      "text/plain": [
       "<Figure size 640x480 with 2 Axes>"
      ]
     },
     "metadata": {},
     "output_type": "display_data"
    }
   ],
   "source": [
    "cm = confusion_matrix(labels.numpy(), preds.numpy())\n",
    "disp = ConfusionMatrixDisplay(confusion_matrix=cm)\n",
    "_ = disp.plot()"
   ]
  },
  {
   "cell_type": "code",
   "execution_count": 18,
   "id": "66ebc2c7-2881-494a-bb6b-24f5914e4532",
   "metadata": {},
   "outputs": [
    {
     "data": {
      "text/html": [
       "<div>\n",
       "<style scoped>\n",
       "    .dataframe tbody tr th:only-of-type {\n",
       "        vertical-align: middle;\n",
       "    }\n",
       "\n",
       "    .dataframe tbody tr th {\n",
       "        vertical-align: top;\n",
       "    }\n",
       "\n",
       "    .dataframe thead th {\n",
       "        text-align: right;\n",
       "    }\n",
       "</style>\n",
       "<table border=\"1\" class=\"dataframe\">\n",
       "  <thead>\n",
       "    <tr style=\"text-align: right;\">\n",
       "      <th></th>\n",
       "      <th>y_true</th>\n",
       "      <th>y_pred</th>\n",
       "      <th>Accerted</th>\n",
       "    </tr>\n",
       "  </thead>\n",
       "  <tbody>\n",
       "    <tr>\n",
       "      <th>0</th>\n",
       "      <td>0</td>\n",
       "      <td>4</td>\n",
       "      <td></td>\n",
       "    </tr>\n",
       "    <tr>\n",
       "      <th>1</th>\n",
       "      <td>1</td>\n",
       "      <td>1</td>\n",
       "      <td>True</td>\n",
       "    </tr>\n",
       "    <tr>\n",
       "      <th>2</th>\n",
       "      <td>1</td>\n",
       "      <td>1</td>\n",
       "      <td>True</td>\n",
       "    </tr>\n",
       "    <tr>\n",
       "      <th>3</th>\n",
       "      <td>0</td>\n",
       "      <td>0</td>\n",
       "      <td>True</td>\n",
       "    </tr>\n",
       "    <tr>\n",
       "      <th>4</th>\n",
       "      <td>3</td>\n",
       "      <td>3</td>\n",
       "      <td>True</td>\n",
       "    </tr>\n",
       "    <tr>\n",
       "      <th>5</th>\n",
       "      <td>6</td>\n",
       "      <td>4</td>\n",
       "      <td></td>\n",
       "    </tr>\n",
       "  </tbody>\n",
       "</table>\n",
       "</div>"
      ],
      "text/plain": [
       "   y_true  y_pred Accerted\n",
       "0       0       4         \n",
       "1       1       1     True\n",
       "2       1       1     True\n",
       "3       0       0     True\n",
       "4       3       3     True\n",
       "5       6       4         "
      ]
     },
     "execution_count": 18,
     "metadata": {},
     "output_type": "execute_result"
    }
   ],
   "source": [
    "pd.DataFrame({\n",
    "    'y_true': labels.numpy(),\n",
    "    'y_pred': preds.numpy(),\n",
    "    'Accerted': ['True' \n",
    "                 if labels.numpy()[i] == preds.numpy()[i]\n",
    "                 else ''\n",
    "                 for i in range(len(labels))] \n",
    "})"
   ]
  },
  {
   "cell_type": "markdown",
   "id": "4039ec72-213b-4cc7-8884-4eb0c39a853a",
   "metadata": {},
   "source": [
    "## 7. Close environment"
   ]
  },
  {
   "cell_type": "code",
   "execution_count": 19,
   "id": "80ccb567-5f6b-4ea6-9f6a-475a05733d7b",
   "metadata": {},
   "outputs": [
    {
     "name": "stdout",
     "output_type": "stream",
     "text": [
      "\n",
      "CUDA memory device: 0\n",
      "CUDA cache  device: 0\n",
      "\n"
     ]
    }
   ],
   "source": [
    "# Reviewing allocated memmory, it is 0 if there is nothing allocated\n",
    "cuda_memory = torch.cuda.memory_allocated(device)\n",
    "cuda_cache = torch.cuda.memory_reserved(device)\n",
    "print(f\"\"\"\n",
    "CUDA memory device: {cuda_memory}\n",
    "CUDA cache  device: {cuda_cache}\n",
    "\"\"\")\n",
    "\n",
    "# Free allocated memory\n",
    "torch.cuda.empty_cache() "
   ]
  },
  {
   "cell_type": "markdown",
   "id": "7c6dfe79-b01c-4f68-8e5c-743d36fb7197",
   "metadata": {},
   "source": [
    "----------------------------------"
   ]
  }
 ],
 "metadata": {
  "kernelspec": {
   "display_name": "Python 3 (ipykernel)",
   "language": "python",
   "name": "python3"
  },
  "language_info": {
   "codemirror_mode": {
    "name": "ipython",
    "version": 3
   },
   "file_extension": ".py",
   "mimetype": "text/x-python",
   "name": "python",
   "nbconvert_exporter": "python",
   "pygments_lexer": "ipython3",
   "version": "3.8.19"
  }
 },
 "nbformat": 4,
 "nbformat_minor": 5
}
