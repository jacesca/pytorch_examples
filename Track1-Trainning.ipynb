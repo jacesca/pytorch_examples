{
 "cells": [
  {
   "cell_type": "markdown",
   "id": "30527d55-0143-459f-85f5-8eb661d49fd5",
   "metadata": {},
   "source": [
    "# 1 - Training Robust Neural Networks\n",
    "\n",
    "Learn how to train neural networks in a robust way. In this chapter, you will use object-oriented programming to define PyTorch datasets and models and refresh your knowledge of training and evaluating neural networks. You will also get familiar with different optimizers and, finally, get to grips with various techniques that help mitigate the problems of unstable gradients so ubiquitous in neural nets training.\n",
    "\n",
    "## Prepare environment\n",
    "\n",
    "### Import libraries"
   ]
  },
  {
   "cell_type": "code",
   "execution_count": 1,
   "id": "2d394944-c408-440b-98cb-e8d8e7d532fb",
   "metadata": {},
   "outputs": [],
   "source": [
    "import expectexception\n",
    "import numpy as np\n",
    "import pandas as pd\n",
    "import matplotlib.pyplot as plt\n",
    "\n",
    "import torch\n",
    "import torch.nn as nn\n",
    "import torch.optim as optim\n",
    "\n",
    "from environment import prepare_environment\n",
    "\n",
    "from typing import List, Tuple\n",
    "from sklearn.metrics import confusion_matrix, ConfusionMatrixDisplay\n",
    "\n",
    "from torch.utils.data import Dataset, DataLoader\n",
    "from torchmetrics import Accuracy"
   ]
  },
  {
   "cell_type": "markdown",
   "id": "6efa4ffd-651e-449c-959c-fbf15a707ddc",
   "metadata": {},
   "source": [
    "### Global variables"
   ]
  },
  {
   "cell_type": "code",
   "execution_count": 2,
   "id": "169732d8-322b-435c-baf3-da8c1bd2901c",
   "metadata": {},
   "outputs": [],
   "source": [
    "# global variables\n",
    "SEED = 42\n",
    "\n",
    "DATASET_FILE_WATER_POTABILITY_TRAIN = 'data-sources/water_train.csv'\n",
    "DATASET_FILE_WATER_POTABILITY_TEST = 'data-sources/water_test.csv'"
   ]
  },
  {
   "cell_type": "markdown",
   "id": "6dc9c799-947b-4e02-9680-81497b220174",
   "metadata": {},
   "source": [
    "### GPU Validation"
   ]
  },
  {
   "cell_type": "code",
   "execution_count": 3,
   "id": "c415ee38-7745-46d1-9247-fcfd088db056",
   "metadata": {},
   "outputs": [
    {
     "data": {
      "text/plain": [
       "True"
      ]
     },
     "execution_count": 3,
     "metadata": {},
     "output_type": "execute_result"
    }
   ],
   "source": [
    "# Check if your GPU driver and CUDA is enabled and accessible by PyTorch\n",
    "torch.cuda.is_available()"
   ]
  },
  {
   "cell_type": "markdown",
   "id": "f8deb396-481e-4e34-8705-0313066c0bc9",
   "metadata": {},
   "source": [
    "### Global Configuration"
   ]
  },
  {
   "cell_type": "code",
   "execution_count": 4,
   "id": "f4189cb4-64f7-412d-a94b-e007090ba1f4",
   "metadata": {},
   "outputs": [
    {
     "data": {
      "text/plain": [
       "<torch._C.Generator at 0x2310931a7b0>"
      ]
     },
     "execution_count": 4,
     "metadata": {},
     "output_type": "execute_result"
    }
   ],
   "source": [
    "# Global configuration\n",
    "prepare_environment()\n",
    "\n",
    "torch.set_printoptions(precision=10)\n",
    "\n",
    "# Reproducibility\n",
    "np.random.seed(SEED)\n",
    "torch.manual_seed(SEED)"
   ]
  },
  {
   "cell_type": "markdown",
   "id": "9384b070-6c23-462f-9f1b-0367e14f30ac",
   "metadata": {},
   "source": [
    "## 1.1 PyTorch and object-oriented programming\n",
    "\n",
    "Types:\n",
    "- Convolutional Neural Networks (CNNs) >> **for image data**\n",
    "- Recurrent Neural Networks (RNNs) >> **for sequence data**\n",
    "\n",
    "> Sequence data refers to a type of data where the order of elements is significant, and the \n",
    "> elements are typically arranged in a specific sequence or chronological order. In sequence\n",
    "> data, each element in the sequence is related to the ones that come before and after it, and\n",
    "> the way these elements are ordered provides context, meaning, and structure to the data.\n",
    "\n",
    "### Water potability dataset"
   ]
  },
  {
   "cell_type": "code",
   "execution_count": 5,
   "id": "c9ffccb0-3dd8-4be5-89c4-b4a780544287",
   "metadata": {},
   "outputs": [
    {
     "data": {
      "text/html": [
       "<div>\n",
       "<style scoped>\n",
       "    .dataframe tbody tr th:only-of-type {\n",
       "        vertical-align: middle;\n",
       "    }\n",
       "\n",
       "    .dataframe tbody tr th {\n",
       "        vertical-align: top;\n",
       "    }\n",
       "\n",
       "    .dataframe thead th {\n",
       "        text-align: right;\n",
       "    }\n",
       "</style>\n",
       "<table border=\"1\" class=\"dataframe\">\n",
       "  <thead>\n",
       "    <tr style=\"text-align: right;\">\n",
       "      <th></th>\n",
       "      <th>ph</th>\n",
       "      <th>Hardness</th>\n",
       "      <th>Solids</th>\n",
       "      <th>Chloramines</th>\n",
       "      <th>Sulfate</th>\n",
       "      <th>Conductivity</th>\n",
       "      <th>Organic_carbon</th>\n",
       "      <th>Trihalomethanes</th>\n",
       "      <th>Turbidity</th>\n",
       "      <th>Potability</th>\n",
       "    </tr>\n",
       "  </thead>\n",
       "  <tbody>\n",
       "    <tr>\n",
       "      <th>0</th>\n",
       "      <td>0.483566</td>\n",
       "      <td>0.615597</td>\n",
       "      <td>0.513964</td>\n",
       "      <td>0.777394</td>\n",
       "      <td>0.354601</td>\n",
       "      <td>0.335319</td>\n",
       "      <td>0.367332</td>\n",
       "      <td>0.514102</td>\n",
       "      <td>0.617313</td>\n",
       "      <td>1</td>\n",
       "    </tr>\n",
       "    <tr>\n",
       "      <th>1</th>\n",
       "      <td>0.639608</td>\n",
       "      <td>0.516021</td>\n",
       "      <td>0.380558</td>\n",
       "      <td>0.390190</td>\n",
       "      <td>0.628308</td>\n",
       "      <td>0.157487</td>\n",
       "      <td>0.451506</td>\n",
       "      <td>0.558650</td>\n",
       "      <td>0.834925</td>\n",
       "      <td>0</td>\n",
       "    </tr>\n",
       "    <tr>\n",
       "      <th>2</th>\n",
       "      <td>0.370117</td>\n",
       "      <td>0.847246</td>\n",
       "      <td>0.623556</td>\n",
       "      <td>0.992911</td>\n",
       "      <td>0.145461</td>\n",
       "      <td>0.345829</td>\n",
       "      <td>0.334781</td>\n",
       "      <td>0.402932</td>\n",
       "      <td>0.590146</td>\n",
       "      <td>1</td>\n",
       "    </tr>\n",
       "    <tr>\n",
       "      <th>3</th>\n",
       "      <td>0.545159</td>\n",
       "      <td>0.261747</td>\n",
       "      <td>0.292037</td>\n",
       "      <td>0.535522</td>\n",
       "      <td>0.436155</td>\n",
       "      <td>0.713600</td>\n",
       "      <td>0.667406</td>\n",
       "      <td>0.471880</td>\n",
       "      <td>0.138483</td>\n",
       "      <td>0</td>\n",
       "    </tr>\n",
       "    <tr>\n",
       "      <th>4</th>\n",
       "      <td>0.610883</td>\n",
       "      <td>0.525235</td>\n",
       "      <td>0.465619</td>\n",
       "      <td>0.475133</td>\n",
       "      <td>0.634338</td>\n",
       "      <td>0.196409</td>\n",
       "      <td>0.623423</td>\n",
       "      <td>0.520589</td>\n",
       "      <td>0.755856</td>\n",
       "      <td>0</td>\n",
       "    </tr>\n",
       "  </tbody>\n",
       "</table>\n",
       "</div>"
      ],
      "text/plain": [
       "         ph  Hardness    Solids  Chloramines   Sulfate  Conductivity  \\\n",
       "0  0.483566  0.615597  0.513964     0.777394  0.354601      0.335319   \n",
       "1  0.639608  0.516021  0.380558     0.390190  0.628308      0.157487   \n",
       "2  0.370117  0.847246  0.623556     0.992911  0.145461      0.345829   \n",
       "3  0.545159  0.261747  0.292037     0.535522  0.436155      0.713600   \n",
       "4  0.610883  0.525235  0.465619     0.475133  0.634338      0.196409   \n",
       "\n",
       "   Organic_carbon  Trihalomethanes  Turbidity  Potability  \n",
       "0        0.367332         0.514102   0.617313           1  \n",
       "1        0.451506         0.558650   0.834925           0  \n",
       "2        0.334781         0.402932   0.590146           1  \n",
       "3        0.667406         0.471880   0.138483           0  \n",
       "4        0.623423         0.520589   0.755856           0  "
      ]
     },
     "execution_count": 5,
     "metadata": {},
     "output_type": "execute_result"
    }
   ],
   "source": [
    "# Exploring the dataset\n",
    "df = pd.read_csv(DATASET_FILE_WATER_POTABILITY_TRAIN)\n",
    "df.head()"
   ]
  },
  {
   "cell_type": "markdown",
   "id": "64b3d84f-204e-41e8-81dc-f522c7d1d2d8",
   "metadata": {},
   "source": [
    "### PyTorch Dataset"
   ]
  },
  {
   "cell_type": "code",
   "execution_count": 6,
   "id": "62931cca-45eb-4ec3-8165-b0baef9d785b",
   "metadata": {},
   "outputs": [],
   "source": [
    "class CSVDataSet(Dataset):\n",
    "    \"\"\"\n",
    "    PyTorch Dataset extended to load the data based on a given CSV file\n",
    "    Assumptions:\n",
    "    - Only CSV files can be imported.\n",
    "    - All columns in the CSV file are included unless the `cols_to_include` list is defined. \n",
    "      In that case only the columns' name included in the list are considered.\n",
    "    - The last column of the loaded dataset is the target/label column.\n",
    "    \"\"\"\n",
    "    \n",
    "    def __init__(self, csv_path:str, cols_to_include:List['str'] = None) -> None:\n",
    "        super().__init__\n",
    "        data = pd.read_csv(csv_path)\n",
    "        if cols_to_include:\n",
    "            data = data[cols_to_include]\n",
    "        self.data = data.to_numpy()\n",
    "\n",
    "    def __len__(self) -> int:\n",
    "        return self.data.shape[0]\n",
    "\n",
    "    def __getitem__(self, idx:int) -> Tuple[np.ndarray, np.ndarray]:\n",
    "        features = self.data[idx, :-1]\n",
    "        label = self.data[idx, -1]\n",
    "        return features, label"
   ]
  },
  {
   "cell_type": "code",
   "execution_count": 7,
   "id": "c2d78b71-c365-464d-b074-d82a863fd5db",
   "metadata": {},
   "outputs": [
    {
     "name": "stdout",
     "output_type": "stream",
     "text": [
      "\n",
      "Len: 1508\n",
      "First row:\n",
      "- features >> [0.48356615 0.61559711 0.51396405 0.7773939  0.35460138 0.33531893\n",
      " 0.36733186 0.51410184 0.6173129 ]\n",
      "- label >> 1.0\n",
      "\n"
     ]
    }
   ],
   "source": [
    "dataset_train = CSVDataSet(DATASET_FILE_WATER_POTABILITY_TRAIN)\n",
    "f, l = dataset_train[0]\n",
    "print(f\"\"\"\n",
    "Len: {len(dataset_train)}\n",
    "First row:\n",
    "- features >> {f}\n",
    "- label >> {l}\n",
    "\"\"\")"
   ]
  },
  {
   "cell_type": "markdown",
   "id": "278bb429-769a-4c6f-a5eb-b5b0fc418325",
   "metadata": {},
   "source": [
    "### PyTorch DataLoader"
   ]
  },
  {
   "cell_type": "code",
   "execution_count": 8,
   "id": "588f299b-eac1-4b0f-bf0a-e96fbb1453c8",
   "metadata": {},
   "outputs": [
    {
     "name": "stdout",
     "output_type": "stream",
     "text": [
      "Features: tensor([[0.3591829085, 0.6595818988, 0.2034204507, 0.4746364356, 0.5283256004,\n",
      "         0.3724379962, 0.4664738513, 0.2391769927, 0.4438566100],\n",
      "        [0.7397018886, 0.3852037335, 0.6091506878, 0.4229626350, 0.6116208737,\n",
      "         0.5254394621, 0.6915807637, 0.3164621322, 0.5469324139]],\n",
      "       dtype=torch.float64),\n",
      "Labels: tensor([0., 1.], dtype=torch.float64)\n"
     ]
    }
   ],
   "source": [
    "# Reproducibility\n",
    "torch.manual_seed(SEED)\n",
    "\n",
    "# Dataloader creation\n",
    "dataloader_train = DataLoader(\n",
    "    dataset_train,\n",
    "    batch_size=2,\n",
    "    shuffle=True,\n",
    ")\n",
    "\n",
    "# Getting the first element\n",
    "features, labels = next(iter(dataloader_train))\n",
    "print(f\"Features: {features},\\nLabels: {labels}\")"
   ]
  },
  {
   "cell_type": "markdown",
   "id": "a45780da-8b28-4fab-91f9-123010ae8a93",
   "metadata": {},
   "source": [
    "### PyTorch Model - WaterModel"
   ]
  },
  {
   "cell_type": "code",
   "execution_count": 9,
   "id": "f4617735-ddd9-447f-ac17-a4e77bdfe42d",
   "metadata": {},
   "outputs": [
    {
     "data": {
      "text/plain": [
       "Sequential(\n",
       "  (0): Linear(in_features=9, out_features=16, bias=True)\n",
       "  (1): ReLU()\n",
       "  (2): Linear(in_features=16, out_features=8, bias=True)\n",
       "  (3): ReLU()\n",
       "  (4): Linear(in_features=8, out_features=1, bias=True)\n",
       "  (5): Sigmoid()\n",
       ")"
      ]
     },
     "execution_count": 9,
     "metadata": {},
     "output_type": "execute_result"
    }
   ],
   "source": [
    "# Sequential model definition\n",
    "model = nn.Sequential(\n",
    "    nn.Linear(9, 16),\n",
    "    nn.ReLU(),\n",
    "    nn.Linear(16, 8),\n",
    "    nn.ReLU(),\n",
    "    nn.Linear(8, 1),\n",
    "    nn.Sigmoid(),\n",
    ")\n",
    "model"
   ]
  },
  {
   "cell_type": "markdown",
   "id": "3470b2a2-0115-4581-8f6d-c7793bc51284",
   "metadata": {},
   "source": [
    "**We have to apply the `nn.functional.relu` function directly on the input data without any learnable parameters. \n",
    "On the other hand, the `nn.ReLU` function includes the learnable parameters like weights and biases.**"
   ]
  },
  {
   "cell_type": "code",
   "execution_count": 10,
   "id": "a02e91b0-f265-4a35-91bd-a40ae24eba84",
   "metadata": {},
   "outputs": [
    {
     "data": {
      "text/plain": [
       "WaterModel(\n",
       "  (fc1): Linear(in_features=9, out_features=16, bias=True)\n",
       "  (fc2): Linear(in_features=16, out_features=8, bias=True)\n",
       "  (fc3): Linear(in_features=8, out_features=1, bias=True)\n",
       ")"
      ]
     },
     "execution_count": 10,
     "metadata": {},
     "output_type": "execute_result"
    }
   ],
   "source": [
    "# Class-based model definition\n",
    "class WaterModel(nn.Module):\n",
    "    \"\"\"Basic model for binary classifier problems.\"\"\"\n",
    "    def __init__(self, seed=SEED):\n",
    "        # super(NnModel, self).__init__()   # in old python version\n",
    "        super().__init__()\n",
    "        \n",
    "        torch.manual_seed(seed)\n",
    "        self.fc1 = nn.Linear(9, 16)\n",
    "        self.fc2 = nn.Linear(16, 8)\n",
    "        self.fc3 = nn.Linear(8, 1)\n",
    "        \n",
    "    def forward(self, x):\n",
    "        x = x.float()\n",
    "        x = nn.functional.relu(self.fc1(x))\n",
    "        x = nn.functional.relu(self.fc2(x))\n",
    "        x = nn.functional.sigmoid(self.fc3(x))\n",
    "        return x.double()\n",
    "\n",
    "watermodel = WaterModel()\n",
    "watermodel"
   ]
  },
  {
   "cell_type": "markdown",
   "id": "cfc92576-1e74-44f2-acaa-9da1f5a91cd2",
   "metadata": {},
   "source": [
    "### Ex.1 - PyTorch Dataset\n",
    "\n",
    "Time to refresh your PyTorch Datasets knowledge!\n",
    "\n",
    "Before model training can commence, you need to load the data and pass it to the model in the right format. In PyTorch, this is handled by Datasets and DataLoaders. Let's start with building a PyTorch Dataset for our water potability data.\n",
    "\n",
    "In this exercise, you will define a class called `CSVDataSet` to load the data from a CSV file. To do this, you will need to implement the three methods which PyTorch expects a Dataset to have:\n",
    "\n",
    "- .__init__() to load the data,\n",
    "- .__len__() to return data size,\n",
    "- .__getitem()__ to extract features and label for a single sample.\n",
    "\n",
    "**Instructions**\n",
    "\n",
    "1. In the `.__init__()` method, load the data from `csv_path` to a pandas DataFrame.\n",
    "2. Convert the extracted data to a `NumPy` array and assign the result to `self.data`.\n",
    "3. Implement the .__len__() method to return the number of data samples.\n",
    "\n",
    "-------------------------------\n",
    "```\n",
    "class WaterDataset(Dataset):\n",
    "    def __init__(self, csv_path):\n",
    "        super().__init__()\n",
    "        # Load data to pandas DataFrame\n",
    "        df = pd.read_csv(csv_path)\n",
    "        # Convert data to a NumPy array and assign to self.data\n",
    "        self.data = df.to_numpy()\n",
    "\n",
    "    # Implement __len__ to return the number of data samples\n",
    "    def __len__(self):\n",
    "        return self.data.shape[0]\n",
    "    \n",
    "    def __getitem__(self, idx):\n",
    "        features = self.data[idx, :-1]\n",
    "        # Assign last data column to label\n",
    "        label = self.data[idx, -1]\n",
    "        return features, label\n",
    "```"
   ]
  },
  {
   "cell_type": "markdown",
   "id": "ace3f48d-3cbc-498f-bbeb-c0b6b44a3541",
   "metadata": {},
   "source": [
    "### Ex.2 - PyTorch DataLoader\n",
    "Good job defining the Dataset class! The `CSVDataSet` you just created is now available for you to use.\n",
    "\n",
    "The next step in preparing the training data is to set up a `DataLoader`. A PyTorch `DataLoader` can be created from a Dataset to load data, split it into batches, and perform transformations on the data if desired. Then, it yields a data sample ready for training.\n",
    "\n",
    "In this exercise, you will build a `DataLoader` based on the `CSVDataSet`. The `DataLoader` class you will need has already been imported for you from `torch.utils.data`. Let's get to it!\n",
    "\n",
    "**Instructions**\n",
    "\n",
    "1. Create an instance of `CSVDataSet` from `water_train.csv`, assigning it to `dataset_train`.\n",
    "2. Create `dataloader_train` based on `dataset_train`, using a batch size of two and shuffling the samples.\n",
    "3. Get a batch of features and labels from the `DataLoader` and print them."
   ]
  },
  {
   "cell_type": "code",
   "execution_count": 11,
   "id": "e0a088cb-acd6-426d-bc4f-64aeca969367",
   "metadata": {},
   "outputs": [
    {
     "name": "stdout",
     "output_type": "stream",
     "text": [
      "\n",
      "Features: \n",
      "tensor([[0.5657166106, 0.5097209306, 0.4056346563, 0.7058536487, 0.5509024638,\n",
      "         0.3518412955, 0.4489813240, 0.5221939984, 0.3446112952],\n",
      "        [0.5941521894, 0.6618290366, 0.4848585255, 0.3656099262, 0.6632648759,\n",
      "         0.5753103565, 0.4951166302, 0.4076439824, 0.3027623536]],\n",
      "       dtype=torch.float64)\n",
      "\n",
      "Labels: tensor([1., 0.], dtype=torch.float64)\n",
      "\n"
     ]
    }
   ],
   "source": [
    "# Create an instance of the WaterDataset\n",
    "dataset_train = CSVDataSet(DATASET_FILE_WATER_POTABILITY_TRAIN)\n",
    "\n",
    "# Create a DataLoader based on dataset_train\n",
    "dataloader_train = DataLoader(dataset_train, batch_size=2, shuffle=True)\n",
    "\n",
    "# Get a batch of features and labels\n",
    "features, labels = next(iter(dataloader_train))\n",
    "print(f\"\"\"\n",
    "Features: \n",
    "{features}\n",
    "\n",
    "Labels: {labels}\n",
    "\"\"\")"
   ]
  },
  {
   "cell_type": "markdown",
   "id": "001d0d9e-8715-4374-ba01-fa907aee9f81",
   "metadata": {},
   "source": [
    "### Ex.3 - PyTorch Model\n",
    "\n",
    "You will use the OOP approach to define the model architecture. Recall that this requires setting up a model class and defining two methods inside it:\n",
    "\n",
    "- `.__init__()`, in which you define the layers you want to use;\n",
    "- `forward()`, in which you define what happens to the model inputs once it receives them; this is where you pass inputs through pre-defined layers.\n",
    "\n",
    "Let's build a model with three linear layers and ReLU activations. After the last linear layer, you need a sigmoid activation instead, which is well-suited for binary classification tasks like our water potability prediction problem. Here's the model defined using `nn.Sequential()`, which you may be more familiar with:\n",
    "\n",
    "```\n",
    "net = nn.Sequential(\n",
    "    nn.Linear(9, 16),\n",
    "    nn.ReLU(),\n",
    "    nn.Linear(16, 8),\n",
    "    nn.ReLU(),\n",
    "    nn.Linear(8, 1),\n",
    "    nn.Sigmoid(),\n",
    ")\n",
    "```\n",
    "\n",
    "Let's rewrite this model as a class!\n",
    "\n",
    "**Instructions**\n",
    "\n",
    "1. In the `.__init__()` method, define the three linear layers with dimensions corresponding to the model definition provided and assign them to `self.fc1`, `self.fc2`, and `self.fc3`, respectively.\n",
    "2. In the `forward()` method, pass the model input `x` through all the layers, remembering to add activations on top of them, similarly how it's already done for the first layer.\n",
    "\n",
    "-----------------------------\n",
    "```\n",
    "import torch.nn as nn\n",
    "import torch.nn.functional as F\n",
    "\n",
    "class Net(nn.Module):\n",
    "    def __init__(self):\n",
    "        super(Net, self).__init__()\n",
    "        # Define the three linear layers\n",
    "        self.fc1 = nn.Linear(9, 16)\n",
    "        self.fc2 = nn.Linear(16, 8)\n",
    "        self.fc3 = nn.Linear(8, 1)\n",
    "        \n",
    "    def forward(self, x):\n",
    "        # Pass x through linear layers adding activations\n",
    "        x = nn.functional.relu(self.fc1(x))\n",
    "        x = nn.functional.relu(self.fc2(x))\n",
    "        x = nn.functional.sigmoid(self.fc3(x))\n",
    "        return x\n",
    "```"
   ]
  },
  {
   "cell_type": "markdown",
   "id": "6afca63f-76d9-4e2e-b810-88e833ff175b",
   "metadata": {},
   "source": [
    "## 1.2 Training loop\n",
    "\n",
    "### Build the model"
   ]
  },
  {
   "cell_type": "code",
   "execution_count": 12,
   "id": "dd06f293-e56c-463a-a352-94f1e39d27c0",
   "metadata": {},
   "outputs": [
    {
     "data": {
      "text/plain": [
       "WaterModel(\n",
       "  (fc1): Linear(in_features=9, out_features=16, bias=True)\n",
       "  (fc2): Linear(in_features=16, out_features=8, bias=True)\n",
       "  (fc3): Linear(in_features=8, out_features=1, bias=True)\n",
       ")"
      ]
     },
     "execution_count": 12,
     "metadata": {},
     "output_type": "execute_result"
    }
   ],
   "source": [
    "# Getting the dataset\n",
    "dataset_train = CSVDataSet(DATASET_FILE_WATER_POTABILITY_TRAIN)\n",
    "\n",
    "# Create a DataLoader based on dataset_train\n",
    "dataloader_train = DataLoader(dataset_train, batch_size=200, shuffle=True)\n",
    "\n",
    "# Building the model\n",
    "watermodel = WaterModel()\n",
    "criterion = nn.BCELoss()\n",
    "optimizer = optim.SGD(watermodel.parameters(), lr=0.01, momentum=0.95)\n",
    "watermodel"
   ]
  },
  {
   "cell_type": "markdown",
   "id": "3731f509-6da2-4ce5-aeac-444b3dd1b4e8",
   "metadata": {},
   "source": [
    "### Train the model with `optim.SGD`"
   ]
  },
  {
   "cell_type": "code",
   "execution_count": 13,
   "id": "142376ab-6320-438e-8e98-954a69e593a1",
   "metadata": {},
   "outputs": [
    {
     "name": "stdout",
     "output_type": "stream",
     "text": [
      "Epoch [100], Loss: 0.6354\n",
      "Epoch [200], Loss: 0.6573\n",
      "Epoch [300], Loss: 0.6985\n",
      "Epoch [400], Loss: 0.6715\n",
      "Epoch [500], Loss: 0.6928\n",
      "Epoch [600], Loss: 0.6218\n",
      "Epoch [700], Loss: 0.6625\n",
      "Epoch [800], Loss: 0.6383\n",
      "Epoch [900], Loss: 0.5942\n",
      "Epoch [1000], Loss: 0.6460\n"
     ]
    }
   ],
   "source": [
    "# Loop through the dataset multiple times\n",
    "losses = []\n",
    "epochs = int(1e3)\n",
    "watermodel.train()\n",
    "for epoch in range(epochs):\n",
    "    for X, y in dataloader_train:\n",
    "        optimizer.zero_grad()\n",
    "        y_pred = watermodel(X)\n",
    "        loss = criterion(y_pred, y.view(-1, 1))\n",
    "        loss.backward()\n",
    "        optimizer.step()\n",
    "    \n",
    "    losses.append(loss.item())         # Record the loss per epoch\n",
    "    if (epoch + 1) % 100 == 0:         # Print the loss every 100 epochs\n",
    "        print(f'Epoch [{epoch+1}], Loss: {loss.item():.4f}')"
   ]
  },
  {
   "cell_type": "code",
   "execution_count": 14,
   "id": "92968c72-c1ce-4f83-9950-e4c459f80686",
   "metadata": {},
   "outputs": [
    {
     "data": {
      "image/png": "[encoded data removed]",
      "text/plain": [
       "<Figure size 600x400 with 1 Axes>"
      ]
     },
     "metadata": {},
     "output_type": "display_data"
    }
   ],
   "source": [
    "# Visualizing the loss data in training set\n",
    "fig = plt.figure(figsize=(6,4))\n",
    "plt.plot(range(epochs), losses)\n",
    "plt.title(\"Training Loss over Epochs\")\n",
    "plt.xlabel('Epochs')\n",
    "plt.ylabel('Loss')\n",
    "plt.show()"
   ]
  },
  {
   "cell_type": "markdown",
   "id": "da768065-3ded-4272-9ff2-85b48e335c53",
   "metadata": {},
   "source": [
    "### Other optimizers\n",
    "\n",
    "#### Stochastic Gradient Descent (SGD)\n",
    "\n",
    "- Update depends on learning rate\n",
    "- Simple and efficient, for basic models\n",
    "- Rarely used in practice"
   ]
  },
  {
   "cell_type": "code",
   "execution_count": 15,
   "id": "b2b28d0e-abc2-47bc-ad7e-5d900aec0662",
   "metadata": {},
   "outputs": [
    {
     "data": {
      "text/plain": [
       "SGD (\n",
       "Parameter Group 0\n",
       "    dampening: 0\n",
       "    differentiable: False\n",
       "    foreach: None\n",
       "    fused: None\n",
       "    lr: 0.01\n",
       "    maximize: False\n",
       "    momentum: 0\n",
       "    nesterov: False\n",
       "    weight_decay: 0\n",
       ")"
      ]
     },
     "execution_count": 15,
     "metadata": {},
     "output_type": "execute_result"
    }
   ],
   "source": [
    "optim.SGD(watermodel.parameters(), lr=0.01)"
   ]
  },
  {
   "cell_type": "markdown",
   "id": "78f29dc3-b6c3-4595-a482-f3d86fe25560",
   "metadata": {},
   "source": [
    "#### Adaptive Gradient (Adagrad)\n",
    "\n",
    "- Adapts learning rate for each parameter\n",
    "- Good for sparse data\n",
    "- May decrease the learning rate too fast"
   ]
  },
  {
   "cell_type": "code",
   "execution_count": 16,
   "id": "8e4324ac-4e1c-47c5-bd07-d8f0c7d4b9d2",
   "metadata": {},
   "outputs": [
    {
     "data": {
      "text/plain": [
       "Adagrad (\n",
       "Parameter Group 0\n",
       "    differentiable: False\n",
       "    eps: 1e-10\n",
       "    foreach: None\n",
       "    fused: None\n",
       "    initial_accumulator_value: 0\n",
       "    lr: 0.01\n",
       "    lr_decay: 0\n",
       "    maximize: False\n",
       "    weight_decay: 0\n",
       ")"
      ]
     },
     "execution_count": 16,
     "metadata": {},
     "output_type": "execute_result"
    }
   ],
   "source": [
    "optim.Adagrad(watermodel.parameters(), lr=0.01)"
   ]
  },
  {
   "cell_type": "markdown",
   "id": "51bfbfc2-8a07-4d49-aec4-ecc86037c5f4",
   "metadata": {},
   "source": [
    "#### Root Mean Square Propagation (RMSprop)\n",
    "\n",
    "- Update for each parameter based on the size of its previous gradients"
   ]
  },
  {
   "cell_type": "code",
   "execution_count": 17,
   "id": "829497dc-aa09-43e1-b2a7-0a7ae5d186f1",
   "metadata": {},
   "outputs": [
    {
     "data": {
      "text/plain": [
       "RMSprop (\n",
       "Parameter Group 0\n",
       "    alpha: 0.99\n",
       "    capturable: False\n",
       "    centered: False\n",
       "    differentiable: False\n",
       "    eps: 1e-08\n",
       "    foreach: None\n",
       "    lr: 0.01\n",
       "    maximize: False\n",
       "    momentum: 0\n",
       "    weight_decay: 0\n",
       ")"
      ]
     },
     "execution_count": 17,
     "metadata": {},
     "output_type": "execute_result"
    }
   ],
   "source": [
    "optim.RMSprop(watermodel.parameters(), lr=0.01)"
   ]
  },
  {
   "cell_type": "markdown",
   "id": "11425e63-093e-47d1-aedd-3cee2993b3bd",
   "metadata": {},
   "source": [
    "#### Adaptive Moment Estimation (Adam)\n",
    "\n",
    "- Arguably the most versatile and widely used\n",
    "- RMSprop + gradient momentum\n",
    "- Often used as the go-to optimizer"
   ]
  },
  {
   "cell_type": "code",
   "execution_count": 18,
   "id": "17aaef3c-f63a-4773-b596-12348832ffb5",
   "metadata": {},
   "outputs": [
    {
     "data": {
      "text/plain": [
       "Adam (\n",
       "Parameter Group 0\n",
       "    amsgrad: False\n",
       "    betas: (0.9, 0.999)\n",
       "    capturable: False\n",
       "    differentiable: False\n",
       "    eps: 1e-08\n",
       "    foreach: None\n",
       "    fused: None\n",
       "    lr: 0.01\n",
       "    maximize: False\n",
       "    weight_decay: 0\n",
       ")"
      ]
     },
     "execution_count": 18,
     "metadata": {},
     "output_type": "execute_result"
    }
   ],
   "source": [
    "optim.Adam(watermodel.parameters(), lr=0.01)"
   ]
  },
  {
   "cell_type": "markdown",
   "id": "4a0692e7-6498-4902-a590-fd6ffa4fc20f",
   "metadata": {},
   "source": [
    "### Model evaluation"
   ]
  },
  {
   "cell_type": "code",
   "execution_count": 19,
   "id": "5d536f82-7e4d-4e3b-96ac-9b16164890f3",
   "metadata": {},
   "outputs": [
    {
     "name": "stdout",
     "output_type": "stream",
     "text": [
      "Accuracy: 0.6381709575653076\n"
     ]
    }
   ],
   "source": [
    "# Getting the dataset\n",
    "dataset_test = CSVDataSet(DATASET_FILE_WATER_POTABILITY_TEST)\n",
    "\n",
    "# Create a DataLoader based on dataset_train\n",
    "dataloader_test = DataLoader(dataset_test, batch_size=200, shuffle=True)\n",
    "\n",
    "# Setting the accuracy metrics\n",
    "acc = Accuracy(task=\"binary\")\n",
    "\n",
    "# Evaluating the model\n",
    "watermodel.eval()\n",
    "with torch.no_grad():\n",
    "    for features, labels in dataloader_test:\n",
    "        outputs = watermodel(features)\n",
    "        preds = (outputs >= 0.5).float()\n",
    "        acc(preds, labels.view(-1, 1))\n",
    "\n",
    "accuracy = acc.compute()\n",
    "print(f\"Accuracy: {accuracy}\")"
   ]
  },
  {
   "cell_type": "code",
   "execution_count": 20,
   "id": "480f5c4f-fcb2-43ef-8724-dc818f455e73",
   "metadata": {},
   "outputs": [
    {
     "data": {
      "image/png": "[encoded data removed]",
      "text/plain": [
       "<Figure size 640x480 with 2 Axes>"
      ]
     },
     "metadata": {},
     "output_type": "display_data"
    }
   ],
   "source": [
    "cm = confusion_matrix(labels.numpy(), \n",
    "                      preds.numpy().flatten())\n",
    "disp = ConfusionMatrixDisplay(confusion_matrix=cm)\n",
    "_ = disp.plot()"
   ]
  },
  {
   "cell_type": "markdown",
   "id": "fbac4a0b-7254-4dfd-8d98-0a6138654341",
   "metadata": {},
   "source": [
    "### Ex.4 - Optimizers\n",
    "It's time to explore the different optimizers that you can use for training your model.\n",
    "\n",
    "A custom function called `train_binary_classifier_model(optimizer, model, epochs, dataloader)` has been defined for you. It takes the optimizer, the model, and the number of epochs as inputs, runs the training loops, and prints the training loss at the end.\n",
    "\n",
    "Let's use `train_binary_classifier_model()` to run a few short trainings with different optimizers and compare the results!\n",
    "\n",
    "**Instructions**\n",
    "\n",
    "1. Define the optimizer as Stochastic Gradient Descent.\n",
    "2. Define the optimizer as Root Mean Square Propagation (RMSprop), passing the model's parameters as its first argument.\n",
    "3. Define the optimizer as Adaptive Moments Estimation (Adam), setting the learning rate to 0.001."
   ]
  },
  {
   "cell_type": "code",
   "execution_count": 21,
   "id": "22574344-594c-4a85-9f0c-86871bffe828",
   "metadata": {},
   "outputs": [],
   "source": [
    "# Util functions\n",
    "def train_binary_classifier_model(optimizer, model, epochs, dataloader):\n",
    "    \"\"\"Functions to train a binary classifier model\"\"\"\n",
    "    \n",
    "    criterion = nn.BCELoss()\n",
    "    \n",
    "    for epoch in range(epochs):\n",
    "        running_loss = 0.\n",
    "        for features, labels in dataloader:\n",
    "            optimizer.zero_grad()\n",
    "            outputs = model(features)\n",
    "            loss = criterion(outputs, labels.view(-1, 1))\n",
    "            loss.backward()\n",
    "            optimizer.step()\n",
    "            running_loss += loss.item()\n",
    "    train_loss = running_loss / len(dataloader_train)\n",
    "    print(f\"Training loss after {epochs} epochs: {train_loss}\")"
   ]
  },
  {
   "cell_type": "code",
   "execution_count": 22,
   "id": "bfa65a3c-04c0-4f08-98d2-0d2232d80d2e",
   "metadata": {},
   "outputs": [],
   "source": [
    "# Getting the dataset\n",
    "dataset_train = CSVDataSet(DATASET_FILE_WATER_POTABILITY_TRAIN)\n",
    "\n",
    "# Create a DataLoader based on dataset_train\n",
    "dataloader_train = DataLoader(dataset_train, batch_size=200, shuffle=True)"
   ]
  },
  {
   "cell_type": "markdown",
   "id": "8fd2a4a0-5c00-4214-9605-6edac1f6825a",
   "metadata": {},
   "source": [
    "#### Stochastic Gradient Descent (SGD)"
   ]
  },
  {
   "cell_type": "code",
   "execution_count": 23,
   "id": "581c9914-fedc-410e-a08e-ac95a1b2be1e",
   "metadata": {},
   "outputs": [
    {
     "name": "stdout",
     "output_type": "stream",
     "text": [
      "Training loss after 10 epochs: 0.6733608950131746\n"
     ]
    }
   ],
   "source": [
    "model = WaterModel()\n",
    "\n",
    "# Define the SGD optimizer\n",
    "optimizer = optim.SGD(model.parameters(), lr=0.001)\n",
    "\n",
    "train_binary_classifier_model(optimizer=optimizer, model=model, epochs=10, dataloader=dataloader_train)"
   ]
  },
  {
   "cell_type": "markdown",
   "id": "11984c49-c908-4c70-b20c-d0cc61451c21",
   "metadata": {},
   "source": [
    "#### Root Mean Square Propagation (RMSprop)"
   ]
  },
  {
   "cell_type": "code",
   "execution_count": 24,
   "id": "e2cdf06f-73d0-4584-b098-2c8064199cff",
   "metadata": {},
   "outputs": [
    {
     "name": "stdout",
     "output_type": "stream",
     "text": [
      "Training loss after 10 epochs: 0.6729148143615372\n"
     ]
    }
   ],
   "source": [
    "model = WaterModel()\n",
    "\n",
    "# Define the RMSprop optimizer\n",
    "optimizer = optim.RMSprop(model.parameters(), lr=0.001)\n",
    "\n",
    "train_binary_classifier_model(optimizer=optimizer, model=model, epochs=10, dataloader=dataloader_train)"
   ]
  },
  {
   "cell_type": "markdown",
   "id": "08434e4c-78f4-44e3-8655-a734b8263948",
   "metadata": {},
   "source": [
    "#### Adaptive Moments Estimation (Adam)"
   ]
  },
  {
   "cell_type": "code",
   "execution_count": 25,
   "id": "e1ed0490-7898-4ad3-a94b-3fb22c689e75",
   "metadata": {},
   "outputs": [
    {
     "name": "stdout",
     "output_type": "stream",
     "text": [
      "Training loss after 10 epochs: 0.673271356709781\n"
     ]
    }
   ],
   "source": [
    "model = WaterModel()\n",
    "\n",
    "# Define the Adam optimizer\n",
    "optimizer = optim.Adam(model.parameters(), lr=0.001)\n",
    "\n",
    "train_binary_classifier_model(optimizer=optimizer, model=model, epochs=10, dataloader=dataloader_train)"
   ]
  },
  {
   "cell_type": "markdown",
   "id": "aa02891d-c274-45c8-a191-e1e8fe43ae38",
   "metadata": {},
   "source": [
    "> Great job! Model training has some randomness to it and each time you get slightly different results, but it's very likely that you saw RMSprop and Adam decreasing the loss more than a simple SGD even after just 10 training epochs."
   ]
  },
  {
   "cell_type": "markdown",
   "id": "996c3f0c-7fda-47d1-9ed7-2a9515cfb4c4",
   "metadata": {},
   "source": [
    "### Ex.5 - Model evaluation\n",
    "\n",
    "With the training loop sorted out, you have trained the model for `1e3` epochs, and it is available to you as model. You have also set up a test_dataloader in exactly the same way as you did with `train_dataloader` before—just reading the data from the test rather than the train directory.\n",
    "\n",
    "You can now evaluate the model on test data. To do this, you will need to write the evaluation loop to iterate over the batches of test data, get the model's predictions for each batch, and calculate the accuracy score for it. Let's do it!\n",
    "\n",
    "**Instructions**\n",
    "\n",
    "1. Set up the evaluation metric as `Accuracy` for binary classification and assign it to acc.\n",
    "2. For each batch of test data, get the model's outputs and assign them to outputs.\n",
    "3. After the loop, compute the total test accuracy and assign it to `test_accuracy`."
   ]
  },
  {
   "cell_type": "markdown",
   "id": "bfecf5e8-dc9d-4d4e-ace0-09a491b59b4c",
   "metadata": {},
   "source": [
    "#### Build the model - WaterModel2"
   ]
  },
  {
   "cell_type": "code",
   "execution_count": 26,
   "id": "5cb042d3-93bc-4c42-af6e-9903aca4df9d",
   "metadata": {},
   "outputs": [
    {
     "data": {
      "text/plain": [
       "WaterModel2(\n",
       "  (model): Sequential(\n",
       "    (0): Linear(in_features=9, out_features=16, bias=True)\n",
       "    (1): ReLU()\n",
       "    (2): Linear(in_features=16, out_features=8, bias=True)\n",
       "    (3): ReLU()\n",
       "    (4): Linear(in_features=8, out_features=1, bias=True)\n",
       "    (5): Sigmoid()\n",
       "  )\n",
       ")"
      ]
     },
     "execution_count": 26,
     "metadata": {},
     "output_type": "execute_result"
    }
   ],
   "source": [
    "# Class-based model definition\n",
    "class WaterModel2(nn.Module):\n",
    "    \"\"\"Basic model for binary classifier problems using Sequential.\"\"\"\n",
    "    def __init__(self, seed=SEED):\n",
    "        super().__init__()\n",
    "        \n",
    "        torch.manual_seed(seed)\n",
    "        self.model = nn.Sequential(\n",
    "            nn.Linear(9, 16),\n",
    "            nn.ReLU(),\n",
    "            nn.Linear(16, 8),\n",
    "            nn.ReLU(),\n",
    "            nn.Linear(8, 1),\n",
    "            nn.Sigmoid()\n",
    "        )\n",
    "        \n",
    "    def forward(self, x):\n",
    "        x = x.float()\n",
    "        x = self.model(x)\n",
    "        return x.double()\n",
    "\n",
    "model = WaterModel2()\n",
    "model"
   ]
  },
  {
   "cell_type": "code",
   "execution_count": 27,
   "id": "c40bbf22-0176-45e9-9445-488c96a8bedf",
   "metadata": {},
   "outputs": [],
   "source": [
    "# Getting the dataset\n",
    "dataset_train = CSVDataSet(DATASET_FILE_WATER_POTABILITY_TRAIN)\n",
    "\n",
    "# Create a DataLoader based on dataset_train\n",
    "dataloader_train = DataLoader(dataset_train, batch_size=200, shuffle=True)\n",
    "\n",
    "# Set the criterion and teh optimizer\n",
    "criterion = nn.BCELoss()\n",
    "optimizer = optim.Adam(model.parameters(), lr=0.001)"
   ]
  },
  {
   "cell_type": "markdown",
   "id": "adec09cb-40d7-4d8c-a39e-c82b94ccdb23",
   "metadata": {},
   "source": [
    "#### Train the model"
   ]
  },
  {
   "cell_type": "code",
   "execution_count": 28,
   "id": "81462cef-7699-4d18-b40b-84aa9a179ca5",
   "metadata": {},
   "outputs": [
    {
     "name": "stdout",
     "output_type": "stream",
     "text": [
      "Epoch [100], Loss: 0.6248\n",
      "Epoch [200], Loss: 0.6338\n",
      "Epoch [300], Loss: 0.6618\n",
      "Epoch [400], Loss: 0.6621\n",
      "Epoch [500], Loss: 0.6602\n",
      "Epoch [600], Loss: 0.5986\n",
      "Epoch [700], Loss: 0.6498\n",
      "Epoch [800], Loss: 0.6445\n",
      "Epoch [900], Loss: 0.6001\n",
      "Epoch [1000], Loss: 0.6665\n"
     ]
    }
   ],
   "source": [
    "# Loop through the dataset multiple times\n",
    "losses = []\n",
    "epochs = int(1e3)\n",
    "model.train()\n",
    "for epoch in range(epochs):\n",
    "    for X, y in dataloader_train:\n",
    "        optimizer.zero_grad()\n",
    "        y_pred = model(X)\n",
    "        loss = criterion(y_pred, y.view(-1, 1))\n",
    "        loss.backward()\n",
    "        optimizer.step()\n",
    "    \n",
    "    losses.append(loss.item())         # Record the loss per epoch\n",
    "    if (epoch + 1) % 100 == 0:         # Print the loss every 100 epochs\n",
    "        print(f'Epoch [{epoch+1}], Loss: {loss.item():.4f}')"
   ]
  },
  {
   "cell_type": "markdown",
   "id": "71814202-f327-4207-94f1-4358057681c5",
   "metadata": {},
   "source": [
    "#### Evaluate the model"
   ]
  },
  {
   "cell_type": "code",
   "execution_count": 29,
   "id": "9dc36c6b-b746-40b2-83a2-d30520b545d9",
   "metadata": {},
   "outputs": [
    {
     "name": "stdout",
     "output_type": "stream",
     "text": [
      "Test Accuracy: 0.5586481094360352\n"
     ]
    }
   ],
   "source": [
    "# Get the dataset\n",
    "dataset_test = CSVDataSet(DATASET_FILE_WATER_POTABILITY_TEST)\n",
    "\n",
    "# Create a DataLoader based on dataset_train\n",
    "dataloader_test = DataLoader(dataset_test, batch_size=200, shuffle=True)\n",
    "\n",
    "# Set up binary accuracy metric\n",
    "acc = Accuracy(task=\"binary\")\n",
    "\n",
    "# Evaluate the model\n",
    "model.eval()\n",
    "with torch.no_grad():\n",
    "    for features, labels in dataloader_test:\n",
    "        outputs = model(features)\n",
    "        preds = (outputs >= 0.5).float()\n",
    "        acc(preds, labels.view(-1, 1))\n",
    "\n",
    "# Compute total test accuracy\n",
    "accuracy = acc.compute()\n",
    "print(f\"Test Accuracy: {accuracy}\")"
   ]
  },
  {
   "cell_type": "code",
   "execution_count": 30,
   "id": "a48200ce-1e8b-4168-9b22-610505a50b24",
   "metadata": {},
   "outputs": [
    {
     "data": {
      "image/png": "[encoded data removed]",
      "text/plain": [
       "<Figure size 640x480 with 2 Axes>"
      ]
     },
     "metadata": {},
     "output_type": "display_data"
    }
   ],
   "source": [
    "cm = confusion_matrix(labels.numpy(), \n",
    "                      preds.numpy().flatten())\n",
    "disp = ConfusionMatrixDisplay(confusion_matrix=cm)\n",
    "_ = disp.plot()"
   ]
  },
  {
   "cell_type": "code",
   "execution_count": 31,
   "id": "0abe6b54-94d6-4865-871b-b8c190ebb5e2",
   "metadata": {},
   "outputs": [
    {
     "data": {
      "text/plain": [
       "WaterModel2(\n",
       "  (model): Sequential(\n",
       "    (0): Linear(in_features=9, out_features=16, bias=True)\n",
       "    (1): ReLU()\n",
       "    (2): Linear(in_features=16, out_features=8, bias=True)\n",
       "    (3): ReLU()\n",
       "    (4): Linear(in_features=8, out_features=1, bias=True)\n",
       "    (5): Sigmoid()\n",
       "  )\n",
       ")"
      ]
     },
     "execution_count": 31,
     "metadata": {},
     "output_type": "execute_result"
    }
   ],
   "source": [
    "model"
   ]
  },
  {
   "cell_type": "markdown",
   "id": "1a1142c1-2d21-470d-8de3-f0eda9c3b095",
   "metadata": {},
   "source": [
    "## 1.3 Vanishing and exploding gradients\n",
    "\n",
    "**Exploding gradients problems**\n",
    "\n",
    "- Gradients get bigger and bigger\n",
    "- Parameter updates are too large\n",
    "- Training diverges\n",
    "\n",
    "**Solution to unstable gradients**\n",
    "1. Proper weights initialization\n",
    "2. Good activations\n",
    "3. Batch normalization\n",
    "\n",
    "### Fix 1 - Proper weights initialization"
   ]
  },
  {
   "cell_type": "code",
   "execution_count": 32,
   "id": "a618915e-3ff5-492d-9c0c-79952810b5be",
   "metadata": {},
   "outputs": [
    {
     "data": {
      "text/plain": [
       "WaterModel3(\n",
       "  (fc1): Linear(in_features=9, out_features=16, bias=True)\n",
       "  (fc2): Linear(in_features=16, out_features=8, bias=True)\n",
       "  (fc3): Linear(in_features=8, out_features=1, bias=True)\n",
       ")"
      ]
     },
     "execution_count": 32,
     "metadata": {},
     "output_type": "execute_result"
    }
   ],
   "source": [
    "# Build the improved model\n",
    "class WaterModel3(nn.Module):\n",
    "    \"\"\"Improved model for binary classifier problems with a solution to\n",
    "    exploding gradients problems.\n",
    "    \"\"\"\n",
    "    def __init__(self, seed=SEED):\n",
    "        super().__init__()\n",
    "        \n",
    "        torch.manual_seed(seed)\n",
    "        self.fc1 = nn.Linear(9, 16)\n",
    "        self.fc2 = nn.Linear(16, 8)\n",
    "        self.fc3 = nn.Linear(8, 1)\n",
    "\n",
    "        nn.init.kaiming_uniform_(self.fc1.weight)\n",
    "        nn.init.kaiming_uniform_(self.fc2.weight)\n",
    "        nn.init.kaiming_uniform_(self.fc3.weight, nonlinearity=\"sigmoid\")\n",
    "        \n",
    "    def forward(self, x):\n",
    "        x = x.float()\n",
    "        x = nn.functional.elu(self.fc1(x))\n",
    "        x = nn.functional.elu(self.fc2(x))\n",
    "        x = nn.functional.sigmoid(self.fc3(x))\n",
    "        return x.double()\n",
    "\n",
    "model = WaterModel3()\n",
    "model"
   ]
  },
  {
   "cell_type": "code",
   "execution_count": 33,
   "id": "80d68b8e-0d66-4a15-8b27-fa3cf5b010c9",
   "metadata": {},
   "outputs": [],
   "source": [
    "# Get the dataset\n",
    "dataset_train = CSVDataSet(DATASET_FILE_WATER_POTABILITY_TRAIN)\n",
    "\n",
    "# Create a DataLoader based on dataset_train\n",
    "dataloader_train = DataLoader(dataset_train, batch_size=200, shuffle=True)\n",
    "\n",
    "# Set the criterion and teh optimizer\n",
    "criterion = nn.BCELoss()\n",
    "optimizer = optim.Adam(model.parameters(), lr=0.001)"
   ]
  },
  {
   "cell_type": "code",
   "execution_count": 34,
   "id": "f8e67346-33ed-4ff9-8e0f-0a638456fb52",
   "metadata": {},
   "outputs": [
    {
     "name": "stdout",
     "output_type": "stream",
     "text": [
      "Epoch [100], Loss: 0.6741\n",
      "Epoch [200], Loss: 0.6679\n",
      "Epoch [300], Loss: 0.6783\n",
      "Epoch [400], Loss: 0.6509\n",
      "Epoch [500], Loss: 0.6451\n",
      "Epoch [600], Loss: 0.6454\n",
      "Epoch [700], Loss: 0.5998\n",
      "Epoch [800], Loss: 0.5966\n",
      "Epoch [900], Loss: 0.5555\n",
      "Epoch [1000], Loss: 0.5421\n"
     ]
    }
   ],
   "source": [
    "# Train the model\n",
    "losses = []\n",
    "epochs = int(1e3)\n",
    "model.train()\n",
    "for epoch in range(epochs):\n",
    "    for X, y in dataloader_train:\n",
    "        optimizer.zero_grad()\n",
    "        y_pred = model(X)\n",
    "        loss = criterion(y_pred, y.view(-1, 1))\n",
    "        loss.backward()\n",
    "        optimizer.step()\n",
    "    \n",
    "    losses.append(loss.item())         # Record the loss per epoch\n",
    "    if (epoch + 1) % 100 == 0:         # Print the loss every 100 epochs\n",
    "        print(f'Epoch [{epoch+1}], Loss: {loss.item():.4f}')"
   ]
  },
  {
   "cell_type": "code",
   "execution_count": 35,
   "id": "a5898b86-1888-4acb-a7b3-dab4a2318ca5",
   "metadata": {},
   "outputs": [
    {
     "name": "stdout",
     "output_type": "stream",
     "text": [
      "Test Accuracy: 0.679920494556427\n"
     ]
    }
   ],
   "source": [
    "# Evaluate the model\n",
    "dataset_test = CSVDataSet(DATASET_FILE_WATER_POTABILITY_TEST)\n",
    "dataloader_test = DataLoader(dataset_test, batch_size=200, shuffle=True)\n",
    "acc = Accuracy(task=\"binary\")\n",
    "model.eval()\n",
    "with torch.no_grad():\n",
    "    for features, labels in dataloader_test:\n",
    "        outputs = model(features)\n",
    "        preds = (outputs >= 0.5).float()\n",
    "        acc(preds, labels.view(-1, 1))\n",
    "\n",
    "accuracy = acc.compute()\n",
    "print(f\"Test Accuracy: {accuracy}\")"
   ]
  },
  {
   "cell_type": "code",
   "execution_count": 36,
   "id": "52dcc055-a87b-4ecb-acb0-6af0c0c7b7b1",
   "metadata": {},
   "outputs": [
    {
     "data": {
      "image/png": "[encoded data removed]",
      "text/plain": [
       "<Figure size 640x480 with 2 Axes>"
      ]
     },
     "metadata": {},
     "output_type": "display_data"
    }
   ],
   "source": [
    "cm = confusion_matrix(labels.numpy(), preds.numpy().flatten())\n",
    "disp = ConfusionMatrixDisplay(confusion_matrix=cm)\n",
    "_ = disp.plot()"
   ]
  },
  {
   "cell_type": "markdown",
   "id": "78ccf09f-6371-4338-8d5a-8449ba933899",
   "metadata": {},
   "source": [
    "### Fix 2 - Good activations\n",
    "\n",
    "| `nn.functional.relu()` | `nn.functional.elu()` |\n",
    "|----------------------|---------------------|\n",
    "| Often used as the default activation | Improvement of the default activation |\n",
    "| Zero for negative inputs - dying neurons | Non-zero gradients for negative values - helps against dying neurons <br>Average output around zero - helps against vanishing gradients |"
   ]
  },
  {
   "cell_type": "code",
   "execution_count": 37,
   "id": "8d1ffea1-6c2f-43b7-af1a-cabde1a91ce5",
   "metadata": {},
   "outputs": [
    {
     "data": {
      "text/plain": [
       "tensor([-0.1162377000,  0.9525790215])"
      ]
     },
     "execution_count": 37,
     "metadata": {},
     "output_type": "execute_result"
    }
   ],
   "source": [
    "nn.functional.elu(torch.randn(2))"
   ]
  },
  {
   "cell_type": "markdown",
   "id": "6752fa77-149d-4818-b8d6-75086d5babc0",
   "metadata": {},
   "source": [
    "### Fix 3 - Batch normalization\n",
    "\n",
    "After a layer:\n",
    "\n",
    "1. Normalize the layer's outputs by:\n",
    "    - Subtracting the mean\n",
    "    - Dividing by the standard deviation\n",
    "2. Scale and shift normalized outputs using learned parameters\n",
    "    - Model learns optimal inputs distribution for each layer:\n",
    "        - Faster loss decrease\n",
    "        - Helps against unstable gradients"
   ]
  },
  {
   "cell_type": "code",
   "execution_count": 38,
   "id": "bda88002-5e6b-420c-8b9f-62575dfe0158",
   "metadata": {},
   "outputs": [
    {
     "data": {
      "text/plain": [
       "WaterModel4(\n",
       "  (fc1): Linear(in_features=9, out_features=16, bias=True)\n",
       "  (bn1): BatchNorm1d(16, eps=1e-05, momentum=0.1, affine=True, track_running_stats=True)\n",
       "  (fc2): Linear(in_features=16, out_features=8, bias=True)\n",
       "  (bn2): BatchNorm1d(8, eps=1e-05, momentum=0.1, affine=True, track_running_stats=True)\n",
       "  (fc3): Linear(in_features=8, out_features=1, bias=True)\n",
       ")"
      ]
     },
     "execution_count": 38,
     "metadata": {},
     "output_type": "execute_result"
    }
   ],
   "source": [
    "# Build the improved model\n",
    "class WaterModel4(nn.Module):\n",
    "    \"\"\"Improved model for binary classifier problems with batchnormalization.\n",
    "    \"\"\"\n",
    "    def __init__(self, seed=SEED):\n",
    "        super().__init__()\n",
    "        \n",
    "        torch.manual_seed(seed)\n",
    "        self.fc1 = nn.Linear(9, 16)\n",
    "        self.bn1 = nn.BatchNorm1d(16)\n",
    "        self.fc2 = nn.Linear(16, 8)\n",
    "        self.bn2 = nn.BatchNorm1d(8)\n",
    "        self.fc3 = nn.Linear(8, 1)\n",
    "\n",
    "        nn.init.kaiming_uniform_(self.fc1.weight)\n",
    "        nn.init.kaiming_uniform_(self.fc2.weight)\n",
    "        nn.init.kaiming_uniform_(self.fc3.weight, nonlinearity=\"sigmoid\")\n",
    "        \n",
    "    def forward(self, x):\n",
    "        x = x.float()\n",
    "        x = self.fc1(x)\n",
    "        x = self.bn1(x)\n",
    "        x = nn.functional.elu(x)\n",
    "        x = self.fc2(x)\n",
    "        x = self.bn2(x)\n",
    "        x = nn.functional.elu(x)\n",
    "        x = nn.functional.sigmoid(self.fc3(x))\n",
    "        return x.double()\n",
    "\n",
    "model = WaterModel4()\n",
    "model"
   ]
  },
  {
   "cell_type": "code",
   "execution_count": 39,
   "id": "79e743cf-a527-4371-8079-4e0f002c23f3",
   "metadata": {},
   "outputs": [],
   "source": [
    "# Get the dataset\n",
    "dataset_train = CSVDataSet(DATASET_FILE_WATER_POTABILITY_TRAIN)\n",
    "\n",
    "# Create a DataLoader based on dataset_train\n",
    "dataloader_train = DataLoader(dataset_train, batch_size=200, shuffle=True)\n",
    "\n",
    "# Set the criterion and teh optimizer\n",
    "criterion = nn.BCELoss()\n",
    "optimizer = optim.Adam(model.parameters(), lr=0.001)"
   ]
  },
  {
   "cell_type": "code",
   "execution_count": 40,
   "id": "25c19891-ba73-4e25-beda-d502d741380f",
   "metadata": {},
   "outputs": [
    {
     "name": "stdout",
     "output_type": "stream",
     "text": [
      "Epoch [100], Loss: 0.6299\n",
      "Epoch [200], Loss: 0.5614\n",
      "Epoch [300], Loss: 0.5787\n",
      "Epoch [400], Loss: 0.5237\n",
      "Epoch [500], Loss: 0.4658\n",
      "Epoch [600], Loss: 0.6694\n",
      "Epoch [700], Loss: 0.5122\n",
      "Epoch [800], Loss: 0.5221\n",
      "Epoch [900], Loss: 0.4475\n",
      "Epoch [1000], Loss: 0.4968\n"
     ]
    }
   ],
   "source": [
    "# Train the model\n",
    "losses = []\n",
    "epochs = int(1e3)\n",
    "model.train()\n",
    "for epoch in range(epochs):\n",
    "    for X, y in dataloader_train:\n",
    "        optimizer.zero_grad()\n",
    "        y_pred = model(X)\n",
    "        loss = criterion(y_pred, y.view(-1, 1))\n",
    "        loss.backward()\n",
    "        optimizer.step()\n",
    "    \n",
    "    losses.append(loss.item())         # Record the loss per epoch\n",
    "    if (epoch + 1) % 100 == 0:         # Print the loss every 100 epochs\n",
    "        print(f'Epoch [{epoch+1}], Loss: {loss.item():.4f}')"
   ]
  },
  {
   "cell_type": "code",
   "execution_count": 41,
   "id": "46facbe6-b2ea-4c02-82e2-cf0b5d83f28b",
   "metadata": {},
   "outputs": [
    {
     "name": "stdout",
     "output_type": "stream",
     "text": [
      "Test Accuracy: 0.6600397825241089\n"
     ]
    }
   ],
   "source": [
    "# Evaluate the model\n",
    "dataset_test = CSVDataSet(DATASET_FILE_WATER_POTABILITY_TEST)\n",
    "dataloader_test = DataLoader(dataset_test, batch_size=200, shuffle=True)\n",
    "acc = Accuracy(task=\"binary\")\n",
    "model.eval()\n",
    "with torch.no_grad():\n",
    "    for features, labels in dataloader_test:\n",
    "        outputs = model(features)\n",
    "        preds = (outputs >= 0.5).float()\n",
    "        acc(preds, labels.view(-1, 1))\n",
    "\n",
    "accuracy = acc.compute()\n",
    "print(f\"Test Accuracy: {accuracy}\")"
   ]
  },
  {
   "cell_type": "code",
   "execution_count": 42,
   "id": "065cee41-f8fa-496f-aeb1-b46faf14943c",
   "metadata": {},
   "outputs": [
    {
     "data": {
      "image/png": "[encoded data removed]",
      "text/plain": [
       "<Figure size 640x480 with 2 Axes>"
      ]
     },
     "metadata": {},
     "output_type": "display_data"
    }
   ],
   "source": [
    "cm = confusion_matrix(labels.numpy(), preds.numpy().flatten())\n",
    "disp = ConfusionMatrixDisplay(confusion_matrix=cm)\n",
    "_ = disp.plot()"
   ]
  },
  {
   "cell_type": "markdown",
   "id": "12b4e5cf-7fa4-4d26-ab36-46e200725765",
   "metadata": {},
   "source": [
    "### Ex.4 - Initialization and activation\n",
    "The problems of unstable (vanishing or exploding) gradients are a challenge that often arises in training deep neural networks. In this and the following exercises, you will expand the model architecture that you built for the water potability classification task to make it more immune to those problems.\n",
    "\n",
    "As a first step, you'll improve the weights initialization by using He (Kaiming) initialization strategy. To do so, you will need to call the proper initializer from the torch.nn.init module, which has been imported for you as init. Next, you will update the activations functions from the default `ReLU` to the often better `ELU`.\n",
    "\n",
    "**Instructions**\n",
    "\n",
    "1. Call the He (Kaiming) initializer on the weight attribute of the second layer, `fc2`, similarly to how it's done for `fc1`.\n",
    "2. Call the He (Kaiming) initializer on the weight attribute of the third layer, `fc3`, accounting for the different activation function used in the final layer.\n",
    "3. Update the activation functions in the `forward()` method from `relu` to `elu`."
   ]
  },
  {
   "cell_type": "code",
   "execution_count": 43,
   "id": "3ffe5f1c-3c3e-459c-a27e-ca41f97434ba",
   "metadata": {},
   "outputs": [
    {
     "data": {
      "text/plain": [
       "Net(\n",
       "  (fc1): Linear(in_features=9, out_features=16, bias=True)\n",
       "  (fc2): Linear(in_features=16, out_features=8, bias=True)\n",
       "  (fc3): Linear(in_features=8, out_features=1, bias=True)\n",
       ")"
      ]
     },
     "execution_count": 43,
     "metadata": {},
     "output_type": "execute_result"
    }
   ],
   "source": [
    "class Net(nn.Module):\n",
    "    def __init__(self):\n",
    "        super(Net, self).__init__()\n",
    "        self.fc1 = nn.Linear(9, 16)\n",
    "        self.fc2 = nn.Linear(16, 8)\n",
    "        self.fc3 = nn.Linear(8, 1)\n",
    "        \n",
    "        # Apply He initialization\n",
    "        nn.init.kaiming_uniform_(self.fc1.weight)\n",
    "        nn.init.kaiming_uniform_(self.fc2.weight)\n",
    "        nn.init.kaiming_uniform_(self.fc3.weight, nonlinearity=\"sigmoid\")\n",
    "\n",
    "    def forward(self, x):\n",
    "        # Update ReLU activation to ELU\n",
    "        x = nn.functional.elu(self.fc1(x))\n",
    "        x = nn.functional.elu(self.fc2(x))\n",
    "        x = nn.functional.sigmoid(self.fc3(x))\n",
    "        return x\n",
    "model = Net()\n",
    "model"
   ]
  },
  {
   "cell_type": "markdown",
   "id": "b835bc5f-370b-4096-a049-1bf71cbd845b",
   "metadata": {},
   "source": [
    "## Ex.5 - Batch Normalization\n",
    "As a final improvement to the model architecture, let's add the batch normalization layer after each of the two linear layers. The batch norm trick tends to accelerate training convergence and protects the model from vanishing and exploding gradients issues.\n",
    "\n",
    "Both `torch.nn` and `torch.nn.init` have already been imported for you as `nn` and `init`, respectively. Once you implement the change in the model architecture, be ready to answer a short question on how batch normalization works!\n",
    "\n",
    "**Instructions**\n",
    "\n",
    "1. Add two `BatchNorm1d` layers assigning them to `self.bn1` and `self.bn2`.\n",
    "2. In the `forward()` method, pass `x` through the second set of layers: the linear layer, the batch norm layer, and the activations, similarly to how it's done for the first set of layers.\n",
    "3. Which of the following statements is true about batch normalization?\n",
    "> **Possible answers**\n",
    "> - [ ] Adding batch normalization doesn't impact the number of parameters the model has to learn.\n",
    "> - [ ] Batch normalization normalizes a layer's inputs to a standard normal distribution and passes these normalized values further.\n",
    "> - [X] Batch normalization effectively learns the optimal input distribution for each layer it precedes."
   ]
  },
  {
   "cell_type": "code",
   "execution_count": 44,
   "id": "91bd4697-ba76-4147-9131-93a6fec5a66a",
   "metadata": {},
   "outputs": [
    {
     "data": {
      "text/plain": [
       "Net(\n",
       "  (fc1): Linear(in_features=9, out_features=16, bias=True)\n",
       "  (fc2): Linear(in_features=16, out_features=8, bias=True)\n",
       "  (fc3): Linear(in_features=8, out_features=1, bias=True)\n",
       "  (bn1): BatchNorm1d(16, eps=1e-05, momentum=0.1, affine=True, track_running_stats=True)\n",
       "  (bn2): BatchNorm1d(8, eps=1e-05, momentum=0.1, affine=True, track_running_stats=True)\n",
       ")"
      ]
     },
     "execution_count": 44,
     "metadata": {},
     "output_type": "execute_result"
    }
   ],
   "source": [
    "class Net(nn.Module):\n",
    "    def __init__(self):\n",
    "        super(Net, self).__init__()\n",
    "        self.fc1 = nn.Linear(9, 16)\n",
    "        self.fc2 = nn.Linear(16, 8)\n",
    "        self.fc3 = nn.Linear(8, 1)\n",
    "        # Add two batch normalization layers\n",
    "        self.bn1 = nn.BatchNorm1d(16)\n",
    "        self.bn2 = nn.BatchNorm1d(8)\n",
    "        \n",
    "        nn.init.kaiming_uniform_(self.fc1.weight)\n",
    "        nn.init.kaiming_uniform_(self.fc2.weight)\n",
    "        nn.init.kaiming_uniform_(self.fc3.weight, nonlinearity=\"sigmoid\") \n",
    "    \n",
    "    def forward(self, x):\n",
    "        x = self.fc1(x)\n",
    "        x = self.bn1(x)\n",
    "        x = nn.functional.elu(x)\n",
    "\n",
    "        # Pass x through the second set of layers\n",
    "        x = self.fc2(x)\n",
    "        x = self.bn2(x)\n",
    "        x = nn.functional.elu(x)\n",
    "\n",
    "        x = nn.functional.sigmoid(self.fc3(x))\n",
    "        return x\n",
    "\n",
    "model = Net()\n",
    "model"
   ]
  },
  {
   "cell_type": "markdown",
   "id": "5fa783f7-4496-417f-9b9f-aa36c3ec6227",
   "metadata": {},
   "source": [
    "-----------------------------"
   ]
  }
 ],
 "metadata": {
  "kernelspec": {
   "display_name": "Python 3 (ipykernel)",
   "language": "python",
   "name": "python3"
  },
  "language_info": {
   "codemirror_mode": {
    "name": "ipython",
    "version": 3
   },
   "file_extension": ".py",
   "mimetype": "text/x-python",
   "name": "python",
   "nbconvert_exporter": "python",
   "pygments_lexer": "ipython3",
   "version": "3.8.19"
  }
 },
 "nbformat": 4,
 "nbformat_minor": 5
}
