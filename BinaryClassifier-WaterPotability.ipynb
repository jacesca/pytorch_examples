{
 "cells": [
  {
   "cell_type": "markdown",
   "id": "dee87fba-4b2e-4a82-973a-e20cef93162d",
   "metadata": {},
   "source": [
    "# Predicting Agua Potabilization\n",
    "\n",
    "Data source: \n",
    "- Training: water_test.csv\n",
    "- Testing: water_train.csv\n",
    "\n",
    "Predicting: 0 no potable, 1 potable\n",
    "\n",
    "## 1. Prepare environment"
   ]
  },
  {
   "cell_type": "code",
   "execution_count": 1,
   "id": "7e02ee76-f03a-40ab-b7ca-96eb21dba662",
   "metadata": {},
   "outputs": [],
   "source": [
    "# Importing libraries\n",
    "import expectexception\n",
    "import numpy as np\n",
    "import pandas as pd\n",
    "import matplotlib.pyplot as plt\n",
    "\n",
    "import torch\n",
    "import torch.nn as nn\n",
    "import torch.optim as optim\n",
    "\n",
    "from environment import prepare_environment\n",
    "\n",
    "from typing import List, Tuple\n",
    "from sklearn.metrics import confusion_matrix, ConfusionMatrixDisplay\n",
    "\n",
    "from torch.utils.data import Dataset, DataLoader\n",
    "from torchmetrics import Accuracy"
   ]
  },
  {
   "cell_type": "code",
   "execution_count": 2,
   "id": "f526cef4-e9fd-4e47-8db7-c6937e831364",
   "metadata": {},
   "outputs": [],
   "source": [
    "# Global variables\n",
    "# global variables\n",
    "SEED = 42\n",
    "\n",
    "DATASET_FILE_WATER_POTABILITY_TRAIN = 'data-sources/water_train.csv'\n",
    "DATASET_FILE_WATER_POTABILITY_TEST = 'data-sources/water_test.csv'"
   ]
  },
  {
   "cell_type": "code",
   "execution_count": 3,
   "id": "d08ec658-3082-43a3-9275-b09164cbc5d4",
   "metadata": {},
   "outputs": [
    {
     "data": {
      "text/plain": [
       "True"
      ]
     },
     "execution_count": 3,
     "metadata": {},
     "output_type": "execute_result"
    }
   ],
   "source": [
    "# Check if your GPU driver and CUDA is enabled and accessible by PyTorch\n",
    "torch.cuda.is_available()"
   ]
  },
  {
   "cell_type": "code",
   "execution_count": 4,
   "id": "0a381f7b-e8e3-49f2-b67d-7548979c78c8",
   "metadata": {},
   "outputs": [
    {
     "data": {
      "text/plain": [
       "<torch._C.Generator at 0x26c08d507b0>"
      ]
     },
     "execution_count": 4,
     "metadata": {},
     "output_type": "execute_result"
    }
   ],
   "source": [
    "# Global configuration\n",
    "prepare_environment()\n",
    "\n",
    "torch.set_printoptions(precision=10)\n",
    "\n",
    "# Reproducibility\n",
    "np.random.seed(SEED)\n",
    "torch.manual_seed(SEED)"
   ]
  },
  {
   "cell_type": "markdown",
   "id": "eaac5a22-e981-415f-9e18-5db283f44f8f",
   "metadata": {},
   "source": [
    "### Utilities"
   ]
  },
  {
   "cell_type": "code",
   "execution_count": 5,
   "id": "8972afda-b86b-4e82-b3ff-b001ff4b78f7",
   "metadata": {},
   "outputs": [],
   "source": [
    "class CSVDataSet(Dataset):\n",
    "    \"\"\"\n",
    "    PyTorch Dataset extended to load the data based on a given CSV file\n",
    "    Assumptions:\n",
    "    - Only CSV files can be imported.\n",
    "    - All columns in the CSV file are included unless the `cols_to_include` list is defined. \n",
    "      In that case only the columns' name included in the list are considered.\n",
    "    - The last column of the loaded dataset is the target/label column.\n",
    "    \"\"\"\n",
    "    \n",
    "    def __init__(self, csv_path:str, cols_to_include:List['str'] = None) -> None:\n",
    "        super().__init__\n",
    "        data = pd.read_csv(csv_path)\n",
    "        if cols_to_include:\n",
    "            data = data[cols_to_include]\n",
    "        self.data = data.to_numpy()\n",
    "\n",
    "    def __len__(self) -> int:\n",
    "        return self.data.shape[0]\n",
    "\n",
    "    def __getitem__(self, idx:int) -> Tuple[np.ndarray, np.ndarray]:\n",
    "        features = self.data[idx, :-1]\n",
    "        label = self.data[idx, -1]\n",
    "        return features, label"
   ]
  },
  {
   "cell_type": "code",
   "execution_count": 6,
   "id": "8dfbc5df-0ba2-4bed-b63f-fd9eeec4e810",
   "metadata": {},
   "outputs": [],
   "source": [
    "# Build the binary classifier model\n",
    "class WaterModel(nn.Module):\n",
    "    \"\"\"Improved model for binary classifier problems with a solution to\n",
    "    exploding gradients problems.\n",
    "    \"\"\"\n",
    "    def __init__(self, seed:int=SEED) -> None:\n",
    "        super().__init__()\n",
    "        \n",
    "        torch.manual_seed(seed)\n",
    "        self.fc1 = nn.Linear(9, 16)\n",
    "        self.fc2 = nn.Linear(16, 8)\n",
    "        self.fc3 = nn.Linear(8, 1)\n",
    "\n",
    "        nn.init.kaiming_uniform_(self.fc1.weight)\n",
    "        nn.init.kaiming_uniform_(self.fc2.weight)\n",
    "        nn.init.kaiming_uniform_(self.fc3.weight, nonlinearity=\"sigmoid\")\n",
    "        \n",
    "    def forward(self, x:torch.Tensor) -> torch.Tensor:\n",
    "        x = x.float()\n",
    "        x = nn.functional.relu(self.fc1(x))\n",
    "        x = nn.functional.relu(self.fc2(x))\n",
    "        x = nn.functional.sigmoid(self.fc3(x))\n",
    "        return x.double()"
   ]
  },
  {
   "cell_type": "markdown",
   "id": "3be31c95-7e5a-42af-b9d5-bc99b15ce9ca",
   "metadata": {},
   "source": [
    "## 2. Get dataloader"
   ]
  },
  {
   "cell_type": "code",
   "execution_count": 7,
   "id": "054a8e5a-a6fb-4fc9-bc9c-3560ed3d852f",
   "metadata": {},
   "outputs": [
    {
     "name": "stdout",
     "output_type": "stream",
     "text": [
      "\n",
      "Train dataset size: 1508\n",
      "Test dataset size: 503\n",
      "\n"
     ]
    }
   ],
   "source": [
    "# Get the dataset\n",
    "dataset_train = CSVDataSet(DATASET_FILE_WATER_POTABILITY_TRAIN)\n",
    "dataset_test = CSVDataSet(DATASET_FILE_WATER_POTABILITY_TEST)\n",
    "print(f\"\"\"\n",
    "Train dataset size: {len(dataset_train)}\n",
    "Test dataset size: {len(dataset_test)}\n",
    "\"\"\")\n",
    "\n",
    "# Create a DataLoader based on dataset_train\n",
    "dataloader_train = DataLoader(dataset_train, batch_size=200, shuffle=True)\n",
    "dataloader_test = DataLoader(dataset_test, batch_size=200, shuffle=True)"
   ]
  },
  {
   "cell_type": "markdown",
   "id": "97f64802-0008-429f-bc4b-f79738557b84",
   "metadata": {},
   "source": [
    "## 3. Build the model"
   ]
  },
  {
   "cell_type": "code",
   "execution_count": 8,
   "id": "3ca2aa33-8927-4646-80cc-922782d6f8a5",
   "metadata": {},
   "outputs": [
    {
     "name": "stdout",
     "output_type": "stream",
     "text": [
      "WaterModel(\n",
      "  (fc1): Linear(in_features=9, out_features=16, bias=True)\n",
      "  (fc2): Linear(in_features=16, out_features=8, bias=True)\n",
      "  (fc3): Linear(in_features=8, out_features=1, bias=True)\n",
      ")\n"
     ]
    }
   ],
   "source": [
    "# Build the model\n",
    "model = WaterModel()\n",
    "print(model)\n",
    "\n",
    "# Set the criterion and teh optimizer\n",
    "criterion = nn.BCELoss()\n",
    "optimizer = optim.Adam(model.parameters(), lr=0.001, weight_decay=1e-4)\n",
    "\n",
    "# Create accuracy metric\n",
    "accuracy = Accuracy(task=\"multiclass\", num_classes=2)"
   ]
  },
  {
   "cell_type": "markdown",
   "id": "b5fb9c61-a0f5-4a7c-86e6-8984573620fd",
   "metadata": {},
   "source": [
    "## 4. Train the model"
   ]
  },
  {
   "cell_type": "code",
   "execution_count": 9,
   "id": "5007997f-7efa-438a-a0c9-43f589b06143",
   "metadata": {},
   "outputs": [
    {
     "name": "stdout",
     "output_type": "stream",
     "text": [
      "Epoch [100], Loss: 0.670139, Accuracy: 0.597480\n",
      "Epoch [200], Loss: 0.642792, Accuracy: 0.613395\n",
      "Epoch [300], Loss: 0.657562, Accuracy: 0.688992\n",
      "Epoch [400], Loss: 0.532187, Accuracy: 0.703581\n",
      "Epoch [500], Loss: 0.531636, Accuracy: 0.704244\n",
      "Epoch [600], Loss: 0.622851, Accuracy: 0.708886\n",
      "Epoch [700], Loss: 0.568929, Accuracy: 0.707560\n",
      "Epoch [800], Loss: 0.584961, Accuracy: 0.708223\n",
      "Epoch [900], Loss: 0.549933, Accuracy: 0.711538\n",
      "Epoch [1000], Loss: 0.544126, Accuracy: 0.720822\n"
     ]
    }
   ],
   "source": [
    "# Train the model\n",
    "losses = []\n",
    "accuracies = []\n",
    "epochs = int(1e3)\n",
    "model.train()\n",
    "for epoch in range(epochs):\n",
    "    for X, y in dataloader_train:                   # Get feature and target from the data loader\n",
    "        optimizer.zero_grad()                       # zero the parameter gradients\n",
    "        y_out = model(X)                            # Run a forward pass\n",
    "        y_pred = (y_out >= 0.5).float()             # threading = 0.5\n",
    "        loss = criterion(y_out, y.view(-1, 1))      # Compute loss\n",
    "        loss.backward()                             # Backward pass\n",
    "        optimizer.step()                            # Optimization\n",
    "        accuracy(y_pred, y.view(-1, 1))             # Calculate accuracy\n",
    "\n",
    "    accuracies.append(accuracy.compute())           # Record the epoch accuracy\n",
    "    accuracy.reset()                                # Reset the metric for the next epoch \n",
    "    losses.append(loss.item())                      # Record the loss per epoch\n",
    "    \n",
    "    if (epoch + 1) % 100 == 0:                      # Print the loss every 100 epochs\n",
    "        print(f'Epoch [{epoch+1}], Loss: {loss.item():.6f}, Accuracy: {accuracies[-1]:.6f}')"
   ]
  },
  {
   "cell_type": "code",
   "execution_count": 10,
   "id": "bf281ea6-d5fd-4a3a-9ebf-e21d1f7c6213",
   "metadata": {},
   "outputs": [
    {
     "data": {
      "image/png": "[encoded data removed]",
      "text/plain": [
       "<Figure size 1000x400 with 2 Axes>"
      ]
     },
     "metadata": {},
     "output_type": "display_data"
    }
   ],
   "source": [
    "# Visualizing the loss and accuracy in training set\n",
    "fig, (ax1, ax2) = plt.subplots(1, 2, figsize=(10, 4))\n",
    "ax1.plot(range(epochs), losses)\n",
    "ax1.set_title(\"Training Loss over Epochs\")\n",
    "ax1.set_xlabel('Epochs')\n",
    "ax1.set_ylabel('Loss')\n",
    "\n",
    "ax2.plot(range(epochs), accuracies)\n",
    "ax2.set_title(\"Training Accuracy over Epochs\")\n",
    "ax2.set_xlabel('Epochs')\n",
    "ax2.set_ylabel('Accuracy')\n",
    "plt.show()"
   ]
  },
  {
   "cell_type": "markdown",
   "id": "78430dc6-e0d8-4a9c-abf2-9bd861377672",
   "metadata": {},
   "source": [
    "## 5. Evaluate model"
   ]
  },
  {
   "cell_type": "code",
   "execution_count": 11,
   "id": "e335d514-4d78-4d91-97d4-d7cb20effa89",
   "metadata": {},
   "outputs": [
    {
     "name": "stdout",
     "output_type": "stream",
     "text": [
      "Test Accuracy: 0.6838966012001038\n"
     ]
    }
   ],
   "source": [
    "# Evaluate the model\n",
    "model.eval()\n",
    "with torch.no_grad():\n",
    "    for X, y in dataloader_test:\n",
    "        y_out = model(X)\n",
    "        y_pred = (y_out >= 0.5).float()\n",
    "        accuracy(y_pred, y.view(-1, 1))\n",
    "\n",
    "# Compute total test accuracy\n",
    "testing_accuracy = accuracy.compute()\n",
    "accuracy.reset()\n",
    "print(f\"Test Accuracy: {testing_accuracy}\")"
   ]
  },
  {
   "cell_type": "code",
   "execution_count": 12,
   "id": "df557c57-9789-41b0-a09d-554b1ce07557",
   "metadata": {},
   "outputs": [
    {
     "data": {
      "image/png": "[encoded data removed]",
      "text/plain": [
       "<Figure size 640x480 with 2 Axes>"
      ]
     },
     "metadata": {},
     "output_type": "display_data"
    }
   ],
   "source": [
    "cm = confusion_matrix(y.numpy().flatten(), \n",
    "                      y_pred.numpy().flatten())\n",
    "disp = ConfusionMatrixDisplay(confusion_matrix=cm)\n",
    "_ = disp.plot()"
   ]
  },
  {
   "cell_type": "code",
   "execution_count": 13,
   "id": "66ebc2c7-2881-494a-bb6b-24f5914e4532",
   "metadata": {},
   "outputs": [
    {
     "data": {
      "text/html": [
       "<div>\n",
       "<style scoped>\n",
       "    .dataframe tbody tr th:only-of-type {\n",
       "        vertical-align: middle;\n",
       "    }\n",
       "\n",
       "    .dataframe tbody tr th {\n",
       "        vertical-align: top;\n",
       "    }\n",
       "\n",
       "    .dataframe thead th {\n",
       "        text-align: right;\n",
       "    }\n",
       "</style>\n",
       "<table border=\"1\" class=\"dataframe\">\n",
       "  <thead>\n",
       "    <tr style=\"text-align: right;\">\n",
       "      <th></th>\n",
       "      <th>y_true</th>\n",
       "      <th>y_pred</th>\n",
       "      <th>Accerted</th>\n",
       "    </tr>\n",
       "  </thead>\n",
       "  <tbody>\n",
       "    <tr>\n",
       "      <th>0</th>\n",
       "      <td>0.0</td>\n",
       "      <td>0.0</td>\n",
       "      <td>True</td>\n",
       "    </tr>\n",
       "    <tr>\n",
       "      <th>1</th>\n",
       "      <td>0.0</td>\n",
       "      <td>0.0</td>\n",
       "      <td>True</td>\n",
       "    </tr>\n",
       "    <tr>\n",
       "      <th>2</th>\n",
       "      <td>0.0</td>\n",
       "      <td>0.0</td>\n",
       "      <td>True</td>\n",
       "    </tr>\n",
       "    <tr>\n",
       "      <th>3</th>\n",
       "      <td>0.0</td>\n",
       "      <td>0.0</td>\n",
       "      <td>True</td>\n",
       "    </tr>\n",
       "    <tr>\n",
       "      <th>4</th>\n",
       "      <td>1.0</td>\n",
       "      <td>1.0</td>\n",
       "      <td>True</td>\n",
       "    </tr>\n",
       "    <tr>\n",
       "      <th>...</th>\n",
       "      <td>...</td>\n",
       "      <td>...</td>\n",
       "      <td>...</td>\n",
       "    </tr>\n",
       "    <tr>\n",
       "      <th>98</th>\n",
       "      <td>0.0</td>\n",
       "      <td>0.0</td>\n",
       "      <td>True</td>\n",
       "    </tr>\n",
       "    <tr>\n",
       "      <th>99</th>\n",
       "      <td>1.0</td>\n",
       "      <td>1.0</td>\n",
       "      <td>True</td>\n",
       "    </tr>\n",
       "    <tr>\n",
       "      <th>100</th>\n",
       "      <td>0.0</td>\n",
       "      <td>0.0</td>\n",
       "      <td>True</td>\n",
       "    </tr>\n",
       "    <tr>\n",
       "      <th>101</th>\n",
       "      <td>0.0</td>\n",
       "      <td>0.0</td>\n",
       "      <td>True</td>\n",
       "    </tr>\n",
       "    <tr>\n",
       "      <th>102</th>\n",
       "      <td>1.0</td>\n",
       "      <td>1.0</td>\n",
       "      <td>True</td>\n",
       "    </tr>\n",
       "  </tbody>\n",
       "</table>\n",
       "<p>103 rows × 3 columns</p>\n",
       "</div>"
      ],
      "text/plain": [
       "     y_true  y_pred Accerted\n",
       "0       0.0     0.0     True\n",
       "1       0.0     0.0     True\n",
       "2       0.0     0.0     True\n",
       "3       0.0     0.0     True\n",
       "4       1.0     1.0     True\n",
       "..      ...     ...      ...\n",
       "98      0.0     0.0     True\n",
       "99      1.0     1.0     True\n",
       "100     0.0     0.0     True\n",
       "101     0.0     0.0     True\n",
       "102     1.0     1.0     True\n",
       "\n",
       "[103 rows x 3 columns]"
      ]
     },
     "execution_count": 13,
     "metadata": {},
     "output_type": "execute_result"
    }
   ],
   "source": [
    "pd.DataFrame({\n",
    "    'y_true': y.numpy().flatten(),\n",
    "    'y_pred': y_pred.numpy().flatten(),\n",
    "    'Accerted': ['True' \n",
    "                 if y.numpy().flatten()[i] == y_pred.numpy().flatten()[i]\n",
    "                 else ''\n",
    "                 for i in range(len(y))] \n",
    "})"
   ]
  },
  {
   "cell_type": "markdown",
   "id": "7c6dfe79-b01c-4f68-8e5c-743d36fb7197",
   "metadata": {},
   "source": [
    "----------------------------------"
   ]
  }
 ],
 "metadata": {
  "kernelspec": {
   "display_name": "Python 3 (ipykernel)",
   "language": "python",
   "name": "python3"
  },
  "language_info": {
   "codemirror_mode": {
    "name": "ipython",
    "version": 3
   },
   "file_extension": ".py",
   "mimetype": "text/x-python",
   "name": "python",
   "nbconvert_exporter": "python",
   "pygments_lexer": "ipython3",
   "version": "3.8.19"
  }
 },
 "nbformat": 4,
 "nbformat_minor": 5
}
